{
  "nbformat": 4,
  "nbformat_minor": 0,
  "metadata": {
    "accelerator": "GPU",
    "colab": {
      "provenance": [],
      "collapsed_sections": [
        "W17jUoA2pwjm",
        "8A4Eoxgop1qX",
        "bRf9hcyFgZZ1",
        "ROjfjLaBfcBU",
        "NQrV3BIMTZuj",
        "PS3pYaNPgR8g",
        "RjpGdluPLZka",
        "ByxjLTWCQTE7",
        "liw2QcajQxGM",
        "zqNwcGyvLcPx",
        "h_t-B6-pLg8Q",
        "icfDiBX_cqpG",
        "sELQp-gpL-Ww",
        "6CXxNBRuZynf",
        "fpDJxaP4Zqtn",
        "jpfRUIikLxQ4",
        "j6XTj55a9gcU",
        "ZK4fvmjkg7fV",
        "qbYWJ3DyLDSK",
        "PK3E_9xxLDSN",
        "794r5doCLDSP",
        "Kilx5p9SLDSQ",
        "U3A_iQBTX297",
        "IQARpaZR-g-k",
        "zTUsqxDmYdkg",
        "y3DO5r8ZY-qd",
        "6VvB8kwrZWzO",
        "5oAUHymMZgob",
        "XoHyJTRaaC2F",
        "JGOEXFkLaYsc",
        "NM2Lwa-vY9Fs"
      ],
      "machine_shape": "hm",
      "include_colab_link": true
    },
    "kernelspec": {
      "display_name": "Python 3",
      "language": "python",
      "name": "python3"
    },
    "language_info": {
      "codemirror_mode": {
        "name": "ipython",
        "version": 3
      },
      "file_extension": ".py",
      "mimetype": "text/x-python",
      "name": "python",
      "nbconvert_exporter": "python",
      "pygments_lexer": "ipython3",
      "version": "3.7.6"
    }
  },
  "cells": [
    {
      "cell_type": "markdown",
      "metadata": {
        "id": "view-in-github",
        "colab_type": "text"
      },
      "source": [
        "<a href=\"https://colab.research.google.com/github/Sanzid-Priam/Estimating-lower-extremity-joint-angles-during-gait-using-reduced-number-of-sensors-count-/blob/main/ICDIP_Kinematics_Net.ipynb\" target=\"_parent\"><img src=\"https://colab.research.google.com/assets/colab-badge.svg\" alt=\"Open In Colab\"/></a>"
      ]
    },
    {
      "cell_type": "code",
      "metadata": {
        "colab": {
          "base_uri": "https://localhost:8080/"
        },
        "id": "AQ_iJPPKh7zX",
        "outputId": "20b158c7-e3ff-403c-920c-022e9d0af7e5"
      },
      "source": [
        "# Let`s import all packages that we may need:\n",
        "import numpy\n",
        "import tensorflow as tf\n",
        "import statistics\n",
        "from numpy import loadtxt\n",
        "import matplotlib.pyplot as plt\n",
        "import pandas\n",
        "import math\n",
        "from tensorflow.keras.models import Sequential\n",
        "from tensorflow.keras.layers import Dense\n",
        "from tensorflow.keras.layers import GRU,LSTM\n",
        "from sklearn.preprocessing import MinMaxScaler\n",
        "from sklearn.metrics import mean_squared_error\n",
        "from statistics import stdev\n",
        "import math\n",
        "\n",
        "from tensorflow.keras.models import load_model\n",
        "\n",
        "\n",
        "\n",
        "import numpy as np\n",
        "from scipy.signal import butter,filtfilt\n",
        "\n",
        "import sys\n",
        "import numpy as np # linear algebra\n",
        "from scipy.stats import randint\n",
        "import pandas as pd # data processing, CSV file I/O (e.g. pd.read_csv), data manipulation as in SQL\n",
        "import matplotlib.pyplot as plt # this is used for the plot the graph\n",
        "import seaborn as sns # used for plot interactive graph.\n",
        "import pandas\n",
        "import matplotlib.pyplot as plt\n",
        "\n",
        "## for Deep-learing:\n",
        "import tensorflow.keras\n",
        "from tensorflow.keras.layers import Dense\n",
        "from tensorflow.keras.models import Sequential\n",
        "from tensorflow.keras.utils import to_categorical\n",
        "to_categorical([0, 1, 2, 3], num_classes=4)\n",
        "from tensorflow.keras.optimizers import SGD\n",
        "from tensorflow.keras.callbacks import EarlyStopping\n",
        "# from tensorflow.keras.utils import np_utils\n",
        "import itertools\n",
        "from tensorflow.keras.layers import LSTM\n",
        "from keras.layers.convolutional import Conv1D\n",
        "from keras.layers.convolutional import MaxPooling1D\n",
        "from keras.layers import Dropout\n",
        "from keras.layers import TimeDistributed\n",
        "from keras.layers import Flatten\n",
        "from keras.layers import Bidirectional\n",
        "#import constraint\n",
        "\n",
        "from sklearn.model_selection import train_test_split\n",
        "from keras.regularizers import l2\n",
        "\n",
        "\n",
        "###  Library for attention layers\n",
        "\n",
        "import pandas as pd\n",
        "#import pyarrow.parquet as pq # Used to read the data\n",
        "import os\n",
        "import numpy as np\n",
        "from tensorflow.keras.layers import * # Keras is the most friendly Neural Network library, this Kernel use a lot of layers classes\n",
        "from tensorflow.keras.models import Model\n",
        "from tqdm import tqdm # Processing time measurement\n",
        "from sklearn.model_selection import train_test_split\n",
        "from tensorflow.keras import backend as K # The backend give us access to tensorflow operations and allow us to create the Attention class\n",
        "from tensorflow.keras import optimizers # Allow us to access the Adam class to modify some parameters\n",
        "from sklearn.model_selection import GridSearchCV, StratifiedKFold # Used to use Kfold to train our model\n",
        "from tensorflow.keras.callbacks import * # This object helps the model to train in a smarter way, avoiding overfitting\n",
        "\n",
        "from tensorflow.keras.layers import Layer\n",
        "import tensorflow.keras.backend as K\n",
        "from tensorflow.keras import initializers\n",
        "from tensorflow.keras import regularizers\n",
        "import statistics\n",
        "import gc\n",
        "import h5py\n",
        "\n",
        "### Early stopping\n",
        "\n",
        "from tensorflow.keras.callbacks import EarlyStopping\n",
        "\n",
        "\n",
        "from google.colab import drive\n",
        "drive.mount('/content/drive',force_remount=True)"
      ],
      "execution_count": null,
      "outputs": [
        {
          "output_type": "stream",
          "name": "stdout",
          "text": [
            "Mounted at /content/drive\n"
          ]
        }
      ]
    },
    {
      "cell_type": "markdown",
      "metadata": {
        "id": "W17jUoA2pwjm"
      },
      "source": [
        "# Data Loader"
      ]
    },
    {
      "cell_type": "code",
      "execution_count": null,
      "metadata": {
        "id": "k1qJ-_XVjY3z"
      },
      "outputs": [],
      "source": [
        "##IMU, Kin-Kinematics, HoF-Histogram of Features\n",
        "\n",
        "def data_loader(subject):\n",
        "  with h5py.File('/content/drive/My Drive/Kinematics Prediction/All_subjects_data_kinetics.h5', 'r') as hf:\n",
        "    All_subjects = hf['All_subjects']\n",
        "    Subject = All_subjects[subject]\n",
        "\n",
        "    HOF=Subject['hof']\n",
        "    IMU_KIN=Subject['IMU_Kin']\n",
        "\n",
        "    treadmill_hof = HOF['Treadmill']\n",
        "    levelground_hof = HOF['Levelground']\n",
        "    slope_hof = HOF['Slope']\n",
        "    stair_hof = HOF['Stair']\n",
        "    round_hof = HOF['Round']\n",
        "    obstacles_hof = HOF['Obstacles']\n",
        "\n",
        "    treadmill_IMU_kin = IMU_KIN['Treadmill']\n",
        "    levelground_IMU_kin = IMU_KIN['Levelground']\n",
        "    slope_IMU_kin = IMU_KIN['Slope']\n",
        "    stair_IMU_kin = IMU_KIN['Stair']\n",
        "    round_IMU_kin= IMU_KIN['Round']\n",
        "    obstacles_IMU_kin = IMU_KIN['Obstacles']\n",
        "\n",
        "\n",
        "    hof_data=np.concatenate((treadmill_hof,levelground_hof,slope_hof,stair_hof,round_hof,obstacles_hof),axis=0)\n",
        "    IMU_kin_data=np.concatenate((treadmill_IMU_kin,levelground_IMU_kin,slope_IMU_kin,stair_IMU_kin,round_IMU_kin,obstacles_IMU_kin),axis=0)\n",
        "\n",
        "    return np.array(hof_data), np.array(IMU_kin_data)\n"
      ]
    },
    {
      "cell_type": "code",
      "execution_count": null,
      "metadata": {
        "colab": {
          "base_uri": "https://localhost:8080/"
        },
        "id": "53dWXPgXkt4w",
        "outputId": "03586655-3962-4c08-b3b5-5ad2b147b9c2"
      },
      "outputs": [
        {
          "output_type": "execute_result",
          "data": {
            "text/plain": [
              "0"
            ]
          },
          "metadata": {},
          "execution_count": 108
        }
      ],
      "source": [
        "subject_1_data_hof, subject_1_data_IMU_Kin=data_loader('Subject_1')\n",
        "gc.collect()\n",
        "subject_2_data_hof, subject_2_data_IMU_Kin=data_loader('Subject_2')\n",
        "gc.collect()\n",
        "subject_3_data_hof, subject_3_data_IMU_Kin=data_loader('Subject_3')\n",
        "gc.collect()\n",
        "subject_4_data_hof, subject_4_data_IMU_Kin=data_loader('Subject_4')\n",
        "gc.collect()\n",
        "subject_5_data_hof, subject_5_data_IMU_Kin=data_loader('Subject_5')\n",
        "gc.collect()\n",
        "subject_6_data_hof, subject_6_data_IMU_Kin=data_loader('Subject_6')\n",
        "gc.collect()\n",
        "subject_7_data_hof, subject_7_data_IMU_Kin=data_loader('Subject_7')\n",
        "gc.collect()\n",
        "subject_8_data_hof, subject_8_data_IMU_Kin=data_loader('Subject_8')\n",
        "gc.collect()\n",
        "subject_9_data_hof, subject_9_data_IMU_Kin=data_loader('Subject_9')\n",
        "gc.collect()\n",
        "subject_10_data_hof, subject_10_data_IMU_Kin=data_loader('Subject_10')\n",
        "gc.collect()"
      ]
    },
    {
      "cell_type": "markdown",
      "metadata": {
        "id": "8A4Eoxgop1qX"
      },
      "source": [
        "#Subject Selection"
      ]
    },
    {
      "cell_type": "code",
      "execution_count": null,
      "metadata": {
        "id": "aUDPyqjRoDoZ"
      },
      "outputs": [],
      "source": [
        "main_dir = \"/content/drive/My Drive/public dataset/Public_dataset_2/Subject01\"\n",
        "os.mkdir(main_dir)\n",
        "path=\"/content/\"\n",
        "subject='Subject_01'\n",
        "encoder='lstm'"
      ]
    },
    {
      "cell_type": "code",
      "execution_count": null,
      "metadata": {
        "id": "8iMx41lxp4Jp"
      },
      "outputs": [],
      "source": [
        "train_data_hof=np.concatenate((subject_1_data_hof,subject_2_data_hof,subject_4_data_hof,subject_5_data_hof,subject_6_data_hof,\n",
        "                               subject_7_data_hof,subject_8_data_hof,subject_9_data_hof,subject_10_data_hof),axis=0)\n",
        "\n",
        "train_data_IMU_Kin=np.concatenate((subject_1_data_IMU_Kin,subject_2_data_IMU_Kin,subject_4_data_IMU_Kin,subject_5_data_IMU_Kin,subject_6_data_IMU_Kin,\n",
        "                               subject_7_data_IMU_Kin,subject_8_data_IMU_Kin,subject_9_data_IMU_Kin,subject_10_data_IMU_Kin),axis=0)\n",
        "\n",
        "test_data_hof=subject_3_data_hof\n",
        "test_data_IMU_Kin=subject_3_data_IMU_Kin"
      ]
    },
    {
      "cell_type": "markdown",
      "source": [
        "# Data Processing"
      ],
      "metadata": {
        "id": "dbbpf3z7eCAf"
      }
    },
    {
      "cell_type": "code",
      "execution_count": null,
      "metadata": {
        "colab": {
          "base_uri": "https://localhost:8080/"
        },
        "id": "MGYu4d7pqFe3",
        "outputId": "639883d1-2854-4af4-9198-01f014a60b09"
      },
      "outputs": [
        {
          "output_type": "stream",
          "name": "stdout",
          "text": [
            "(1602477, 12)\n",
            "(534159, 36)\n",
            "(1602477, 6)\n"
          ]
        },
        {
          "output_type": "execute_result",
          "data": {
            "text/plain": [
              "0"
            ]
          },
          "metadata": {},
          "execution_count": 6
        }
      ],
      "source": [
        "##### IMUs-0:48\n",
        "# Sensor 1- Sternum\n",
        "# Sensor 2-Sacrum\n",
        "# Sensor 3-R_thigh\n",
        "# Sensor 4-L_thigh\n",
        "# Sensor 5-R_shank\n",
        "# Sensor 6-L_shank\n",
        "# Sensor 7-R_dorsal\n",
        "# Sensor 8-L_dorsal\n",
        "\n",
        "train_dataset_IMU=train_data_IMU_Kin[:,36:48]\n",
        "train_dataset_hof=train_data_hof\n",
        "train_dataset_target=np.concatenate((train_data_IMU_Kin[:,55:56],train_data_IMU_Kin[:,58:60],train_data_IMU_Kin[:,62:63],train_data_IMU_Kin[:,65:67]),axis=1) ## Left and right leg hip, knee,ankle angle\n",
        "\n",
        "\n",
        "test_dataset_IMU=test_data_IMU_Kin[:,36:48]\n",
        "test_dataset_hof=test_data_hof\n",
        "test_dataset_target=np.concatenate((test_data_IMU_Kin[:,55:56],test_data_IMU_Kin[:,58:60],test_data_IMU_Kin[:,62:63],test_data_IMU_Kin[:,65:67]),axis=1)\n",
        "\n",
        "print(train_dataset_IMU.shape)\n",
        "print(train_dataset_hof.shape)\n",
        "print(train_dataset_target.shape)\n",
        "\n",
        "\n",
        "gc.collect()\n",
        "gc.collect()\n",
        "gc.collect()\n"
      ]
    },
    {
      "cell_type": "markdown",
      "metadata": {
        "id": "bRf9hcyFgZZ1"
      },
      "source": [
        "# Data creation"
      ]
    },
    {
      "cell_type": "code",
      "metadata": {
        "id": "MF05NJYvUfuB"
      },
      "source": [
        "## Creating a dataset with overlapping window of 100 samples with overlap of 50 samples ##\n",
        "\n",
        "# # convert an array of values into a dataset matrix\n",
        "def create_dataset_present(dataset_1, window=100):\n",
        "  dataX= []\n",
        "  k=0\n",
        "  shift=50\n",
        "  for i in range(int(len(dataset_1)/shift)-1):\n",
        "    j=shift*k\n",
        "    a = dataset_1[j:j+window,:]\n",
        "    dataX.append(a)\n",
        "    k=k+1\n",
        "  return np.array(dataX)"
      ],
      "execution_count": null,
      "outputs": []
    },
    {
      "cell_type": "code",
      "metadata": {
        "id": "nNc_iwMpXkL4",
        "colab": {
          "base_uri": "https://localhost:8080/"
        },
        "outputId": "1a9a142b-f09f-44ec-e0e0-ec196ab4fa65"
      },
      "source": [
        "import gc\n",
        "gc.collect()"
      ],
      "execution_count": null,
      "outputs": [
        {
          "output_type": "execute_result",
          "data": {
            "text/plain": [
              "0"
            ]
          },
          "metadata": {},
          "execution_count": 8
        }
      ]
    },
    {
      "cell_type": "code",
      "metadata": {
        "id": "PWYwyhYhVImc"
      },
      "source": [
        "### Reconstruction/Present Dataset ###\n",
        "w=100\n",
        "\n",
        "train_X_3=create_dataset_present(train_dataset_IMU,w)\n",
        "train_y_3=create_dataset_present(train_dataset_target,w)\n",
        "\n",
        "test_X_1D=create_dataset_present(test_dataset_IMU,w)\n",
        "test_y=create_dataset_present(test_dataset_target,w)"
      ],
      "execution_count": null,
      "outputs": []
    },
    {
      "cell_type": "code",
      "metadata": {
        "id": "T7R8lC06V537"
      },
      "source": [
        "train_y_3=train_y_3.reshape(train_y_3.shape[0],w*6)\n",
        "test_y=test_y.reshape(test_y.shape[0],w*6)\n"
      ],
      "execution_count": null,
      "outputs": []
    },
    {
      "cell_type": "code",
      "metadata": {
        "id": "2pUXjTNPG2LT",
        "colab": {
          "base_uri": "https://localhost:8080/"
        },
        "outputId": "00440979-5985-48aa-cf77-e227717c5163"
      },
      "source": [
        "train_X_1D, X_validation_1D, train_y_5, Y_validation = train_test_split(train_X_3,train_y_3, test_size=0.20, random_state=True)\n",
        "\n",
        "\n",
        "train_X_1D=train_X_1D\n",
        "X_validation_1D=X_validation_1D\n",
        "test_X_1D=test_X_1D\n",
        "\n",
        "print(train_X_1D.shape,train_y_5.shape,X_validation_1D.shape,Y_validation.shape)"
      ],
      "execution_count": null,
      "outputs": [
        {
          "output_type": "stream",
          "name": "stdout",
          "text": [
            "(25638, 100, 12) (25638, 600) (6410, 100, 12) (6410, 600)\n"
          ]
        }
      ]
    },
    {
      "cell_type": "code",
      "metadata": {
        "id": "fBEpgkovHByF",
        "colab": {
          "base_uri": "https://localhost:8080/"
        },
        "outputId": "081f9557-cd74-4026-d782-82d76d93b66b"
      },
      "source": [
        "features=6\n",
        "\n",
        "train_X_2D=train_X_1D[:,:,0:12].reshape(train_X_1D.shape[0],train_X_1D.shape[1],features,2)\n",
        "test_X_2D=test_X_1D[:,:,0:12].reshape(test_X_1D.shape[0],test_X_1D.shape[1],features,2)\n",
        "X_validation_2D= X_validation_1D[:,:,0:12].reshape(X_validation_1D.shape[0],\n",
        "                                                   X_validation_1D.shape[1],features,2)\n",
        "\n",
        "\n",
        "print(train_X_2D.shape,test_X_2D.shape,X_validation_2D.shape)"
      ],
      "execution_count": null,
      "outputs": [
        {
          "output_type": "stream",
          "name": "stdout",
          "text": [
            "(25638, 100, 6, 2) (3358, 100, 6, 2) (6410, 100, 6, 2)\n"
          ]
        }
      ]
    },
    {
      "cell_type": "markdown",
      "metadata": {
        "id": "ROjfjLaBfcBU"
      },
      "source": [
        "# Different Function for models"
      ]
    },
    {
      "cell_type": "code",
      "metadata": {
        "id": "92kuqtl9yfap"
      },
      "source": [
        "def prediction_test(yhat,test_y_up):\n",
        "\n",
        "    test_o=test_y_up\n",
        "    yhat=yhat\n",
        "\n",
        "    y_1=yhat[:,0]\n",
        "    y_2=yhat[:,1]\n",
        "    y_3=yhat[:,2]\n",
        "    y_4=yhat[:,3]\n",
        "    y_5=yhat[:,4]\n",
        "    y_6=yhat[:,5]\n",
        "\n",
        "\n",
        "    y_test_1=test_o[:,0]\n",
        "    y_test_2=test_o[:,1]\n",
        "    y_test_3=test_o[:,2]\n",
        "    y_test_4=test_o[:,3]\n",
        "    y_test_5=test_o[:,4]\n",
        "    y_test_6=test_o[:,5]\n",
        "\n",
        "\n",
        "    ###calculate RMSE\n",
        "\n",
        "    rmse_1 =np.sqrt(mean_squared_error(y_test_1,y_1))\n",
        "    rmse_2 =np.sqrt(mean_squared_error(y_test_2,y_2))\n",
        "    rmse_3 =np.sqrt(mean_squared_error(y_test_3,y_3))\n",
        "    rmse_4 =np.sqrt(mean_squared_error(y_test_4,y_4))\n",
        "    rmse_5 =np.sqrt(mean_squared_error(y_test_5,y_5))\n",
        "    rmse_6 =np.sqrt(mean_squared_error(y_test_6,y_6))\n",
        "\n",
        "\n",
        "    p_1=np.corrcoef(y_1, y_test_1)[0, 1]\n",
        "    p_2=np.corrcoef(y_2, y_test_2)[0, 1]\n",
        "    p_3=np.corrcoef(y_3, y_test_3)[0, 1]\n",
        "    p_4=np.corrcoef(y_4, y_test_4)[0, 1]\n",
        "    p_5=np.corrcoef(y_5, y_test_5)[0, 1]\n",
        "    p_6=np.corrcoef(y_6, y_test_6)[0, 1]\n",
        "\n",
        "    ### Getiing single RMSE and PCC value for a joint\n",
        "    p=np.array([(p_1+p_4)/2,(p_2+p_5)/2,(p_3+p_6)/2])\n",
        "\n",
        "    rmse=np.array([(rmse_1+rmse_4)/2,(rmse_2+rmse_5)/2,(rmse_3+rmse_6)/2])\n",
        "\n",
        "\n",
        "\n",
        "    return rmse,p"
      ],
      "execution_count": null,
      "outputs": []
    },
    {
      "cell_type": "code",
      "metadata": {
        "id": "WAW6trUjyt8F"
      },
      "source": [
        "## Evaluting data with the original form without any overlaps\n",
        "\n",
        "# # convert an array of values into a dataset matrix\n",
        "def unpack_dataset_present(dataset_1):\n",
        "  dataX= []\n",
        "  k=1\n",
        "  l=0\n",
        "  shift=100\n",
        "  for i in range(int(len(dataset_1)/shift)-1):\n",
        "    j=shift*k\n",
        "    a = dataset_1[l:j,:]\n",
        "    l=0\n",
        "    l=j+50\n",
        "    dataX=np.append(dataX,a)\n",
        "    k=k+1\n",
        "    j=0\n",
        "  return np.array(dataX)"
      ],
      "execution_count": null,
      "outputs": []
    },
    {
      "cell_type": "markdown",
      "metadata": {
        "id": "NQrV3BIMTZuj"
      },
      "source": [
        "# Loss Function"
      ]
    },
    {
      "cell_type": "code",
      "metadata": {
        "id": "3tIqJaVFwpqx"
      },
      "source": [
        "def correlation_coefficient_loss_RMSE(y_true, y_pred):\n",
        "    x = y_true\n",
        "    y = y_pred\n",
        "    mx = K.mean(x)\n",
        "    l1=K.sqrt(K.mean(K.square(y - x)))\n",
        "\n",
        "    return l1\n"
      ],
      "execution_count": null,
      "outputs": []
    },
    {
      "cell_type": "code",
      "metadata": {
        "id": "U-yCSvJfJ5RG"
      },
      "source": [
        "def correlation_coefficient_loss_joint(y_true, y_pred):\n",
        "    # Calculate mean values\n",
        "    mx = tf.reduce_mean(y_true)\n",
        "    my = tf.reduce_mean(y_pred)\n",
        "\n",
        "    # Calculate differences from mean\n",
        "    xm, ym = y_true - mx, y_pred - my\n",
        "\n",
        "    # Calculate numerator and denominator of Pearson correlation coefficient\n",
        "    r_num = tf.reduce_sum(tf.multiply(xm, ym))\n",
        "    r_den = tf.sqrt(tf.multiply(tf.reduce_sum(tf.square(xm)), tf.reduce_sum(tf.square(ym))))\n",
        "\n",
        "    # Calculate Pearson correlation coefficient\n",
        "    r = r_num / r_den\n",
        "\n",
        "    # Clamp r between -1 and 1\n",
        "    r = tf.maximum(tf.minimum(r, 1.0), -1.0)\n",
        "\n",
        "    # Calculate l2 loss\n",
        "    l2 = 1 - tf.square(r)\n",
        "\n",
        "    l1=K.sqrt(K.mean(K.square(y_true - y_pred)))\n",
        "\n",
        "\n",
        "    return l1+l2"
      ],
      "execution_count": null,
      "outputs": []
    },
    {
      "cell_type": "markdown",
      "source": [
        "# Model Ablation"
      ],
      "metadata": {
        "id": "PS3pYaNPgR8g"
      }
    },
    {
      "cell_type": "markdown",
      "metadata": {
        "id": "RjpGdluPLZka"
      },
      "source": [
        "##1. GRU-Net"
      ]
    },
    {
      "cell_type": "code",
      "metadata": {
        "id": "34E-9Az5HA2T"
      },
      "source": [
        "def GRU_Net(inputs_1D_N,inputs_2D_N):\n",
        "\n",
        "  model_1=Bidirectional(GRU(128,return_sequences=True))(inputs_1D_N)\n",
        "  model_1=Dropout(0.4)(model_1)\n",
        "  model_1=Bidirectional(GRU(64,return_sequences=True))(model_1)\n",
        "  model_1=Dropout(0.4)(model_1)\n",
        "  model_1=Flatten()(model_1)\n",
        "\n",
        "  output_GRU=Dense(6*w,bias_regularizer=l2(0.001), activation='linear')(model_1)\n",
        "\n",
        "\n",
        "  return output_GRU"
      ],
      "execution_count": null,
      "outputs": []
    },
    {
      "cell_type": "code",
      "source": [
        "#### Main Model ####\n",
        "\n",
        "inputs_1D = tf.keras.layers.Input( shape=(w,12) )\n",
        "inputs_2D = tf.keras.layers.Input( shape=(w,6,2) )\n",
        "\n",
        "\n",
        "inputs_1D_N=BatchNormalization()(inputs_1D)\n",
        "inputs_2D_N=BatchNormalization()(inputs_2D)\n",
        "\n",
        "\n",
        "output=GRU_Net(inputs_1D_N,inputs_2D_N)\n",
        "\n",
        "model = Model(inputs=[inputs_1D, inputs_2D], outputs=output)\n",
        "model.compile(loss=correlation_coefficient_loss_RMSE, optimizer='Adam')\n",
        "\n",
        "\n",
        "history=model.fit([np.array(train_X_1D),np.array(train_X_2D)], train_y_5, epochs=30, batch_size=64, validation_data=([X_validation_1D,\\\n",
        "                                                                      X_validation_2D], Y_validation), verbose=2, shuffle=False)\n",
        "\n",
        "filename = path+'model_GRU.h5'\n",
        "model.save(filename)\n",
        "print('>Saved %s' % filename)\n",
        "\n",
        "# # # summarize history for loss\n",
        "plt.plot(history.history['loss'])\n",
        "plt.plot(history.history['val_loss'])\n",
        "plt.title('model loss')\n",
        "plt.ylabel('loss')\n",
        "plt.xlabel('epoch')\n",
        "plt.legend(['train', 'validation'], loc='upper right')\n",
        "plt.show()\n",
        "model.summary()\n"
      ],
      "metadata": {
        "colab": {
          "base_uri": "https://localhost:8080/",
          "height": 1000
        },
        "id": "KQgazOljbAu_",
        "outputId": "9aca6bf4-cdd6-44a8-fd44-850203117563"
      },
      "execution_count": null,
      "outputs": [
        {
          "output_type": "stream",
          "name": "stdout",
          "text": [
            "Epoch 1/30\n",
            "401/401 - 22s - loss: 7.5537 - val_loss: 4.9603 - 22s/epoch - 56ms/step\n",
            "Epoch 2/30\n",
            "401/401 - 8s - loss: 4.9477 - val_loss: 4.2691 - 8s/epoch - 20ms/step\n",
            "Epoch 3/30\n",
            "401/401 - 8s - loss: 4.4700 - val_loss: 3.9340 - 8s/epoch - 20ms/step\n",
            "Epoch 4/30\n",
            "401/401 - 8s - loss: 4.2017 - val_loss: 3.7393 - 8s/epoch - 20ms/step\n",
            "Epoch 5/30\n",
            "401/401 - 8s - loss: 4.0098 - val_loss: 3.6316 - 8s/epoch - 20ms/step\n",
            "Epoch 6/30\n",
            "401/401 - 8s - loss: 3.8571 - val_loss: 3.4978 - 8s/epoch - 20ms/step\n",
            "Epoch 7/30\n",
            "401/401 - 8s - loss: 3.7541 - val_loss: 3.4062 - 8s/epoch - 20ms/step\n",
            "Epoch 8/30\n",
            "401/401 - 8s - loss: 3.6751 - val_loss: 3.3255 - 8s/epoch - 20ms/step\n",
            "Epoch 9/30\n",
            "401/401 - 8s - loss: 3.5698 - val_loss: 3.2885 - 8s/epoch - 20ms/step\n",
            "Epoch 10/30\n",
            "401/401 - 8s - loss: 3.4833 - val_loss: 3.2356 - 8s/epoch - 20ms/step\n",
            "Epoch 11/30\n",
            "401/401 - 8s - loss: 3.4224 - val_loss: 3.1356 - 8s/epoch - 20ms/step\n",
            "Epoch 12/30\n",
            "401/401 - 8s - loss: 3.3685 - val_loss: 3.1446 - 8s/epoch - 20ms/step\n",
            "Epoch 13/30\n",
            "401/401 - 8s - loss: 3.3079 - val_loss: 3.0581 - 8s/epoch - 20ms/step\n",
            "Epoch 14/30\n",
            "401/401 - 8s - loss: 3.2641 - val_loss: 3.0458 - 8s/epoch - 20ms/step\n",
            "Epoch 15/30\n",
            "401/401 - 8s - loss: 3.2266 - val_loss: 3.0226 - 8s/epoch - 20ms/step\n",
            "Epoch 16/30\n",
            "401/401 - 8s - loss: 3.1773 - val_loss: 3.0003 - 8s/epoch - 20ms/step\n",
            "Epoch 17/30\n",
            "401/401 - 8s - loss: 3.1390 - val_loss: 2.9725 - 8s/epoch - 20ms/step\n",
            "Epoch 18/30\n",
            "401/401 - 8s - loss: 3.1011 - val_loss: 2.9639 - 8s/epoch - 20ms/step\n",
            "Epoch 19/30\n",
            "401/401 - 8s - loss: 3.0678 - val_loss: 2.9339 - 8s/epoch - 20ms/step\n",
            "Epoch 20/30\n",
            "401/401 - 8s - loss: 3.0397 - val_loss: 2.9420 - 8s/epoch - 20ms/step\n",
            "Epoch 21/30\n",
            "401/401 - 8s - loss: 3.0148 - val_loss: 2.8997 - 8s/epoch - 20ms/step\n",
            "Epoch 22/30\n",
            "401/401 - 8s - loss: 2.9844 - val_loss: 2.8631 - 8s/epoch - 20ms/step\n",
            "Epoch 23/30\n",
            "401/401 - 8s - loss: 2.9585 - val_loss: 2.8704 - 8s/epoch - 20ms/step\n",
            "Epoch 24/30\n",
            "401/401 - 8s - loss: 2.9535 - val_loss: 2.8777 - 8s/epoch - 20ms/step\n",
            "Epoch 25/30\n",
            "401/401 - 8s - loss: 2.9166 - val_loss: 2.8487 - 8s/epoch - 20ms/step\n",
            "Epoch 26/30\n",
            "401/401 - 8s - loss: 2.8853 - val_loss: 2.7964 - 8s/epoch - 20ms/step\n",
            "Epoch 27/30\n",
            "401/401 - 8s - loss: 2.8751 - val_loss: 2.8273 - 8s/epoch - 20ms/step\n",
            "Epoch 28/30\n",
            "401/401 - 8s - loss: 2.8505 - val_loss: 2.8030 - 8s/epoch - 20ms/step\n",
            "Epoch 29/30\n",
            "401/401 - 8s - loss: 2.8309 - val_loss: 2.8279 - 8s/epoch - 20ms/step\n",
            "Epoch 30/30\n",
            "401/401 - 8s - loss: 2.8233 - val_loss: 2.7599 - 8s/epoch - 20ms/step\n",
            ">Saved /content/model_GRU.h5\n"
          ]
        },
        {
          "output_type": "display_data",
          "data": {
            "text/plain": [
              "<Figure size 640x480 with 1 Axes>"
            ],
            "image/png": "[encoded data removed]"
          },
          "metadata": {}
        },
        {
          "output_type": "stream",
          "name": "stdout",
          "text": [
            "Model: \"model\"\n",
            "__________________________________________________________________________________________________\n",
            " Layer (type)                   Output Shape         Param #     Connected to                     \n",
            "==================================================================================================\n",
            " input_1 (InputLayer)           [(None, 100, 12)]    0           []                               \n",
            "                                                                                                  \n",
            " batch_normalization (BatchNorm  (None, 100, 12)     48          ['input_1[0][0]']                \n",
            " alization)                                                                                       \n",
            "                                                                                                  \n",
            " bidirectional (Bidirectional)  (None, 100, 256)     109056      ['batch_normalization[0][0]']    \n",
            "                                                                                                  \n",
            " dropout (Dropout)              (None, 100, 256)     0           ['bidirectional[0][0]']          \n",
            "                                                                                                  \n",
            " bidirectional_1 (Bidirectional  (None, 100, 128)    123648      ['dropout[0][0]']                \n",
            " )                                                                                                \n",
            "                                                                                                  \n",
            " dropout_1 (Dropout)            (None, 100, 128)     0           ['bidirectional_1[0][0]']        \n",
            "                                                                                                  \n",
            " flatten (Flatten)              (None, 12800)        0           ['dropout_1[0][0]']              \n",
            "                                                                                                  \n",
            " input_2 (InputLayer)           [(None, 100, 6, 2)]  0           []                               \n",
            "                                                                                                  \n",
            " dense (Dense)                  (None, 600)          7680600     ['flatten[0][0]']                \n",
            "                                                                                                  \n",
            "==================================================================================================\n",
            "Total params: 7,913,352\n",
            "Trainable params: 7,913,328\n",
            "Non-trainable params: 24\n",
            "__________________________________________________________________________________________________\n"
          ]
        }
      ]
    },
    {
      "cell_type": "code",
      "execution_count": null,
      "metadata": {
        "colab": {
          "base_uri": "https://localhost:8080/"
        },
        "outputId": "f55508cc-c968-4c80-fc1a-f90f57e6b9bf",
        "id": "VIqRgq5zbD-w"
      },
      "outputs": [
        {
          "output_type": "execute_result",
          "data": {
            "text/plain": [
              "0"
            ]
          },
          "metadata": {},
          "execution_count": 19
        }
      ],
      "source": [
        "gc.collect()\n",
        "gc.collect()\n",
        "gc.collect()\n",
        "gc.collect()"
      ]
    },
    {
      "cell_type": "code",
      "execution_count": null,
      "metadata": {
        "colab": {
          "base_uri": "https://localhost:8080/"
        },
        "outputId": "49e4a3c8-d2b8-4f87-9512-0c7a2f9a098a",
        "id": "0M318omQbD-x"
      },
      "outputs": [
        {
          "output_type": "stream",
          "name": "stdout",
          "text": [
            "105/105 [==============================] - 2s 7ms/step\n",
            "(3358, 600)\n",
            "(1007400,) (1007400,)\n",
            "(167900, 6) (167900, 6)\n"
          ]
        }
      ],
      "source": [
        "model_path = path+'model_GRU.h5'\n",
        "\n",
        "model=load_model(model_path, custom_objects={'correlation_coefficient_loss_RMSE': correlation_coefficient_loss_RMSE})\n",
        "\n",
        "yhat_4=model.predict([test_X_1D,test_X_2D])\n",
        "\n",
        "\n",
        " ### Present ###\n",
        "yhat_5=yhat_4.reshape((yhat_4.shape[0]*w,6))\n",
        "test_y_r=test_y.reshape((test_y.shape[0]*w,6))\n",
        "\n",
        "print(yhat_4.shape)\n",
        "\n",
        "\n",
        "### Unpack ###\n",
        "yhat_up=unpack_dataset_present(np.array(yhat_5))\n",
        "test_y_up=unpack_dataset_present(np.array(test_y_r))\n",
        "\n",
        "print(yhat_up.shape,test_y_up.shape)\n",
        "\n",
        "### Present ###\n",
        "\n",
        "yhat_up=yhat_up.reshape(int(len(yhat_up)/6),6)\n",
        "test_y_up=test_y_up.reshape(int(len(test_y_up)/6),6)\n",
        "\n",
        "print(yhat_up.shape,test_y_up.shape)"
      ]
    },
    {
      "cell_type": "code",
      "execution_count": null,
      "metadata": {
        "colab": {
          "base_uri": "https://localhost:8080/"
        },
        "id": "TK8a1NPztYDH",
        "outputId": "11b325f0-02f6-428e-d62a-f59e0926213e"
      },
      "outputs": [
        {
          "output_type": "stream",
          "name": "stdout",
          "text": [
            "4.571996222629288\n",
            "5.545616212535245\n",
            "3.5060286621706247\n",
            "\n",
            "\n",
            "4.54121369911172\n",
            "\n",
            "\n",
            "0.9651133323902967\n",
            "0.9720989241287741\n",
            "0.9291499121063873\n",
            "\n",
            "\n",
            "0.955454056208486\n"
          ]
        }
      ],
      "source": [
        "### Present ###\n",
        "\n",
        "rmse,p= prediction_test(np.array(yhat_up),np.array(test_y_up))\n",
        "\n",
        "print(rmse[0])\n",
        "print(rmse[1])\n",
        "print(rmse[2])\n",
        "\n",
        "m=np.mean(rmse)\n",
        "\n",
        "print('\\n')\n",
        "print(m)\n",
        "\n",
        "print('\\n')\n",
        "\n",
        "print(p[0])\n",
        "print(p[1])\n",
        "print(p[2])\n",
        "print('\\n')\n",
        "\n",
        "print(np.mean(p))"
      ]
    },
    {
      "cell_type": "code",
      "execution_count": null,
      "metadata": {
        "id": "s__F7s8yy6aq"
      },
      "outputs": [],
      "source": [
        "RMSE_GRU=rmse\n",
        "PCC_GRU=p\n",
        "\n",
        "Ablation_1=np.hstack([RMSE_GRU,PCC_GRU])"
      ]
    },
    {
      "cell_type": "markdown",
      "metadata": {
        "id": "ByxjLTWCQTE7"
      },
      "source": [
        "## 2. Conv1D-Net"
      ]
    },
    {
      "cell_type": "code",
      "metadata": {
        "id": "4Wo6lmnHQWYB"
      },
      "source": [
        "def Conv1D_Net(inputs_1D_N,inputs_2D_N):\n",
        "\n",
        "  CNN=Conv1D(filters=64, kernel_size=3, activation='relu',padding='same')(inputs_1D_N)\n",
        "  CNN=Conv1D(filters=64, kernel_size=3, activation='relu',padding='same')(CNN)\n",
        "  CNN=BatchNormalization()(CNN)\n",
        "  CNN=MaxPooling1D(pool_size=2)(CNN)\n",
        "  CNN=Conv1D(filters=128, kernel_size=3, activation='relu',padding='same')(CNN)\n",
        "  CNN=Conv1D(filters=128, kernel_size=3, activation='relu',padding='same')(CNN)\n",
        "  CNN=BatchNormalization()(CNN)\n",
        "  CNN=MaxPooling1D(pool_size=2)(CNN)\n",
        "\n",
        "  CNN=Dense(64, activation='relu')(CNN)\n",
        "  CNN=Dropout(0.2)(CNN)\n",
        "  CNN=Dense(32, activation='relu')(CNN)\n",
        "  CNN=Dropout(0.2)(CNN)\n",
        "\n",
        "  CNN=Flatten()(CNN)\n",
        "\n",
        "  output_C1=Dense(6*w,bias_regularizer=l2(0.001), activation='linear')(CNN)\n",
        "\n",
        "\n",
        "  return output_C1"
      ],
      "execution_count": null,
      "outputs": []
    },
    {
      "cell_type": "code",
      "execution_count": null,
      "metadata": {
        "colab": {
          "base_uri": "https://localhost:8080/",
          "height": 1000
        },
        "id": "whrXofFhfjK1",
        "outputId": "c6559ffb-ab6b-4490-e330-47744832f7ae"
      },
      "outputs": [
        {
          "output_type": "stream",
          "name": "stdout",
          "text": [
            "Epoch 1/30\n",
            "401/401 - 13s - loss: 8.4400 - val_loss: 7.6579 - 13s/epoch - 32ms/step\n",
            "Epoch 2/30\n",
            "401/401 - 3s - loss: 5.7409 - val_loss: 5.2536 - 3s/epoch - 7ms/step\n",
            "Epoch 3/30\n",
            "401/401 - 3s - loss: 5.2726 - val_loss: 4.8279 - 3s/epoch - 7ms/step\n",
            "Epoch 4/30\n",
            "401/401 - 3s - loss: 5.0033 - val_loss: 4.5730 - 3s/epoch - 7ms/step\n",
            "Epoch 5/30\n",
            "401/401 - 3s - loss: 4.8343 - val_loss: 4.3801 - 3s/epoch - 7ms/step\n",
            "Epoch 6/30\n",
            "401/401 - 3s - loss: 4.7083 - val_loss: 4.2834 - 3s/epoch - 7ms/step\n",
            "Epoch 7/30\n",
            "401/401 - 3s - loss: 4.6127 - val_loss: 4.4465 - 3s/epoch - 7ms/step\n",
            "Epoch 8/30\n",
            "401/401 - 3s - loss: 4.5215 - val_loss: 4.1336 - 3s/epoch - 7ms/step\n",
            "Epoch 9/30\n",
            "401/401 - 3s - loss: 4.4632 - val_loss: 4.1333 - 3s/epoch - 7ms/step\n",
            "Epoch 10/30\n",
            "401/401 - 3s - loss: 4.4035 - val_loss: 4.0269 - 3s/epoch - 7ms/step\n",
            "Epoch 11/30\n",
            "401/401 - 3s - loss: 4.3570 - val_loss: 3.9449 - 3s/epoch - 7ms/step\n",
            "Epoch 12/30\n",
            "401/401 - 3s - loss: 4.3139 - val_loss: 3.9200 - 3s/epoch - 7ms/step\n",
            "Epoch 13/30\n",
            "401/401 - 3s - loss: 4.2750 - val_loss: 3.8816 - 3s/epoch - 7ms/step\n",
            "Epoch 14/30\n",
            "401/401 - 3s - loss: 4.2289 - val_loss: 3.8611 - 3s/epoch - 7ms/step\n",
            "Epoch 15/30\n",
            "401/401 - 3s - loss: 4.2010 - val_loss: 3.9550 - 3s/epoch - 7ms/step\n",
            "Epoch 16/30\n",
            "401/401 - 3s - loss: 4.1709 - val_loss: 3.7432 - 3s/epoch - 7ms/step\n",
            "Epoch 17/30\n",
            "401/401 - 3s - loss: 4.1381 - val_loss: 3.7596 - 3s/epoch - 7ms/step\n",
            "Epoch 18/30\n",
            "401/401 - 3s - loss: 4.1146 - val_loss: 3.7790 - 3s/epoch - 7ms/step\n",
            "Epoch 19/30\n",
            "401/401 - 3s - loss: 4.0881 - val_loss: 3.7120 - 3s/epoch - 7ms/step\n",
            "Epoch 20/30\n",
            "401/401 - 3s - loss: 4.0778 - val_loss: 3.6174 - 3s/epoch - 7ms/step\n",
            "Epoch 21/30\n",
            "401/401 - 3s - loss: 4.0526 - val_loss: 3.6662 - 3s/epoch - 7ms/step\n",
            "Epoch 22/30\n",
            "401/401 - 3s - loss: 4.0427 - val_loss: 3.6289 - 3s/epoch - 7ms/step\n",
            "Epoch 23/30\n",
            "401/401 - 3s - loss: 4.0100 - val_loss: 3.5541 - 3s/epoch - 7ms/step\n",
            "Epoch 24/30\n",
            "401/401 - 3s - loss: 3.9891 - val_loss: 3.5446 - 3s/epoch - 7ms/step\n",
            "Epoch 25/30\n",
            "401/401 - 3s - loss: 3.9797 - val_loss: 3.6428 - 3s/epoch - 7ms/step\n",
            "Epoch 26/30\n",
            "401/401 - 3s - loss: 3.9611 - val_loss: 3.7125 - 3s/epoch - 7ms/step\n",
            "Epoch 27/30\n",
            "401/401 - 3s - loss: 3.9424 - val_loss: 3.8539 - 3s/epoch - 7ms/step\n",
            "Epoch 28/30\n",
            "401/401 - 3s - loss: 3.9269 - val_loss: 3.5673 - 3s/epoch - 7ms/step\n",
            "Epoch 29/30\n",
            "401/401 - 3s - loss: 3.9245 - val_loss: 3.5627 - 3s/epoch - 7ms/step\n",
            "Epoch 30/30\n",
            "401/401 - 3s - loss: 3.9044 - val_loss: 3.5696 - 3s/epoch - 7ms/step\n",
            ">Saved /content/model_Conv1D.h5\n"
          ]
        },
        {
          "output_type": "display_data",
          "data": {
            "text/plain": [
              "<Figure size 640x480 with 1 Axes>"
            ],
            "image/png": "[encoded data removed]"
          },
          "metadata": {}
        },
        {
          "output_type": "stream",
          "name": "stdout",
          "text": [
            "Model: \"model_1\"\n",
            "__________________________________________________________________________________________________\n",
            " Layer (type)                   Output Shape         Param #     Connected to                     \n",
            "==================================================================================================\n",
            " input_3 (InputLayer)           [(None, 100, 12)]    0           []                               \n",
            "                                                                                                  \n",
            " batch_normalization_2 (BatchNo  (None, 100, 12)     48          ['input_3[0][0]']                \n",
            " rmalization)                                                                                     \n",
            "                                                                                                  \n",
            " conv1d (Conv1D)                (None, 100, 64)      2368        ['batch_normalization_2[0][0]']  \n",
            "                                                                                                  \n",
            " conv1d_1 (Conv1D)              (None, 100, 64)      12352       ['conv1d[0][0]']                 \n",
            "                                                                                                  \n",
            " batch_normalization_4 (BatchNo  (None, 100, 64)     256         ['conv1d_1[0][0]']               \n",
            " rmalization)                                                                                     \n",
            "                                                                                                  \n",
            " max_pooling1d (MaxPooling1D)   (None, 50, 64)       0           ['batch_normalization_4[0][0]']  \n",
            "                                                                                                  \n",
            " conv1d_2 (Conv1D)              (None, 50, 128)      24704       ['max_pooling1d[0][0]']          \n",
            "                                                                                                  \n",
            " conv1d_3 (Conv1D)              (None, 50, 128)      49280       ['conv1d_2[0][0]']               \n",
            "                                                                                                  \n",
            " batch_normalization_5 (BatchNo  (None, 50, 128)     512         ['conv1d_3[0][0]']               \n",
            " rmalization)                                                                                     \n",
            "                                                                                                  \n",
            " max_pooling1d_1 (MaxPooling1D)  (None, 25, 128)     0           ['batch_normalization_5[0][0]']  \n",
            "                                                                                                  \n",
            " dense_1 (Dense)                (None, 25, 64)       8256        ['max_pooling1d_1[0][0]']        \n",
            "                                                                                                  \n",
            " dropout_2 (Dropout)            (None, 25, 64)       0           ['dense_1[0][0]']                \n",
            "                                                                                                  \n",
            " dense_2 (Dense)                (None, 25, 32)       2080        ['dropout_2[0][0]']              \n",
            "                                                                                                  \n",
            " dropout_3 (Dropout)            (None, 25, 32)       0           ['dense_2[0][0]']                \n",
            "                                                                                                  \n",
            " flatten_1 (Flatten)            (None, 800)          0           ['dropout_3[0][0]']              \n",
            "                                                                                                  \n",
            " input_4 (InputLayer)           [(None, 100, 6, 2)]  0           []                               \n",
            "                                                                                                  \n",
            " dense_3 (Dense)                (None, 600)          480600      ['flatten_1[0][0]']              \n",
            "                                                                                                  \n",
            "==================================================================================================\n",
            "Total params: 580,456\n",
            "Trainable params: 580,048\n",
            "Non-trainable params: 408\n",
            "__________________________________________________________________________________________________\n"
          ]
        }
      ],
      "source": [
        "#### Main Model ####\n",
        "\n",
        "inputs_1D = tf.keras.layers.Input( shape=(w,12) )\n",
        "inputs_2D = tf.keras.layers.Input( shape=(w,6,2) )\n",
        "\n",
        "inputs_1D_N=BatchNormalization()(inputs_1D)\n",
        "inputs_2D_N=BatchNormalization()(inputs_2D)\n",
        "\n",
        "output=Conv1D_Net(inputs_1D_N,inputs_2D_N)\n",
        "\n",
        "model = Model(inputs=[inputs_1D, inputs_2D], outputs=output)\n",
        "model.compile(loss=correlation_coefficient_loss_RMSE, optimizer='Adam')\n",
        "\n",
        "\n",
        "history=model.fit([np.array(train_X_1D),np.array(train_X_2D)], train_y_5, epochs=30, batch_size=64, validation_data=([X_validation_1D,\\\n",
        "                                                                      X_validation_2D], Y_validation), verbose=2, shuffle=False)\n",
        "\n",
        "filename = path+'model_Conv1D.h5'\n",
        "model.save(filename)\n",
        "print('>Saved %s' % filename)\n",
        "\n",
        "# # # summarize history for loss\n",
        "plt.plot(history.history['loss'])\n",
        "plt.plot(history.history['val_loss'])\n",
        "plt.title('model loss')\n",
        "plt.ylabel('loss')\n",
        "plt.xlabel('epoch')\n",
        "plt.legend(['train', 'validation'], loc='upper right')\n",
        "plt.show()\n",
        "model.summary()\n"
      ]
    },
    {
      "cell_type": "code",
      "execution_count": null,
      "metadata": {
        "colab": {
          "base_uri": "https://localhost:8080/"
        },
        "outputId": "0c44a68f-f1da-44e3-9637-c9ecb132cb9f",
        "id": "JCIgxziNfjK7"
      },
      "outputs": [
        {
          "output_type": "execute_result",
          "data": {
            "text/plain": [
              "0"
            ]
          },
          "metadata": {},
          "execution_count": 25
        }
      ],
      "source": [
        "gc.collect()\n",
        "gc.collect()\n",
        "gc.collect()\n",
        "gc.collect()"
      ]
    },
    {
      "cell_type": "code",
      "execution_count": null,
      "metadata": {
        "colab": {
          "base_uri": "https://localhost:8080/"
        },
        "outputId": "c95c75bb-0cc2-4cf0-f79a-a81499b338aa",
        "id": "vFU8RltzfjK7"
      },
      "outputs": [
        {
          "output_type": "stream",
          "name": "stdout",
          "text": [
            "105/105 [==============================] - 1s 3ms/step\n",
            "(3358, 600)\n",
            "(1007400,) (1007400,)\n",
            "(167900, 6) (167900, 6)\n"
          ]
        }
      ],
      "source": [
        "model_path = path+'model_Conv1D.h5'\n",
        "\n",
        "model=load_model(model_path, custom_objects={'correlation_coefficient_loss_RMSE': correlation_coefficient_loss_RMSE})\n",
        "\n",
        "yhat_4=model.predict([test_X_1D,test_X_2D])\n",
        "\n",
        "\n",
        " ### Present ###\n",
        "yhat_5=yhat_4.reshape((yhat_4.shape[0]*w,6))\n",
        "test_y_r=test_y.reshape((test_y.shape[0]*w,6))\n",
        "\n",
        "print(yhat_4.shape)\n",
        "\n",
        "\n",
        "### Unpack ###\n",
        "yhat_up=unpack_dataset_present(np.array(yhat_5))\n",
        "test_y_up=unpack_dataset_present(np.array(test_y_r))\n",
        "\n",
        "print(yhat_up.shape,test_y_up.shape)\n",
        "\n",
        "### Present ###\n",
        "\n",
        "yhat_up=yhat_up.reshape(int(len(yhat_up)/6),6)\n",
        "test_y_up=test_y_up.reshape(int(len(test_y_up)/6),6)\n",
        "\n",
        "print(yhat_up.shape,test_y_up.shape)"
      ]
    },
    {
      "cell_type": "code",
      "execution_count": null,
      "metadata": {
        "colab": {
          "base_uri": "https://localhost:8080/"
        },
        "outputId": "7a4f2633-dc81-4850-cbc2-9a8c48e5ed37",
        "id": "Pux5Bu47fjK7"
      },
      "outputs": [
        {
          "output_type": "stream",
          "name": "stdout",
          "text": [
            "4.983082409153208\n",
            "6.605732296752542\n",
            "3.697174322588719\n",
            "\n",
            "\n",
            "5.095329676164823\n",
            "\n",
            "\n",
            "0.9602144046775346\n",
            "0.9647246997003717\n",
            "0.9180526432218564\n",
            "\n",
            "\n",
            "0.9476639158665875\n"
          ]
        }
      ],
      "source": [
        "### Present ###\n",
        "\n",
        "rmse,p= prediction_test(np.array(yhat_up),np.array(test_y_up))\n",
        "\n",
        "print(rmse[0])\n",
        "print(rmse[1])\n",
        "print(rmse[2])\n",
        "\n",
        "m=np.mean(rmse)\n",
        "\n",
        "print('\\n')\n",
        "print(m)\n",
        "\n",
        "print('\\n')\n",
        "\n",
        "print(p[0])\n",
        "print(p[1])\n",
        "print(p[2])\n",
        "print('\\n')\n",
        "\n",
        "print(np.mean(p))"
      ]
    },
    {
      "cell_type": "code",
      "execution_count": null,
      "metadata": {
        "id": "cOdSRn6tfjK7"
      },
      "outputs": [],
      "source": [
        "RMSE_Conv1D=rmse\n",
        "PCC_Conv1D=p\n",
        "\n",
        "Ablation_2=np.hstack([RMSE_Conv1D,PCC_Conv1D])"
      ]
    },
    {
      "cell_type": "markdown",
      "metadata": {
        "id": "liw2QcajQxGM"
      },
      "source": [
        "## 3. Conv2D-Net"
      ]
    },
    {
      "cell_type": "code",
      "metadata": {
        "id": "6ERSM-dfQ0bZ"
      },
      "source": [
        "def Conv2D_Net(inputs_1D_N,inputs_2D_N):\n",
        "\n",
        "  X=Conv2D(64, (3, 3), activation='relu',padding='same')(inputs_2D_N)\n",
        "  X=BatchNormalization()(X)\n",
        "  X=MaxPooling2D((2, 2))(X)\n",
        "  X=Conv2D(128, (3, 3), activation='relu', padding='same')(X)\n",
        "  X=BatchNormalization()(X)\n",
        "  X=MaxPooling2D((2, 2))(X)\n",
        "  X=Dense(64, activation='relu')(X)\n",
        "\n",
        "  X=Dropout(0.2)(X)\n",
        "  X=Dense(32,activation='relu')(X)\n",
        "  X=Dropout(0.2)(X)\n",
        "\n",
        "  X=Flatten()(X)\n",
        "  output_C2=Dense(6*w,bias_regularizer=l2(0.001), activation='linear')(X)\n",
        "\n",
        "\n",
        "  return output_C2"
      ],
      "execution_count": null,
      "outputs": []
    },
    {
      "cell_type": "code",
      "execution_count": null,
      "metadata": {
        "id": "8bOXNjk73ZbD",
        "colab": {
          "base_uri": "https://localhost:8080/",
          "height": 1000
        },
        "outputId": "142bd6fb-da45-447a-c307-15d646b26491"
      },
      "outputs": [
        {
          "output_type": "stream",
          "name": "stdout",
          "text": [
            "Epoch 1/30\n",
            "401/401 - 7s - loss: 9.3482 - val_loss: 11.4086 - 7s/epoch - 16ms/step\n",
            "Epoch 2/30\n",
            "401/401 - 3s - loss: 6.9338 - val_loss: 6.5002 - 3s/epoch - 7ms/step\n",
            "Epoch 3/30\n",
            "401/401 - 3s - loss: 6.4474 - val_loss: 6.2569 - 3s/epoch - 8ms/step\n",
            "Epoch 4/30\n",
            "401/401 - 4s - loss: 6.1745 - val_loss: 6.0261 - 4s/epoch - 9ms/step\n",
            "Epoch 5/30\n",
            "401/401 - 4s - loss: 5.9876 - val_loss: 5.8580 - 4s/epoch - 9ms/step\n",
            "Epoch 6/30\n",
            "401/401 - 3s - loss: 5.8783 - val_loss: 5.8908 - 3s/epoch - 8ms/step\n",
            "Epoch 7/30\n",
            "401/401 - 3s - loss: 5.7452 - val_loss: 5.3611 - 3s/epoch - 7ms/step\n",
            "Epoch 8/30\n",
            "401/401 - 3s - loss: 5.6679 - val_loss: 5.6115 - 3s/epoch - 7ms/step\n",
            "Epoch 9/30\n",
            "401/401 - 3s - loss: 5.5906 - val_loss: 5.5190 - 3s/epoch - 7ms/step\n",
            "Epoch 10/30\n",
            "401/401 - 3s - loss: 5.5257 - val_loss: 5.6165 - 3s/epoch - 7ms/step\n",
            "Epoch 11/30\n",
            "401/401 - 3s - loss: 5.4757 - val_loss: 5.4285 - 3s/epoch - 7ms/step\n",
            "Epoch 12/30\n",
            "401/401 - 3s - loss: 5.4106 - val_loss: 5.1446 - 3s/epoch - 7ms/step\n",
            "Epoch 13/30\n",
            "401/401 - 3s - loss: 5.3658 - val_loss: 5.2738 - 3s/epoch - 7ms/step\n",
            "Epoch 14/30\n",
            "401/401 - 3s - loss: 5.3357 - val_loss: 5.0998 - 3s/epoch - 7ms/step\n",
            "Epoch 15/30\n",
            "401/401 - 3s - loss: 5.2920 - val_loss: 5.4328 - 3s/epoch - 7ms/step\n",
            "Epoch 16/30\n",
            "401/401 - 3s - loss: 5.2626 - val_loss: 5.1758 - 3s/epoch - 7ms/step\n",
            "Epoch 17/30\n",
            "401/401 - 3s - loss: 5.2133 - val_loss: 5.1384 - 3s/epoch - 7ms/step\n",
            "Epoch 18/30\n",
            "401/401 - 3s - loss: 5.1877 - val_loss: 5.4452 - 3s/epoch - 8ms/step\n",
            "Epoch 19/30\n",
            "401/401 - 3s - loss: 5.1719 - val_loss: 4.9425 - 3s/epoch - 7ms/step\n",
            "Epoch 20/30\n",
            "401/401 - 3s - loss: 5.1340 - val_loss: 5.2028 - 3s/epoch - 7ms/step\n",
            "Epoch 21/30\n",
            "401/401 - 3s - loss: 5.1185 - val_loss: 4.9858 - 3s/epoch - 7ms/step\n",
            "Epoch 22/30\n",
            "401/401 - 3s - loss: 5.0969 - val_loss: 4.9815 - 3s/epoch - 7ms/step\n",
            "Epoch 23/30\n",
            "401/401 - 3s - loss: 5.0656 - val_loss: 4.7704 - 3s/epoch - 7ms/step\n",
            "Epoch 24/30\n",
            "401/401 - 3s - loss: 5.0473 - val_loss: 4.9393 - 3s/epoch - 7ms/step\n",
            "Epoch 25/30\n",
            "401/401 - 3s - loss: 5.0269 - val_loss: 4.7932 - 3s/epoch - 7ms/step\n",
            "Epoch 26/30\n",
            "401/401 - 3s - loss: 5.0216 - val_loss: 4.8700 - 3s/epoch - 7ms/step\n",
            "Epoch 27/30\n",
            "401/401 - 3s - loss: 4.9983 - val_loss: 4.7988 - 3s/epoch - 7ms/step\n",
            "Epoch 28/30\n",
            "401/401 - 3s - loss: 4.9722 - val_loss: 4.8656 - 3s/epoch - 7ms/step\n",
            "Epoch 29/30\n",
            "401/401 - 3s - loss: 4.9589 - val_loss: 4.7714 - 3s/epoch - 7ms/step\n",
            "Epoch 30/30\n",
            "401/401 - 3s - loss: 4.9444 - val_loss: 4.7527 - 3s/epoch - 7ms/step\n",
            ">Saved /content/model_Conv2D.h5\n"
          ]
        },
        {
          "output_type": "display_data",
          "data": {
            "text/plain": [
              "<Figure size 640x480 with 1 Axes>"
            ],
            "image/png": "[encoded data removed]"
          },
          "metadata": {}
        },
        {
          "output_type": "stream",
          "name": "stdout",
          "text": [
            "Model: \"model_2\"\n",
            "__________________________________________________________________________________________________\n",
            " Layer (type)                   Output Shape         Param #     Connected to                     \n",
            "==================================================================================================\n",
            " input_6 (InputLayer)           [(None, 100, 6, 2)]  0           []                               \n",
            "                                                                                                  \n",
            " batch_normalization_7 (BatchNo  (None, 100, 6, 2)   8           ['input_6[0][0]']                \n",
            " rmalization)                                                                                     \n",
            "                                                                                                  \n",
            " conv2d (Conv2D)                (None, 100, 6, 64)   1216        ['batch_normalization_7[0][0]']  \n",
            "                                                                                                  \n",
            " batch_normalization_8 (BatchNo  (None, 100, 6, 64)  256         ['conv2d[0][0]']                 \n",
            " rmalization)                                                                                     \n",
            "                                                                                                  \n",
            " max_pooling2d (MaxPooling2D)   (None, 50, 3, 64)    0           ['batch_normalization_8[0][0]']  \n",
            "                                                                                                  \n",
            " conv2d_1 (Conv2D)              (None, 50, 3, 128)   73856       ['max_pooling2d[0][0]']          \n",
            "                                                                                                  \n",
            " batch_normalization_9 (BatchNo  (None, 50, 3, 128)  512         ['conv2d_1[0][0]']               \n",
            " rmalization)                                                                                     \n",
            "                                                                                                  \n",
            " max_pooling2d_1 (MaxPooling2D)  (None, 25, 1, 128)  0           ['batch_normalization_9[0][0]']  \n",
            "                                                                                                  \n",
            " dense_4 (Dense)                (None, 25, 1, 64)    8256        ['max_pooling2d_1[0][0]']        \n",
            "                                                                                                  \n",
            " dropout_4 (Dropout)            (None, 25, 1, 64)    0           ['dense_4[0][0]']                \n",
            "                                                                                                  \n",
            " dense_5 (Dense)                (None, 25, 1, 32)    2080        ['dropout_4[0][0]']              \n",
            "                                                                                                  \n",
            " dropout_5 (Dropout)            (None, 25, 1, 32)    0           ['dense_5[0][0]']                \n",
            "                                                                                                  \n",
            " flatten_2 (Flatten)            (None, 800)          0           ['dropout_5[0][0]']              \n",
            "                                                                                                  \n",
            " input_5 (InputLayer)           [(None, 100, 12)]    0           []                               \n",
            "                                                                                                  \n",
            " dense_6 (Dense)                (None, 600)          480600      ['flatten_2[0][0]']              \n",
            "                                                                                                  \n",
            "==================================================================================================\n",
            "Total params: 566,784\n",
            "Trainable params: 566,396\n",
            "Non-trainable params: 388\n",
            "__________________________________________________________________________________________________\n"
          ]
        }
      ],
      "source": [
        "#### Main Model ####\n",
        "\n",
        "inputs_1D = tf.keras.layers.Input( shape=(w,12) )\n",
        "inputs_2D = tf.keras.layers.Input( shape=(w,6,2) )\n",
        "\n",
        "\n",
        "inputs_1D_N=BatchNormalization()(inputs_1D)\n",
        "inputs_2D_N=BatchNormalization()(inputs_2D)\n",
        "\n",
        "\n",
        "output=Conv2D_Net(inputs_1D_N,inputs_2D_N)\n",
        "\n",
        "model = Model(inputs=[inputs_1D, inputs_2D], outputs=output)\n",
        "model.compile(loss=correlation_coefficient_loss_RMSE, optimizer='Adam')\n",
        "\n",
        "\n",
        "history=model.fit([np.array(train_X_1D),np.array(train_X_2D)], train_y_5, epochs=30, batch_size=64, validation_data=([X_validation_1D,\\\n",
        "                                                                      X_validation_2D], Y_validation), verbose=2, shuffle=False)\n",
        "\n",
        "filename = path+'model_Conv2D.h5'\n",
        "model.save(filename)\n",
        "print('>Saved %s' % filename)\n",
        "\n",
        "# # # summarize history for loss\n",
        "plt.plot(history.history['loss'])\n",
        "plt.plot(history.history['val_loss'])\n",
        "plt.title('model loss')\n",
        "plt.ylabel('loss')\n",
        "plt.xlabel('epoch')\n",
        "plt.legend(['train', 'validation'], loc='upper right')\n",
        "plt.show()\n",
        "model.summary()\n"
      ]
    },
    {
      "cell_type": "code",
      "execution_count": null,
      "metadata": {
        "colab": {
          "base_uri": "https://localhost:8080/"
        },
        "id": "LvJb3tKa3ZbD",
        "outputId": "fdd4d89c-2b45-455e-82fe-65929f7f9a37"
      },
      "outputs": [
        {
          "output_type": "execute_result",
          "data": {
            "text/plain": [
              "0"
            ]
          },
          "metadata": {},
          "execution_count": 31
        }
      ],
      "source": [
        "gc.collect()\n",
        "gc.collect()\n",
        "gc.collect()\n",
        "gc.collect()"
      ]
    },
    {
      "cell_type": "code",
      "execution_count": null,
      "metadata": {
        "colab": {
          "base_uri": "https://localhost:8080/"
        },
        "id": "UNQJkWzR3ZbD",
        "outputId": "d25041eb-66e8-4930-acfc-1caad0ac7ea4"
      },
      "outputs": [
        {
          "output_type": "stream",
          "name": "stdout",
          "text": [
            "105/105 [==============================] - 1s 3ms/step\n",
            "(3358, 600)\n",
            "(1007400,) (1007400,)\n",
            "(167900, 6) (167900, 6)\n"
          ]
        }
      ],
      "source": [
        "model_path = path+'model_Conv2D.h5'\n",
        "\n",
        "model=load_model(model_path, custom_objects={'correlation_coefficient_loss_RMSE': correlation_coefficient_loss_RMSE})\n",
        "\n",
        "yhat_4=model.predict([test_X_1D,test_X_2D])\n",
        "\n",
        "\n",
        " ### Present ###\n",
        "yhat_5=yhat_4.reshape((yhat_4.shape[0]*w,6))\n",
        "test_y_r=test_y.reshape((test_y.shape[0]*w,6))\n",
        "\n",
        "print(yhat_4.shape)\n",
        "\n",
        "\n",
        "### Unpack ###\n",
        "yhat_up=unpack_dataset_present(np.array(yhat_5))\n",
        "test_y_up=unpack_dataset_present(np.array(test_y_r))\n",
        "\n",
        "print(yhat_up.shape,test_y_up.shape)\n",
        "\n",
        "### Present ###\n",
        "\n",
        "yhat_up=yhat_up.reshape(int(len(yhat_up)/6),6)\n",
        "test_y_up=test_y_up.reshape(int(len(test_y_up)/6),6)\n",
        "\n",
        "print(yhat_up.shape,test_y_up.shape)"
      ]
    },
    {
      "cell_type": "code",
      "execution_count": null,
      "metadata": {
        "colab": {
          "base_uri": "https://localhost:8080/"
        },
        "id": "cJqZAmN53ZbD",
        "outputId": "5c01dc61-25a6-4cef-d9b6-f24a6b712bd9"
      },
      "outputs": [
        {
          "output_type": "stream",
          "name": "stdout",
          "text": [
            "5.31328216378651\n",
            "6.98931070480695\n",
            "4.657402956616253\n",
            "\n",
            "\n",
            "5.653331941736571\n",
            "\n",
            "\n",
            "0.9513436191930913\n",
            "0.9601247979923256\n",
            "0.9004171188640064\n",
            "\n",
            "\n",
            "0.9372951786831413\n"
          ]
        }
      ],
      "source": [
        "### Present ###\n",
        "\n",
        "rmse,p= prediction_test(np.array(yhat_up),np.array(test_y_up))\n",
        "\n",
        "print(rmse[0])\n",
        "print(rmse[1])\n",
        "print(rmse[2])\n",
        "\n",
        "m=np.mean(rmse)\n",
        "\n",
        "print('\\n')\n",
        "print(m)\n",
        "\n",
        "print('\\n')\n",
        "\n",
        "print(p[0])\n",
        "print(p[1])\n",
        "print(p[2])\n",
        "print('\\n')\n",
        "\n",
        "print(np.mean(p))"
      ]
    },
    {
      "cell_type": "code",
      "execution_count": null,
      "metadata": {
        "id": "KC99sIDT3ZbD"
      },
      "outputs": [],
      "source": [
        "RMSE_Conv2D=rmse\n",
        "PCC_Conv2D=p\n",
        "\n",
        "Ablation_3=np.hstack([RMSE_Conv2D,PCC_Conv2D])"
      ]
    },
    {
      "cell_type": "markdown",
      "metadata": {
        "id": "zqNwcGyvLcPx"
      },
      "source": [
        "##4. GRU-Conv1D-Net"
      ]
    },
    {
      "cell_type": "code",
      "metadata": {
        "id": "KCeg7Fm_Io6r"
      },
      "source": [
        "def GRU_Conv1D_Net(inputs_1D_N,inputs_2D_N):\n",
        "\n",
        "  model_3=Bidirectional(GRU(128,return_sequences=True))(inputs_1D_N)\n",
        "  model_3=Dropout(0.4)(model_3)\n",
        "  model_3=Bidirectional(GRU(64,return_sequences=True))(model_3)\n",
        "  model_3=Dropout(0.4)(model_3)\n",
        "  model_3=Flatten()(model_3)\n",
        "\n",
        "  CNN=Conv1D(filters=64, kernel_size=3, activation='relu',padding='same')(inputs_1D_N)\n",
        "  CNN=Conv1D(filters=64, kernel_size=3, activation='relu',padding='same')(CNN)\n",
        "  CNN=BatchNormalization()(CNN)\n",
        "  CNN=MaxPooling1D(pool_size=2)(CNN)\n",
        "  CNN=Conv1D(filters=128, kernel_size=3, activation='relu',padding='same')(CNN)\n",
        "  CNN=Conv1D(filters=128, kernel_size=3, activation='relu',padding='same')(CNN)\n",
        "  CNN=BatchNormalization()(CNN)\n",
        "  CNN=MaxPooling1D(pool_size=2)(CNN)\n",
        "\n",
        "\n",
        "  CNN=Dense(64, activation='relu')(CNN)\n",
        "  CNN=Dropout(0.2)(CNN)\n",
        "  CNN=Dense(32, activation='relu')(CNN)\n",
        "  CNN=Dropout(0.2)(CNN)\n",
        "\n",
        "  CNN_1=Flatten()(CNN)\n",
        "  CNN= concatenate([model_3,CNN_1])\n",
        "\n",
        "  output_C1=Dense(6*w,bias_regularizer=l2(0.001), activation='linear')(CNN)\n",
        "\n",
        "\n",
        "  return output_C1"
      ],
      "execution_count": null,
      "outputs": []
    },
    {
      "cell_type": "code",
      "source": [
        "#### Main Model ####\n",
        "\n",
        "inputs_1D = tf.keras.layers.Input( shape=(w,12) )\n",
        "inputs_2D = tf.keras.layers.Input( shape=(w,6,2) )\n",
        "\n",
        "inputs_1D_N=BatchNormalization()(inputs_1D)\n",
        "inputs_2D_N=BatchNormalization()(inputs_2D)\n",
        "\n",
        "output=GRU_Conv1D_Net(inputs_1D_N,inputs_2D_N)\n",
        "\n",
        "model = Model(inputs=[inputs_1D, inputs_2D], outputs=output)\n",
        "model.compile(loss=correlation_coefficient_loss_RMSE, optimizer='Adam')\n",
        "\n",
        "\n",
        "history=model.fit([np.array(train_X_1D),np.array(train_X_2D)], train_y_5, epochs=30, batch_size=64, validation_data=([X_validation_1D,\\\n",
        "                                                                      X_validation_2D], Y_validation), verbose=2, shuffle=False)\n",
        "\n",
        "filename = path+'model_GRU_Conv1D.h5'\n",
        "model.save(filename)\n",
        "print('>Saved %s' % filename)\n",
        "\n",
        "# # # summarize history for loss\n",
        "plt.plot(history.history['loss'])\n",
        "plt.plot(history.history['val_loss'])\n",
        "plt.title('model loss')\n",
        "plt.ylabel('loss')\n",
        "plt.xlabel('epoch')\n",
        "plt.legend(['train', 'validation'], loc='upper right')\n",
        "plt.show()\n",
        "model.summary()\n"
      ],
      "metadata": {
        "colab": {
          "base_uri": "https://localhost:8080/",
          "height": 1000
        },
        "id": "X8Jn9dOplvEz",
        "outputId": "391e95fc-fc01-44dd-dc21-7d76631ad5dd"
      },
      "execution_count": null,
      "outputs": [
        {
          "output_type": "stream",
          "name": "stdout",
          "text": [
            "Epoch 1/30\n",
            "401/401 - 20s - loss: 6.7961 - val_loss: 6.5937 - 20s/epoch - 50ms/step\n",
            "Epoch 2/30\n",
            "401/401 - 9s - loss: 4.7496 - val_loss: 4.4259 - 9s/epoch - 24ms/step\n",
            "Epoch 3/30\n",
            "401/401 - 10s - loss: 4.2852 - val_loss: 4.0158 - 10s/epoch - 24ms/step\n",
            "Epoch 4/30\n",
            "401/401 - 9s - loss: 4.0053 - val_loss: 3.7512 - 9s/epoch - 24ms/step\n",
            "Epoch 5/30\n",
            "401/401 - 9s - loss: 3.8132 - val_loss: 3.6806 - 9s/epoch - 24ms/step\n",
            "Epoch 6/30\n",
            "401/401 - 10s - loss: 3.6712 - val_loss: 3.4728 - 10s/epoch - 24ms/step\n",
            "Epoch 7/30\n",
            "401/401 - 9s - loss: 3.5618 - val_loss: 3.3165 - 9s/epoch - 24ms/step\n",
            "Epoch 8/30\n",
            "401/401 - 9s - loss: 3.4650 - val_loss: 3.3164 - 9s/epoch - 23ms/step\n",
            "Epoch 9/30\n",
            "401/401 - 9s - loss: 3.4133 - val_loss: 3.2735 - 9s/epoch - 23ms/step\n",
            "Epoch 10/30\n",
            "401/401 - 9s - loss: 3.3235 - val_loss: 3.2157 - 9s/epoch - 23ms/step\n",
            "Epoch 11/30\n",
            "401/401 - 9s - loss: 3.2561 - val_loss: 3.1532 - 9s/epoch - 23ms/step\n",
            "Epoch 12/30\n",
            "401/401 - 9s - loss: 3.2015 - val_loss: 3.1768 - 9s/epoch - 23ms/step\n",
            "Epoch 13/30\n",
            "401/401 - 9s - loss: 3.1615 - val_loss: 3.0972 - 9s/epoch - 23ms/step\n",
            "Epoch 14/30\n",
            "401/401 - 9s - loss: 3.1045 - val_loss: 3.1218 - 9s/epoch - 23ms/step\n",
            "Epoch 15/30\n",
            "401/401 - 9s - loss: 3.0641 - val_loss: 3.0622 - 9s/epoch - 23ms/step\n",
            "Epoch 16/30\n",
            "401/401 - 9s - loss: 3.0535 - val_loss: 3.0834 - 9s/epoch - 23ms/step\n",
            "Epoch 17/30\n",
            "401/401 - 9s - loss: 2.9905 - val_loss: 2.9871 - 9s/epoch - 24ms/step\n",
            "Epoch 18/30\n",
            "401/401 - 9s - loss: 2.9481 - val_loss: 2.9717 - 9s/epoch - 24ms/step\n",
            "Epoch 19/30\n",
            "401/401 - 9s - loss: 2.9650 - val_loss: 2.8789 - 9s/epoch - 24ms/step\n",
            "Epoch 20/30\n",
            "401/401 - 9s - loss: 2.8955 - val_loss: 2.8869 - 9s/epoch - 23ms/step\n",
            "Epoch 21/30\n",
            "401/401 - 9s - loss: 2.8596 - val_loss: 2.8699 - 9s/epoch - 23ms/step\n",
            "Epoch 22/30\n",
            "401/401 - 9s - loss: 2.8290 - val_loss: 2.9060 - 9s/epoch - 23ms/step\n",
            "Epoch 23/30\n",
            "401/401 - 9s - loss: 2.8067 - val_loss: 2.8835 - 9s/epoch - 23ms/step\n",
            "Epoch 24/30\n",
            "401/401 - 9s - loss: 2.7949 - val_loss: 2.9235 - 9s/epoch - 23ms/step\n",
            "Epoch 25/30\n",
            "401/401 - 9s - loss: 2.7662 - val_loss: 2.9555 - 9s/epoch - 23ms/step\n",
            "Epoch 26/30\n",
            "401/401 - 9s - loss: 2.7409 - val_loss: 2.8815 - 9s/epoch - 23ms/step\n",
            "Epoch 27/30\n",
            "401/401 - 9s - loss: 2.7220 - val_loss: 2.8471 - 9s/epoch - 23ms/step\n",
            "Epoch 28/30\n",
            "401/401 - 9s - loss: 2.7067 - val_loss: 2.8184 - 9s/epoch - 23ms/step\n",
            "Epoch 29/30\n",
            "401/401 - 9s - loss: 2.6955 - val_loss: 2.8464 - 9s/epoch - 23ms/step\n",
            "Epoch 30/30\n",
            "401/401 - 9s - loss: 2.6620 - val_loss: 2.8070 - 9s/epoch - 23ms/step\n",
            ">Saved /content/model_GRU_Conv1D.h5\n"
          ]
        },
        {
          "output_type": "display_data",
          "data": {
            "text/plain": [
              "<Figure size 640x480 with 1 Axes>"
            ],
            "image/png": "[encoded data removed]"
          },
          "metadata": {}
        },
        {
          "output_type": "stream",
          "name": "stdout",
          "text": [
            "Model: \"model_3\"\n",
            "__________________________________________________________________________________________________\n",
            " Layer (type)                   Output Shape         Param #     Connected to                     \n",
            "==================================================================================================\n",
            " input_7 (InputLayer)           [(None, 100, 12)]    0           []                               \n",
            "                                                                                                  \n",
            " batch_normalization_10 (BatchN  (None, 100, 12)     48          ['input_7[0][0]']                \n",
            " ormalization)                                                                                    \n",
            "                                                                                                  \n",
            " conv1d_4 (Conv1D)              (None, 100, 64)      2368        ['batch_normalization_10[0][0]'] \n",
            "                                                                                                  \n",
            " conv1d_5 (Conv1D)              (None, 100, 64)      12352       ['conv1d_4[0][0]']               \n",
            "                                                                                                  \n",
            " batch_normalization_12 (BatchN  (None, 100, 64)     256         ['conv1d_5[0][0]']               \n",
            " ormalization)                                                                                    \n",
            "                                                                                                  \n",
            " max_pooling1d_2 (MaxPooling1D)  (None, 50, 64)      0           ['batch_normalization_12[0][0]'] \n",
            "                                                                                                  \n",
            " conv1d_6 (Conv1D)              (None, 50, 128)      24704       ['max_pooling1d_2[0][0]']        \n",
            "                                                                                                  \n",
            " conv1d_7 (Conv1D)              (None, 50, 128)      49280       ['conv1d_6[0][0]']               \n",
            "                                                                                                  \n",
            " batch_normalization_13 (BatchN  (None, 50, 128)     512         ['conv1d_7[0][0]']               \n",
            " ormalization)                                                                                    \n",
            "                                                                                                  \n",
            " max_pooling1d_3 (MaxPooling1D)  (None, 25, 128)     0           ['batch_normalization_13[0][0]'] \n",
            "                                                                                                  \n",
            " bidirectional_2 (Bidirectional  (None, 100, 256)    109056      ['batch_normalization_10[0][0]'] \n",
            " )                                                                                                \n",
            "                                                                                                  \n",
            " dense_7 (Dense)                (None, 25, 64)       8256        ['max_pooling1d_3[0][0]']        \n",
            "                                                                                                  \n",
            " dropout_6 (Dropout)            (None, 100, 256)     0           ['bidirectional_2[0][0]']        \n",
            "                                                                                                  \n",
            " dropout_8 (Dropout)            (None, 25, 64)       0           ['dense_7[0][0]']                \n",
            "                                                                                                  \n",
            " bidirectional_3 (Bidirectional  (None, 100, 128)    123648      ['dropout_6[0][0]']              \n",
            " )                                                                                                \n",
            "                                                                                                  \n",
            " dense_8 (Dense)                (None, 25, 32)       2080        ['dropout_8[0][0]']              \n",
            "                                                                                                  \n",
            " dropout_7 (Dropout)            (None, 100, 128)     0           ['bidirectional_3[0][0]']        \n",
            "                                                                                                  \n",
            " dropout_9 (Dropout)            (None, 25, 32)       0           ['dense_8[0][0]']                \n",
            "                                                                                                  \n",
            " flatten_3 (Flatten)            (None, 12800)        0           ['dropout_7[0][0]']              \n",
            "                                                                                                  \n",
            " flatten_4 (Flatten)            (None, 800)          0           ['dropout_9[0][0]']              \n",
            "                                                                                                  \n",
            " concatenate (Concatenate)      (None, 13600)        0           ['flatten_3[0][0]',              \n",
            "                                                                  'flatten_4[0][0]']              \n",
            "                                                                                                  \n",
            " input_8 (InputLayer)           [(None, 100, 6, 2)]  0           []                               \n",
            "                                                                                                  \n",
            " dense_9 (Dense)                (None, 600)          8160600     ['concatenate[0][0]']            \n",
            "                                                                                                  \n",
            "==================================================================================================\n",
            "Total params: 8,493,160\n",
            "Trainable params: 8,492,752\n",
            "Non-trainable params: 408\n",
            "__________________________________________________________________________________________________\n"
          ]
        }
      ]
    },
    {
      "cell_type": "code",
      "execution_count": null,
      "metadata": {
        "colab": {
          "base_uri": "https://localhost:8080/"
        },
        "id": "mZtTMrJJ5_vJ",
        "outputId": "1144649c-bfef-4999-87c9-7a8593ac849c"
      },
      "outputs": [
        {
          "output_type": "execute_result",
          "data": {
            "text/plain": [
              "0"
            ]
          },
          "metadata": {},
          "execution_count": 37
        }
      ],
      "source": [
        "gc.collect()\n",
        "gc.collect()\n",
        "gc.collect()\n",
        "gc.collect()"
      ]
    },
    {
      "cell_type": "code",
      "execution_count": null,
      "metadata": {
        "colab": {
          "base_uri": "https://localhost:8080/"
        },
        "id": "7s7ifLf55_vJ",
        "outputId": "47f5fcb8-eb66-48bd-e7a5-0e74c3506378"
      },
      "outputs": [
        {
          "output_type": "stream",
          "name": "stdout",
          "text": [
            "105/105 [==============================] - 2s 9ms/step\n",
            "(3358, 600)\n",
            "(1007400,) (1007400,)\n",
            "(167900, 6) (167900, 6)\n"
          ]
        }
      ],
      "source": [
        "model_path = path+'model_GRU_Conv1D.h5'\n",
        "model=load_model(model_path, custom_objects={'correlation_coefficient_loss_RMSE': correlation_coefficient_loss_RMSE})\n",
        "\n",
        "\n",
        "yhat_4=model.predict([test_X_1D,test_X_2D])\n",
        "\n",
        "\n",
        " ### Present ###\n",
        "yhat_5=yhat_4.reshape((yhat_4.shape[0]*w,6))\n",
        "test_y_r=test_y.reshape((test_y.shape[0]*w,6))\n",
        "\n",
        "print(yhat_4.shape)\n",
        "\n",
        "\n",
        "### Unpack ###\n",
        "yhat_up=unpack_dataset_present(np.array(yhat_5))\n",
        "test_y_up=unpack_dataset_present(np.array(test_y_r))\n",
        "\n",
        "print(yhat_up.shape,test_y_up.shape)\n",
        "\n",
        "### Present ###\n",
        "\n",
        "yhat_up=yhat_up.reshape(int(len(yhat_up)/6),6)\n",
        "test_y_up=test_y_up.reshape(int(len(test_y_up)/6),6)\n",
        "\n",
        "print(yhat_up.shape,test_y_up.shape)"
      ]
    },
    {
      "cell_type": "code",
      "execution_count": null,
      "metadata": {
        "colab": {
          "base_uri": "https://localhost:8080/"
        },
        "id": "pdsED4O-5_vK",
        "outputId": "40bae2ce-ff92-4afb-d49f-3d1f65b1f276"
      },
      "outputs": [
        {
          "output_type": "stream",
          "name": "stdout",
          "text": [
            "4.650838209101936\n",
            "5.704855337178913\n",
            "3.2419291150556084\n",
            "\n",
            "\n",
            "4.532540887112153\n",
            "\n",
            "\n",
            "0.9628358122143263\n",
            "0.9736335871843904\n",
            "0.936185673566208\n",
            "\n",
            "\n",
            "0.9575516909883083\n"
          ]
        }
      ],
      "source": [
        "### Present ###\n",
        "\n",
        "rmse,p= prediction_test(np.array(yhat_up),np.array(test_y_up))\n",
        "\n",
        "print(rmse[0])\n",
        "print(rmse[1])\n",
        "print(rmse[2])\n",
        "\n",
        "m=np.mean(rmse)\n",
        "\n",
        "print('\\n')\n",
        "print(m)\n",
        "\n",
        "print('\\n')\n",
        "\n",
        "print(p[0])\n",
        "print(p[1])\n",
        "print(p[2])\n",
        "print('\\n')\n",
        "\n",
        "print(np.mean(p))"
      ]
    },
    {
      "cell_type": "code",
      "execution_count": null,
      "metadata": {
        "id": "D6g0Koh-5_vK"
      },
      "outputs": [],
      "source": [
        "RMSE_GRU_Conv1D=rmse\n",
        "PCC_GRU_Conv1D=p\n",
        "\n",
        "Ablation_4=np.hstack([RMSE_GRU_Conv1D,PCC_GRU_Conv1D])"
      ]
    },
    {
      "cell_type": "markdown",
      "metadata": {
        "id": "h_t-B6-pLg8Q"
      },
      "source": [
        "##5. GRU-Conv2D-Net"
      ]
    },
    {
      "cell_type": "code",
      "metadata": {
        "id": "YHtVi07VLjJo"
      },
      "source": [
        "def GRU_Conv2D_Net(inputs_1D_N,inputs_2D_N):\n",
        "\n",
        "  model_2=Bidirectional(GRU(128,return_sequences=True))(inputs_1D_N)\n",
        "  model_2=Dropout(0.4)(model_2)\n",
        "  model_2=Bidirectional(GRU(64,return_sequences=True))(model_2)\n",
        "  model_2=Dropout(0.4)(model_2)\n",
        "  model_2=Flatten()(model_2)\n",
        "\n",
        "  X=Conv2D(64, (3, 3), activation='relu',padding='same')(inputs_2D_N)\n",
        "  X=BatchNormalization()(X)\n",
        "  X=MaxPooling2D((2, 2))(X)\n",
        "  X=Conv2D(128, (3, 3), activation='relu', padding='same')(X)\n",
        "  X=BatchNormalization()(X)\n",
        "  X=MaxPooling2D((2, 2))(X)\n",
        "\n",
        "  X=Dense(64, activation='relu')(X)\n",
        "  X=Dropout(0.2)(X)\n",
        "  X=Dense(32,activation='relu')(X)\n",
        "  X=Dropout(0.2)(X)\n",
        "\n",
        "  X_1=Flatten()(X)\n",
        "  X= concatenate([model_2,X_1])\n",
        "\n",
        "  output_C2=Dense(6*w,bias_regularizer=l2(0.001), activation='linear')(X)\n",
        "\n",
        "\n",
        "  return output_C2"
      ],
      "execution_count": null,
      "outputs": []
    },
    {
      "cell_type": "code",
      "execution_count": null,
      "metadata": {
        "id": "jOYFllxg7EmP",
        "colab": {
          "base_uri": "https://localhost:8080/",
          "height": 1000
        },
        "outputId": "7d9f378f-887e-491c-8131-310be9d5fb65"
      },
      "outputs": [
        {
          "output_type": "stream",
          "name": "stdout",
          "text": [
            "Epoch 1/30\n",
            "401/401 - 20s - loss: 6.8746 - val_loss: 5.8746 - 20s/epoch - 49ms/step\n",
            "Epoch 2/30\n",
            "401/401 - 10s - loss: 4.7984 - val_loss: 4.1823 - 10s/epoch - 25ms/step\n",
            "Epoch 3/30\n",
            "401/401 - 10s - loss: 4.3473 - val_loss: 3.9270 - 10s/epoch - 25ms/step\n",
            "Epoch 4/30\n",
            "401/401 - 10s - loss: 4.0803 - val_loss: 3.6855 - 10s/epoch - 25ms/step\n",
            "Epoch 5/30\n",
            "401/401 - 10s - loss: 3.9202 - val_loss: 3.6093 - 10s/epoch - 25ms/step\n",
            "Epoch 6/30\n",
            "401/401 - 10s - loss: 3.7559 - val_loss: 3.4858 - 10s/epoch - 25ms/step\n",
            "Epoch 7/30\n",
            "401/401 - 10s - loss: 3.6595 - val_loss: 3.3636 - 10s/epoch - 24ms/step\n",
            "Epoch 8/30\n",
            "401/401 - 10s - loss: 3.5582 - val_loss: 3.3068 - 10s/epoch - 24ms/step\n",
            "Epoch 9/30\n",
            "401/401 - 10s - loss: 3.4763 - val_loss: 3.2931 - 10s/epoch - 24ms/step\n",
            "Epoch 10/30\n",
            "401/401 - 10s - loss: 3.4130 - val_loss: 3.2654 - 10s/epoch - 25ms/step\n",
            "Epoch 11/30\n",
            "401/401 - 10s - loss: 3.3571 - val_loss: 3.2633 - 10s/epoch - 26ms/step\n",
            "Epoch 12/30\n",
            "401/401 - 10s - loss: 3.3069 - val_loss: 3.1849 - 10s/epoch - 26ms/step\n",
            "Epoch 13/30\n",
            "401/401 - 10s - loss: 3.2546 - val_loss: 3.1595 - 10s/epoch - 25ms/step\n",
            "Epoch 14/30\n",
            "401/401 - 10s - loss: 3.1977 - val_loss: 3.0936 - 10s/epoch - 25ms/step\n",
            "Epoch 15/30\n",
            "401/401 - 10s - loss: 3.2089 - val_loss: 3.2165 - 10s/epoch - 25ms/step\n",
            "Epoch 16/30\n",
            "401/401 - 10s - loss: 3.1992 - val_loss: 3.1434 - 10s/epoch - 25ms/step\n",
            "Epoch 17/30\n",
            "401/401 - 10s - loss: 3.1014 - val_loss: 3.0617 - 10s/epoch - 25ms/step\n",
            "Epoch 18/30\n",
            "401/401 - 10s - loss: 3.0593 - val_loss: 3.0493 - 10s/epoch - 24ms/step\n",
            "Epoch 19/30\n",
            "401/401 - 10s - loss: 3.0267 - val_loss: 3.0315 - 10s/epoch - 25ms/step\n",
            "Epoch 20/30\n",
            "401/401 - 10s - loss: 2.9942 - val_loss: 2.9809 - 10s/epoch - 24ms/step\n",
            "Epoch 21/30\n",
            "401/401 - 10s - loss: 2.9852 - val_loss: 3.0192 - 10s/epoch - 25ms/step\n",
            "Epoch 22/30\n",
            "401/401 - 10s - loss: 2.9417 - val_loss: 2.9037 - 10s/epoch - 24ms/step\n",
            "Epoch 23/30\n",
            "401/401 - 10s - loss: 2.9206 - val_loss: 2.8830 - 10s/epoch - 25ms/step\n",
            "Epoch 24/30\n",
            "401/401 - 10s - loss: 2.8946 - val_loss: 2.9281 - 10s/epoch - 25ms/step\n",
            "Epoch 25/30\n",
            "401/401 - 10s - loss: 2.8876 - val_loss: 2.9973 - 10s/epoch - 25ms/step\n",
            "Epoch 26/30\n",
            "401/401 - 10s - loss: 2.8603 - val_loss: 2.8920 - 10s/epoch - 25ms/step\n",
            "Epoch 27/30\n",
            "401/401 - 10s - loss: 2.8317 - val_loss: 2.9337 - 10s/epoch - 25ms/step\n",
            "Epoch 28/30\n",
            "401/401 - 10s - loss: 2.8041 - val_loss: 2.8417 - 10s/epoch - 25ms/step\n",
            "Epoch 29/30\n",
            "401/401 - 10s - loss: 2.7860 - val_loss: 2.9264 - 10s/epoch - 25ms/step\n",
            "Epoch 30/30\n",
            "401/401 - 10s - loss: 2.7787 - val_loss: 2.8356 - 10s/epoch - 25ms/step\n",
            ">Saved /content/model_GRU_Conv2D.h5\n"
          ]
        },
        {
          "output_type": "display_data",
          "data": {
            "text/plain": [
              "<Figure size 640x480 with 1 Axes>"
            ],
            "image/png": "[encoded data removed]"
          },
          "metadata": {}
        },
        {
          "output_type": "stream",
          "name": "stdout",
          "text": [
            "Model: \"model_4\"\n",
            "__________________________________________________________________________________________________\n",
            " Layer (type)                   Output Shape         Param #     Connected to                     \n",
            "==================================================================================================\n",
            " input_10 (InputLayer)          [(None, 100, 6, 2)]  0           []                               \n",
            "                                                                                                  \n",
            " batch_normalization_15 (BatchN  (None, 100, 6, 2)   8           ['input_10[0][0]']               \n",
            " ormalization)                                                                                    \n",
            "                                                                                                  \n",
            " conv2d_2 (Conv2D)              (None, 100, 6, 64)   1216        ['batch_normalization_15[0][0]'] \n",
            "                                                                                                  \n",
            " batch_normalization_16 (BatchN  (None, 100, 6, 64)  256         ['conv2d_2[0][0]']               \n",
            " ormalization)                                                                                    \n",
            "                                                                                                  \n",
            " max_pooling2d_2 (MaxPooling2D)  (None, 50, 3, 64)   0           ['batch_normalization_16[0][0]'] \n",
            "                                                                                                  \n",
            " conv2d_3 (Conv2D)              (None, 50, 3, 128)   73856       ['max_pooling2d_2[0][0]']        \n",
            "                                                                                                  \n",
            " input_9 (InputLayer)           [(None, 100, 12)]    0           []                               \n",
            "                                                                                                  \n",
            " batch_normalization_17 (BatchN  (None, 50, 3, 128)  512         ['conv2d_3[0][0]']               \n",
            " ormalization)                                                                                    \n",
            "                                                                                                  \n",
            " batch_normalization_14 (BatchN  (None, 100, 12)     48          ['input_9[0][0]']                \n",
            " ormalization)                                                                                    \n",
            "                                                                                                  \n",
            " max_pooling2d_3 (MaxPooling2D)  (None, 25, 1, 128)  0           ['batch_normalization_17[0][0]'] \n",
            "                                                                                                  \n",
            " bidirectional_4 (Bidirectional  (None, 100, 256)    109056      ['batch_normalization_14[0][0]'] \n",
            " )                                                                                                \n",
            "                                                                                                  \n",
            " dense_10 (Dense)               (None, 25, 1, 64)    8256        ['max_pooling2d_3[0][0]']        \n",
            "                                                                                                  \n",
            " dropout_10 (Dropout)           (None, 100, 256)     0           ['bidirectional_4[0][0]']        \n",
            "                                                                                                  \n",
            " dropout_12 (Dropout)           (None, 25, 1, 64)    0           ['dense_10[0][0]']               \n",
            "                                                                                                  \n",
            " bidirectional_5 (Bidirectional  (None, 100, 128)    123648      ['dropout_10[0][0]']             \n",
            " )                                                                                                \n",
            "                                                                                                  \n",
            " dense_11 (Dense)               (None, 25, 1, 32)    2080        ['dropout_12[0][0]']             \n",
            "                                                                                                  \n",
            " dropout_11 (Dropout)           (None, 100, 128)     0           ['bidirectional_5[0][0]']        \n",
            "                                                                                                  \n",
            " dropout_13 (Dropout)           (None, 25, 1, 32)    0           ['dense_11[0][0]']               \n",
            "                                                                                                  \n",
            " flatten_5 (Flatten)            (None, 12800)        0           ['dropout_11[0][0]']             \n",
            "                                                                                                  \n",
            " flatten_6 (Flatten)            (None, 800)          0           ['dropout_13[0][0]']             \n",
            "                                                                                                  \n",
            " concatenate_1 (Concatenate)    (None, 13600)        0           ['flatten_5[0][0]',              \n",
            "                                                                  'flatten_6[0][0]']              \n",
            "                                                                                                  \n",
            " dense_12 (Dense)               (None, 600)          8160600     ['concatenate_1[0][0]']          \n",
            "                                                                                                  \n",
            "==================================================================================================\n",
            "Total params: 8,479,536\n",
            "Trainable params: 8,479,124\n",
            "Non-trainable params: 412\n",
            "__________________________________________________________________________________________________\n"
          ]
        }
      ],
      "source": [
        "#### Main Model ####\n",
        "\n",
        "inputs_1D = tf.keras.layers.Input( shape=(w,12) )\n",
        "inputs_2D = tf.keras.layers.Input( shape=(w,6,2) )\n",
        "\n",
        "\n",
        "inputs_1D_N=BatchNormalization()(inputs_1D)\n",
        "inputs_2D_N=BatchNormalization()(inputs_2D)\n",
        "\n",
        "\n",
        "output=GRU_Conv2D_Net(inputs_1D_N,inputs_2D_N)\n",
        "\n",
        "model = Model(inputs=[inputs_1D, inputs_2D], outputs=output)\n",
        "model.compile(loss=correlation_coefficient_loss_RMSE, optimizer='Adam')\n",
        "\n",
        "\n",
        "history=model.fit([np.array(train_X_1D),np.array(train_X_2D)], train_y_5, epochs=30, batch_size=64, validation_data=([X_validation_1D,\\\n",
        "                                                                      X_validation_2D], Y_validation), verbose=2, shuffle=False)\n",
        "\n",
        "filename = path+'model_GRU_Conv2D.h5'\n",
        "model.save(filename)\n",
        "print('>Saved %s' % filename)\n",
        "\n",
        "# # # summarize history for loss\n",
        "plt.plot(history.history['loss'])\n",
        "plt.plot(history.history['val_loss'])\n",
        "plt.title('model loss')\n",
        "plt.ylabel('loss')\n",
        "plt.xlabel('epoch')\n",
        "plt.legend(['train', 'validation'], loc='upper right')\n",
        "plt.show()\n",
        "model.summary()\n"
      ]
    },
    {
      "cell_type": "code",
      "execution_count": null,
      "metadata": {
        "colab": {
          "base_uri": "https://localhost:8080/"
        },
        "id": "BKaXjZ_I7EmQ",
        "outputId": "b0483d4d-4052-4591-9c98-c1d8778a4914"
      },
      "outputs": [
        {
          "output_type": "execute_result",
          "data": {
            "text/plain": [
              "0"
            ]
          },
          "metadata": {},
          "execution_count": 43
        }
      ],
      "source": [
        "gc.collect()\n",
        "gc.collect()\n",
        "gc.collect()\n",
        "gc.collect()"
      ]
    },
    {
      "cell_type": "code",
      "execution_count": null,
      "metadata": {
        "colab": {
          "base_uri": "https://localhost:8080/"
        },
        "id": "O1ONq4xM7EmQ",
        "outputId": "a40c6fa7-f117-4bcb-eed3-4d41c179adda"
      },
      "outputs": [
        {
          "output_type": "stream",
          "name": "stdout",
          "text": [
            "105/105 [==============================] - 2s 9ms/step\n",
            "(3358, 600)\n",
            "(1007400,) (1007400,)\n",
            "(167900, 6) (167900, 6)\n"
          ]
        }
      ],
      "source": [
        "model_path = path+'model_GRU_Conv2D.h5'\n",
        "model=load_model(model_path, custom_objects={'correlation_coefficient_loss_RMSE': correlation_coefficient_loss_RMSE})\n",
        "\n",
        "yhat_4=model.predict([test_X_1D,test_X_2D])\n",
        "\n",
        "\n",
        " ### Present ###\n",
        "yhat_5=yhat_4.reshape((yhat_4.shape[0]*w,6))\n",
        "test_y_r=test_y.reshape((test_y.shape[0]*w,6))\n",
        "\n",
        "print(yhat_4.shape)\n",
        "\n",
        "\n",
        "### Unpack ###\n",
        "yhat_up=unpack_dataset_present(np.array(yhat_5))\n",
        "test_y_up=unpack_dataset_present(np.array(test_y_r))\n",
        "\n",
        "print(yhat_up.shape,test_y_up.shape)\n",
        "\n",
        "### Present ###\n",
        "\n",
        "yhat_up=yhat_up.reshape(int(len(yhat_up)/6),6)\n",
        "test_y_up=test_y_up.reshape(int(len(test_y_up)/6),6)\n",
        "\n",
        "print(yhat_up.shape,test_y_up.shape)"
      ]
    },
    {
      "cell_type": "code",
      "execution_count": null,
      "metadata": {
        "colab": {
          "base_uri": "https://localhost:8080/"
        },
        "id": "ixDOV2Ux7EmQ",
        "outputId": "e4985459-1e4b-4f97-adb3-07d185901682"
      },
      "outputs": [
        {
          "output_type": "stream",
          "name": "stdout",
          "text": [
            "4.69147806277033\n",
            "5.576131457453798\n",
            "3.1685020459262927\n",
            "\n",
            "\n",
            "4.478703855383473\n",
            "\n",
            "\n",
            "0.9642629551191422\n",
            "0.9738648433214695\n",
            "0.9402385448094925\n",
            "\n",
            "\n",
            "0.9594554477500347\n"
          ]
        }
      ],
      "source": [
        "### Present ###\n",
        "\n",
        "rmse,p= prediction_test(np.array(yhat_up),np.array(test_y_up))\n",
        "\n",
        "print(rmse[0])\n",
        "print(rmse[1])\n",
        "print(rmse[2])\n",
        "\n",
        "m=np.mean(rmse)\n",
        "\n",
        "print('\\n')\n",
        "print(m)\n",
        "\n",
        "print('\\n')\n",
        "\n",
        "print(p[0])\n",
        "print(p[1])\n",
        "print(p[2])\n",
        "print('\\n')\n",
        "\n",
        "print(np.mean(p))"
      ]
    },
    {
      "cell_type": "code",
      "execution_count": null,
      "metadata": {
        "id": "5p1zOvBl7EmQ"
      },
      "outputs": [],
      "source": [
        "RMSE_GRU_Conv2D=rmse\n",
        "PCC_GRU_Conv2D=p\n",
        "\n",
        "Ablation_5=np.hstack([RMSE_GRU_Conv2D,PCC_GRU_Conv2D])"
      ]
    },
    {
      "cell_type": "markdown",
      "metadata": {
        "id": "icfDiBX_cqpG"
      },
      "source": [
        "##6. Conv1D-Conv2D-Net"
      ]
    },
    {
      "cell_type": "code",
      "metadata": {
        "id": "g3jlZlyNcqpK"
      },
      "source": [
        "def Conv1D_Conv2D_Net(inputs_1D_N,inputs_2D_N):\n",
        "\n",
        "  X=Conv2D(64, (3, 3), activation='relu',padding='same')(inputs_2D_N)\n",
        "  X=BatchNormalization()(X)\n",
        "  X=MaxPooling2D((2, 2))(X)\n",
        "  X=Conv2D(128, (3, 3), activation='relu', padding='same')(X)\n",
        "  X=BatchNormalization()(X)\n",
        "  X=MaxPooling2D((2, 2))(X)\n",
        "\n",
        "  X=Dense(64, activation='relu')(X)\n",
        "  X=Dropout(0.2)(X)\n",
        "  X=Dense(32,activation='relu')(X)\n",
        "  X=Dropout(0.2)(X)\n",
        "  X_1=Flatten()(X)\n",
        "\n",
        "  CNN=Conv1D(filters=64, kernel_size=3, activation='relu',padding='same')(inputs_1D_N)\n",
        "  CNN=Conv1D(filters=64, kernel_size=3, activation='relu',padding='same')(CNN)\n",
        "  CNN=BatchNormalization()(CNN)\n",
        "  CNN=MaxPooling1D(pool_size=2)(CNN)\n",
        "  CNN=Conv1D(filters=128, kernel_size=3, activation='relu',padding='same')(CNN)\n",
        "  CNN=Conv1D(filters=128, kernel_size=3, activation='relu',padding='same')(CNN)\n",
        "  CNN=BatchNormalization()(CNN)\n",
        "  CNN=MaxPooling1D(pool_size=2)(CNN)\n",
        "  CNN=Dense(64, activation='relu')(CNN)\n",
        "  CNN=Dropout(0.2)(CNN)\n",
        "  CNN=Dense(32, activation='relu')(CNN)\n",
        "  CNN=Dropout(0.2)(CNN)\n",
        "  CNN_1=Flatten()(CNN)\n",
        "\n",
        "  CNN= concatenate([X_1,CNN_1])\n",
        "  output_C1=Dense(6*w,bias_regularizer=l2(0.001), activation='linear')(CNN)\n",
        "\n",
        "\n",
        "  return output_C1"
      ],
      "execution_count": null,
      "outputs": []
    },
    {
      "cell_type": "code",
      "execution_count": null,
      "metadata": {
        "colab": {
          "base_uri": "https://localhost:8080/",
          "height": 1000
        },
        "id": "EDRmk-nb98pB",
        "outputId": "a7de9a23-5d1e-47e6-f0a2-31172614043c"
      },
      "outputs": [
        {
          "output_type": "stream",
          "name": "stdout",
          "text": [
            "Epoch 1/30\n",
            "401/401 - 12s - loss: 7.5460 - val_loss: 8.4423 - 12s/epoch - 31ms/step\n",
            "Epoch 2/30\n",
            "401/401 - 5s - loss: 5.2827 - val_loss: 4.7175 - 5s/epoch - 11ms/step\n",
            "Epoch 3/30\n",
            "401/401 - 4s - loss: 4.8397 - val_loss: 4.4380 - 4s/epoch - 11ms/step\n",
            "Epoch 4/30\n",
            "401/401 - 6s - loss: 4.5877 - val_loss: 4.4069 - 6s/epoch - 14ms/step\n",
            "Epoch 5/30\n",
            "401/401 - 5s - loss: 4.4246 - val_loss: 4.0440 - 5s/epoch - 13ms/step\n",
            "Epoch 6/30\n",
            "401/401 - 6s - loss: 4.2766 - val_loss: 4.0621 - 6s/epoch - 14ms/step\n",
            "Epoch 7/30\n",
            "401/401 - 6s - loss: 4.1699 - val_loss: 4.0232 - 6s/epoch - 14ms/step\n",
            "Epoch 8/30\n",
            "401/401 - 6s - loss: 4.1032 - val_loss: 3.7818 - 6s/epoch - 14ms/step\n",
            "Epoch 9/30\n",
            "401/401 - 5s - loss: 4.0370 - val_loss: 4.0986 - 5s/epoch - 12ms/step\n",
            "Epoch 10/30\n",
            "401/401 - 5s - loss: 3.9627 - val_loss: 3.8095 - 5s/epoch - 11ms/step\n",
            "Epoch 11/30\n",
            "401/401 - 5s - loss: 3.9103 - val_loss: 3.7835 - 5s/epoch - 14ms/step\n",
            "Epoch 12/30\n",
            "401/401 - 6s - loss: 3.8712 - val_loss: 3.6717 - 6s/epoch - 14ms/step\n",
            "Epoch 13/30\n",
            "401/401 - 5s - loss: 3.8201 - val_loss: 3.6255 - 5s/epoch - 12ms/step\n",
            "Epoch 14/30\n",
            "401/401 - 6s - loss: 3.7886 - val_loss: 3.7204 - 6s/epoch - 14ms/step\n",
            "Epoch 15/30\n",
            "401/401 - 5s - loss: 3.7475 - val_loss: 3.4837 - 5s/epoch - 12ms/step\n",
            "Epoch 16/30\n",
            "401/401 - 5s - loss: 3.7159 - val_loss: 3.5181 - 5s/epoch - 12ms/step\n",
            "Epoch 17/30\n",
            "401/401 - 4s - loss: 3.6872 - val_loss: 3.4715 - 4s/epoch - 10ms/step\n",
            "Epoch 18/30\n",
            "401/401 - 4s - loss: 3.6586 - val_loss: 3.4876 - 4s/epoch - 10ms/step\n",
            "Epoch 19/30\n",
            "401/401 - 4s - loss: 3.6323 - val_loss: 3.5964 - 4s/epoch - 11ms/step\n",
            "Epoch 20/30\n",
            "401/401 - 5s - loss: 3.6030 - val_loss: 3.5019 - 5s/epoch - 12ms/step\n",
            "Epoch 21/30\n",
            "401/401 - 5s - loss: 3.5734 - val_loss: 3.4798 - 5s/epoch - 13ms/step\n",
            "Epoch 22/30\n",
            "401/401 - 5s - loss: 3.5647 - val_loss: 3.4706 - 5s/epoch - 12ms/step\n",
            "Epoch 23/30\n",
            "401/401 - 4s - loss: 3.5458 - val_loss: 3.4869 - 4s/epoch - 11ms/step\n",
            "Epoch 24/30\n",
            "401/401 - 4s - loss: 3.5315 - val_loss: 3.4683 - 4s/epoch - 10ms/step\n",
            "Epoch 25/30\n",
            "401/401 - 5s - loss: 3.5164 - val_loss: 3.4920 - 5s/epoch - 12ms/step\n",
            "Epoch 26/30\n",
            "401/401 - 4s - loss: 3.4975 - val_loss: 3.4634 - 4s/epoch - 11ms/step\n",
            "Epoch 27/30\n",
            "401/401 - 4s - loss: 3.4767 - val_loss: 3.3677 - 4s/epoch - 11ms/step\n",
            "Epoch 28/30\n",
            "401/401 - 4s - loss: 3.4634 - val_loss: 3.4239 - 4s/epoch - 10ms/step\n",
            "Epoch 29/30\n",
            "401/401 - 4s - loss: 3.4406 - val_loss: 3.3888 - 4s/epoch - 10ms/step\n",
            "Epoch 30/30\n",
            "401/401 - 4s - loss: 3.4327 - val_loss: 3.3891 - 4s/epoch - 10ms/step\n",
            ">Saved /content/model_Conv1D_Conv2D.h5\n"
          ]
        },
        {
          "output_type": "display_data",
          "data": {
            "text/plain": [
              "<Figure size 640x480 with 1 Axes>"
            ],
            "image/png": "[encoded data removed]"
          },
          "metadata": {}
        },
        {
          "output_type": "stream",
          "name": "stdout",
          "text": [
            "Model: \"model_7\"\n",
            "__________________________________________________________________________________________________\n",
            " Layer (type)                   Output Shape         Param #     Connected to                     \n",
            "==================================================================================================\n",
            " input_15 (InputLayer)          [(None, 100, 12)]    0           []                               \n",
            "                                                                                                  \n",
            " batch_normalization_30 (BatchN  (None, 100, 12)     48          ['input_15[0][0]']               \n",
            " ormalization)                                                                                    \n",
            "                                                                                                  \n",
            " input_16 (InputLayer)          [(None, 100, 6, 2)]  0           []                               \n",
            "                                                                                                  \n",
            " conv1d_16 (Conv1D)             (None, 100, 64)      2368        ['batch_normalization_30[0][0]'] \n",
            "                                                                                                  \n",
            " batch_normalization_31 (BatchN  (None, 100, 6, 2)   8           ['input_16[0][0]']               \n",
            " ormalization)                                                                                    \n",
            "                                                                                                  \n",
            " conv1d_17 (Conv1D)             (None, 100, 64)      12352       ['conv1d_16[0][0]']              \n",
            "                                                                                                  \n",
            " conv2d_8 (Conv2D)              (None, 100, 6, 64)   1216        ['batch_normalization_31[0][0]'] \n",
            "                                                                                                  \n",
            " batch_normalization_34 (BatchN  (None, 100, 64)     256         ['conv1d_17[0][0]']              \n",
            " ormalization)                                                                                    \n",
            "                                                                                                  \n",
            " batch_normalization_32 (BatchN  (None, 100, 6, 64)  256         ['conv2d_8[0][0]']               \n",
            " ormalization)                                                                                    \n",
            "                                                                                                  \n",
            " max_pooling1d_8 (MaxPooling1D)  (None, 50, 64)      0           ['batch_normalization_34[0][0]'] \n",
            "                                                                                                  \n",
            " max_pooling2d_8 (MaxPooling2D)  (None, 50, 3, 64)   0           ['batch_normalization_32[0][0]'] \n",
            "                                                                                                  \n",
            " conv1d_18 (Conv1D)             (None, 50, 128)      24704       ['max_pooling1d_8[0][0]']        \n",
            "                                                                                                  \n",
            " conv2d_9 (Conv2D)              (None, 50, 3, 128)   73856       ['max_pooling2d_8[0][0]']        \n",
            "                                                                                                  \n",
            " conv1d_19 (Conv1D)             (None, 50, 128)      49280       ['conv1d_18[0][0]']              \n",
            "                                                                                                  \n",
            " batch_normalization_33 (BatchN  (None, 50, 3, 128)  512         ['conv2d_9[0][0]']               \n",
            " ormalization)                                                                                    \n",
            "                                                                                                  \n",
            " batch_normalization_35 (BatchN  (None, 50, 128)     512         ['conv1d_19[0][0]']              \n",
            " ormalization)                                                                                    \n",
            "                                                                                                  \n",
            " max_pooling2d_9 (MaxPooling2D)  (None, 25, 1, 128)  0           ['batch_normalization_33[0][0]'] \n",
            "                                                                                                  \n",
            " max_pooling1d_9 (MaxPooling1D)  (None, 25, 128)     0           ['batch_normalization_35[0][0]'] \n",
            "                                                                                                  \n",
            " dense_25 (Dense)               (None, 25, 1, 64)    8256        ['max_pooling2d_9[0][0]']        \n",
            "                                                                                                  \n",
            " dense_27 (Dense)               (None, 25, 64)       8256        ['max_pooling1d_9[0][0]']        \n",
            "                                                                                                  \n",
            " dropout_28 (Dropout)           (None, 25, 1, 64)    0           ['dense_25[0][0]']               \n",
            "                                                                                                  \n",
            " dropout_30 (Dropout)           (None, 25, 64)       0           ['dense_27[0][0]']               \n",
            "                                                                                                  \n",
            " dense_26 (Dense)               (None, 25, 1, 32)    2080        ['dropout_28[0][0]']             \n",
            "                                                                                                  \n",
            " dense_28 (Dense)               (None, 25, 32)       2080        ['dropout_30[0][0]']             \n",
            "                                                                                                  \n",
            " dropout_29 (Dropout)           (None, 25, 1, 32)    0           ['dense_26[0][0]']               \n",
            "                                                                                                  \n",
            " dropout_31 (Dropout)           (None, 25, 32)       0           ['dense_28[0][0]']               \n",
            "                                                                                                  \n",
            " flatten_14 (Flatten)           (None, 800)          0           ['dropout_29[0][0]']             \n",
            "                                                                                                  \n",
            " flatten_15 (Flatten)           (None, 800)          0           ['dropout_31[0][0]']             \n",
            "                                                                                                  \n",
            " concatenate_4 (Concatenate)    (None, 1600)         0           ['flatten_14[0][0]',             \n",
            "                                                                  'flatten_15[0][0]']             \n",
            "                                                                                                  \n",
            " dense_29 (Dense)               (None, 600)          960600      ['concatenate_4[0][0]']          \n",
            "                                                                                                  \n",
            "==================================================================================================\n",
            "Total params: 1,146,640\n",
            "Trainable params: 1,145,844\n",
            "Non-trainable params: 796\n",
            "__________________________________________________________________________________________________\n"
          ]
        }
      ],
      "source": [
        "#### Main Model ####\n",
        "\n",
        "inputs_1D = tf.keras.layers.Input( shape=(w,12) )\n",
        "inputs_2D = tf.keras.layers.Input( shape=(w,6,2) )\n",
        "\n",
        "\n",
        "inputs_1D_N=BatchNormalization()(inputs_1D)\n",
        "inputs_2D_N=BatchNormalization()(inputs_2D)\n",
        "\n",
        "\n",
        "output=Conv1D_Conv2D_Net(inputs_1D_N,inputs_2D_N)\n",
        "\n",
        "model = Model(inputs=[inputs_1D, inputs_2D], outputs=output)\n",
        "model.compile(loss=correlation_coefficient_loss_RMSE, optimizer='Adam')\n",
        "\n",
        "\n",
        "history=model.fit([np.array(train_X_1D),np.array(train_X_2D)], train_y_5, epochs=30, batch_size=64, validation_data=([X_validation_1D,\\\n",
        "                                                                      X_validation_2D], Y_validation), verbose=2, shuffle=False)\n",
        "\n",
        "filename = path+'model_Conv1D_Conv2D.h5'\n",
        "model.save(filename)\n",
        "print('>Saved %s' % filename)\n",
        "\n",
        "# # # summarize history for loss\n",
        "plt.plot(history.history['loss'])\n",
        "plt.plot(history.history['val_loss'])\n",
        "plt.title('model loss')\n",
        "plt.ylabel('loss')\n",
        "plt.xlabel('epoch')\n",
        "plt.legend(['train', 'validation'], loc='upper right')\n",
        "plt.show()\n",
        "model.summary()\n"
      ]
    },
    {
      "cell_type": "code",
      "execution_count": null,
      "metadata": {
        "colab": {
          "base_uri": "https://localhost:8080/"
        },
        "id": "KyGfXdG698pB",
        "outputId": "98076b67-a351-4515-eeb8-359c66255e78"
      },
      "outputs": [
        {
          "output_type": "execute_result",
          "data": {
            "text/plain": [
              "0"
            ]
          },
          "metadata": {},
          "execution_count": 53
        }
      ],
      "source": [
        "gc.collect()\n",
        "gc.collect()\n",
        "gc.collect()\n",
        "gc.collect()"
      ]
    },
    {
      "cell_type": "code",
      "execution_count": null,
      "metadata": {
        "colab": {
          "base_uri": "https://localhost:8080/"
        },
        "id": "Uag-Kjcr98pB",
        "outputId": "b5462ba8-48bd-4a9d-e27e-28d4e1973ef1"
      },
      "outputs": [
        {
          "output_type": "stream",
          "name": "stdout",
          "text": [
            "105/105 [==============================] - 1s 6ms/step\n",
            "(3358, 600)\n",
            "(1007400,) (1007400,)\n",
            "(167900, 6) (167900, 6)\n"
          ]
        }
      ],
      "source": [
        "model_path = path+'model_Conv1D_Conv2D.h5'\n",
        "model=load_model(model_path, custom_objects={'correlation_coefficient_loss_RMSE': correlation_coefficient_loss_RMSE})\n",
        "\n",
        "yhat_4=model.predict([test_X_1D,test_X_2D])\n",
        "\n",
        "\n",
        " ### Present ###\n",
        "yhat_5=yhat_4.reshape((yhat_4.shape[0]*w,6))\n",
        "test_y_r=test_y.reshape((test_y.shape[0]*w,6))\n",
        "\n",
        "print(yhat_4.shape)\n",
        "\n",
        "\n",
        "### Unpack ###\n",
        "yhat_up=unpack_dataset_present(np.array(yhat_5))\n",
        "test_y_up=unpack_dataset_present(np.array(test_y_r))\n",
        "\n",
        "print(yhat_up.shape,test_y_up.shape)\n",
        "\n",
        "### Present ###\n",
        "\n",
        "yhat_up=yhat_up.reshape(int(len(yhat_up)/6),6)\n",
        "test_y_up=test_y_up.reshape(int(len(test_y_up)/6),6)\n",
        "\n",
        "print(yhat_up.shape,test_y_up.shape)"
      ]
    },
    {
      "cell_type": "code",
      "execution_count": null,
      "metadata": {
        "colab": {
          "base_uri": "https://localhost:8080/"
        },
        "id": "q8oj2kd998pB",
        "outputId": "baf0a8be-106e-4554-e844-4c0f7cc88242"
      },
      "outputs": [
        {
          "output_type": "stream",
          "name": "stdout",
          "text": [
            "4.768155576925212\n",
            "6.5666589382356575\n",
            "3.62100036889722\n",
            "\n",
            "\n",
            "4.985271628019363\n",
            "\n",
            "\n",
            "0.9611569558305513\n",
            "0.9669597415662672\n",
            "0.9233841849619326\n",
            "\n",
            "\n",
            "0.9505002941195837\n"
          ]
        }
      ],
      "source": [
        "### Present ###\n",
        "\n",
        "rmse,p= prediction_test(np.array(yhat_up),np.array(test_y_up))\n",
        "\n",
        "print(rmse[0])\n",
        "print(rmse[1])\n",
        "print(rmse[2])\n",
        "\n",
        "m=np.mean(rmse)\n",
        "\n",
        "print('\\n')\n",
        "print(m)\n",
        "\n",
        "print('\\n')\n",
        "\n",
        "print(p[0])\n",
        "print(p[1])\n",
        "print(p[2])\n",
        "print('\\n')\n",
        "\n",
        "print(np.mean(p))"
      ]
    },
    {
      "cell_type": "code",
      "execution_count": null,
      "metadata": {
        "id": "zURZeTd098pB"
      },
      "outputs": [],
      "source": [
        "RMSE_Conv1D_Conv2D=rmse\n",
        "PCC_Conv1D_Conv2D=p\n",
        "\n",
        "Ablation_6=np.hstack([RMSE_Conv1D_Conv2D,PCC_Conv1D_Conv2D])"
      ]
    },
    {
      "cell_type": "markdown",
      "metadata": {
        "id": "sELQp-gpL-Ww"
      },
      "source": [
        "##7. Gait-SubNet-1"
      ]
    },
    {
      "cell_type": "code",
      "metadata": {
        "id": "P4E8_7qSZY-R"
      },
      "source": [
        "def Gait_SubNet_1(inputs_1D_N,inputs_2D_N):\n",
        "\n",
        "  model_1=Bidirectional(GRU(128,return_sequences=True))(inputs_1D_N)\n",
        "  model_1=Dropout(0.4)(model_1)\n",
        "  model_1=Bidirectional(GRU(64,return_sequences=True))(model_1)\n",
        "  model_1=Dropout(0.4)(model_1)\n",
        "  model_1=Flatten()(model_1)\n",
        "\n",
        "  model_3=Bidirectional(GRU(128,return_sequences=True))(inputs_1D_N)\n",
        "  model_3=Dropout(0.4)(model_3)\n",
        "  model_3=Bidirectional(GRU(64,return_sequences=True))(model_3)\n",
        "  model_3=Dropout(0.4)(model_3)\n",
        "  model_3=Flatten()(model_3)\n",
        "\n",
        "  CNN=Conv1D(filters=64, kernel_size=3, activation='relu',padding='same')(inputs_1D_N)\n",
        "  CNN=Conv1D(filters=64, kernel_size=3, activation='relu',padding='same')(CNN)\n",
        "  CNN=BatchNormalization()(CNN)\n",
        "  CNN=MaxPooling1D(pool_size=2)(CNN)\n",
        "  CNN=Conv1D(filters=128, kernel_size=3, activation='relu',padding='same')(CNN)\n",
        "  CNN=Conv1D(filters=128, kernel_size=3, activation='relu',padding='same')(CNN)\n",
        "  CNN=BatchNormalization()(CNN)\n",
        "  CNN=MaxPooling1D(pool_size=2)(CNN)\n",
        "\n",
        "  CNN=Dense(64, activation='relu')(CNN)\n",
        "  CNN=Dropout(0.2)(CNN)\n",
        "  CNN=Dense(32, activation='relu')(CNN)\n",
        "  CNN=Dropout(0.2)(CNN)\n",
        "  CNN_1=Flatten()(CNN)\n",
        "  CNN= concatenate([model_3,CNN_1])\n",
        "\n",
        "  output_GRU=Dense(6*w,bias_regularizer=l2(0.001), activation='linear')(model_1)\n",
        "  output_C1=Dense(6*w,bias_regularizer=l2(0.001), activation='linear')(CNN)\n",
        "\n",
        "  output = Average()([output_GRU,output_C1])\n",
        "\n",
        "\n",
        "  return (output_GRU,output_C1,output)"
      ],
      "execution_count": null,
      "outputs": []
    },
    {
      "cell_type": "code",
      "execution_count": null,
      "metadata": {
        "id": "lQEm_kHl-Of3",
        "colab": {
          "base_uri": "https://localhost:8080/",
          "height": 1000
        },
        "outputId": "a3ea0693-a7d2-4877-eb4c-72ee9d891b6e"
      },
      "outputs": [
        {
          "output_type": "stream",
          "name": "stdout",
          "text": [
            "Epoch 1/30\n",
            "401/401 - 37s - loss: 21.1356 - dense_32_loss: 7.4605 - dense_33_loss: 6.8784 - average_1_loss: 6.7965 - val_loss: 16.8044 - val_dense_32_loss: 5.0144 - val_dense_33_loss: 6.4930 - val_average_1_loss: 5.2968 - 37s/epoch - 92ms/step\n",
            "Epoch 2/30\n",
            "401/401 - 17s - loss: 14.1703 - dense_32_loss: 4.9570 - dense_33_loss: 4.7341 - average_1_loss: 4.4791 - val_loss: 12.4592 - val_dense_32_loss: 4.2685 - val_dense_33_loss: 4.2062 - val_average_1_loss: 3.9844 - 17s/epoch - 43ms/step\n",
            "Epoch 3/30\n",
            "401/401 - 17s - loss: 12.7487 - dense_32_loss: 4.4841 - dense_33_loss: 4.2691 - average_1_loss: 3.9954 - val_loss: 11.4183 - val_dense_32_loss: 3.9280 - val_dense_33_loss: 3.8465 - val_average_1_loss: 3.6438 - 17s/epoch - 43ms/step\n",
            "Epoch 4/30\n",
            "401/401 - 19s - loss: 11.9636 - dense_32_loss: 4.2194 - dense_33_loss: 4.0173 - average_1_loss: 3.7268 - val_loss: 10.9333 - val_dense_32_loss: 3.7455 - val_dense_33_loss: 3.7097 - val_average_1_loss: 3.4781 - 19s/epoch - 47ms/step\n",
            "Epoch 5/30\n",
            "401/401 - 18s - loss: 11.3743 - dense_32_loss: 4.0257 - dense_33_loss: 3.8173 - average_1_loss: 3.5312 - val_loss: 10.6095 - val_dense_32_loss: 3.5758 - val_dense_33_loss: 3.6630 - val_average_1_loss: 3.3706 - 18s/epoch - 45ms/step\n",
            "Epoch 6/30\n",
            "401/401 - 17s - loss: 10.9750 - dense_32_loss: 3.8917 - dense_33_loss: 3.6851 - average_1_loss: 3.3981 - val_loss: 10.4738 - val_dense_32_loss: 3.7083 - val_dense_33_loss: 3.4618 - val_average_1_loss: 3.3037 - 17s/epoch - 43ms/step\n",
            "Epoch 7/30\n",
            "401/401 - 17s - loss: 10.7030 - dense_32_loss: 3.8226 - dense_33_loss: 3.5798 - average_1_loss: 3.3005 - val_loss: 9.9068 - val_dense_32_loss: 3.4018 - val_dense_33_loss: 3.3635 - val_average_1_loss: 3.1415 - 17s/epoch - 43ms/step\n",
            "Epoch 8/30\n",
            "401/401 - 17s - loss: 10.3478 - dense_32_loss: 3.6828 - dense_33_loss: 3.4779 - average_1_loss: 3.1871 - val_loss: 9.9511 - val_dense_32_loss: 3.4710 - val_dense_33_loss: 3.3318 - val_average_1_loss: 3.1482 - 17s/epoch - 43ms/step\n",
            "Epoch 9/30\n",
            "401/401 - 17s - loss: 10.1199 - dense_32_loss: 3.6167 - dense_33_loss: 3.3914 - average_1_loss: 3.1117 - val_loss: 9.6238 - val_dense_32_loss: 3.3140 - val_dense_33_loss: 3.2629 - val_average_1_loss: 3.0469 - 17s/epoch - 42ms/step\n",
            "Epoch 10/30\n",
            "401/401 - 17s - loss: 9.8794 - dense_32_loss: 3.5214 - dense_33_loss: 3.3253 - average_1_loss: 3.0327 - val_loss: 9.4613 - val_dense_32_loss: 3.2298 - val_dense_33_loss: 3.2356 - val_average_1_loss: 2.9958 - 17s/epoch - 42ms/step\n",
            "Epoch 11/30\n",
            "401/401 - 17s - loss: 9.7237 - dense_32_loss: 3.4745 - dense_33_loss: 3.2694 - average_1_loss: 2.9799 - val_loss: 9.3815 - val_dense_32_loss: 3.1933 - val_dense_33_loss: 3.2309 - val_average_1_loss: 2.9573 - 17s/epoch - 43ms/step\n",
            "Epoch 12/30\n",
            "401/401 - 17s - loss: 9.5416 - dense_32_loss: 3.4042 - dense_33_loss: 3.2194 - average_1_loss: 2.9180 - val_loss: 9.2193 - val_dense_32_loss: 3.1742 - val_dense_33_loss: 3.1347 - val_average_1_loss: 2.9103 - 17s/epoch - 43ms/step\n",
            "Epoch 13/30\n",
            "401/401 - 18s - loss: 9.3733 - dense_32_loss: 3.3572 - dense_33_loss: 3.1530 - average_1_loss: 2.8630 - val_loss: 9.1338 - val_dense_32_loss: 3.1098 - val_dense_33_loss: 3.1420 - val_average_1_loss: 2.8820 - 18s/epoch - 44ms/step\n",
            "Epoch 14/30\n",
            "401/401 - 20s - loss: 9.2402 - dense_32_loss: 3.3098 - dense_33_loss: 3.1121 - average_1_loss: 2.8182 - val_loss: 9.0144 - val_dense_32_loss: 3.0992 - val_dense_33_loss: 3.0735 - val_average_1_loss: 2.8417 - 20s/epoch - 49ms/step\n",
            "Epoch 15/30\n",
            "401/401 - 18s - loss: 9.1116 - dense_32_loss: 3.2655 - dense_33_loss: 3.0724 - average_1_loss: 2.7737 - val_loss: 8.9192 - val_dense_32_loss: 3.0740 - val_dense_33_loss: 3.0351 - val_average_1_loss: 2.8101 - 18s/epoch - 45ms/step\n",
            "Epoch 16/30\n",
            "401/401 - 20s - loss: 9.0010 - dense_32_loss: 3.2266 - dense_33_loss: 3.0353 - average_1_loss: 2.7391 - val_loss: 8.9330 - val_dense_32_loss: 3.0921 - val_dense_33_loss: 3.0311 - val_average_1_loss: 2.8098 - 20s/epoch - 49ms/step\n",
            "Epoch 17/30\n",
            "401/401 - 18s - loss: 8.9066 - dense_32_loss: 3.2064 - dense_33_loss: 2.9959 - average_1_loss: 2.7043 - val_loss: 8.9707 - val_dense_32_loss: 3.0455 - val_dense_33_loss: 3.0966 - val_average_1_loss: 2.8286 - 18s/epoch - 44ms/step\n",
            "Epoch 18/30\n",
            "401/401 - 18s - loss: 8.7831 - dense_32_loss: 3.1571 - dense_33_loss: 2.9616 - average_1_loss: 2.6645 - val_loss: 8.7330 - val_dense_32_loss: 2.9937 - val_dense_33_loss: 2.9948 - val_average_1_loss: 2.7445 - 18s/epoch - 44ms/step\n",
            "Epoch 19/30\n",
            "401/401 - 17s - loss: 8.6847 - dense_32_loss: 3.1240 - dense_33_loss: 2.9286 - average_1_loss: 2.6321 - val_loss: 8.7069 - val_dense_32_loss: 3.0098 - val_dense_33_loss: 2.9625 - val_average_1_loss: 2.7344 - 17s/epoch - 43ms/step\n",
            "Epoch 20/30\n",
            "401/401 - 17s - loss: 8.6149 - dense_32_loss: 3.1033 - dense_33_loss: 2.9048 - average_1_loss: 2.6067 - val_loss: 8.6704 - val_dense_32_loss: 3.0043 - val_dense_33_loss: 2.9448 - val_average_1_loss: 2.7212 - 17s/epoch - 44ms/step\n",
            "Epoch 21/30\n",
            "401/401 - 18s - loss: 8.5203 - dense_32_loss: 3.0716 - dense_33_loss: 2.8726 - average_1_loss: 2.5761 - val_loss: 8.4672 - val_dense_32_loss: 2.9243 - val_dense_33_loss: 2.8821 - val_average_1_loss: 2.6608 - 18s/epoch - 45ms/step\n",
            "Epoch 22/30\n",
            "401/401 - 17s - loss: 8.4439 - dense_32_loss: 3.0391 - dense_33_loss: 2.8545 - average_1_loss: 2.5503 - val_loss: 8.4895 - val_dense_32_loss: 2.9298 - val_dense_33_loss: 2.8938 - val_average_1_loss: 2.6658 - 17s/epoch - 42ms/step\n",
            "Epoch 23/30\n",
            "401/401 - 17s - loss: 8.3486 - dense_32_loss: 3.0062 - dense_33_loss: 2.8215 - average_1_loss: 2.5208 - val_loss: 8.4744 - val_dense_32_loss: 2.9165 - val_dense_33_loss: 2.8960 - val_average_1_loss: 2.6619 - 17s/epoch - 43ms/step\n",
            "Epoch 24/30\n",
            "401/401 - 17s - loss: 8.2948 - dense_32_loss: 2.9918 - dense_33_loss: 2.8021 - average_1_loss: 2.5008 - val_loss: 8.4714 - val_dense_32_loss: 2.9145 - val_dense_33_loss: 2.8946 - val_average_1_loss: 2.6622 - 17s/epoch - 43ms/step\n",
            "Epoch 25/30\n",
            "401/401 - 17s - loss: 8.2133 - dense_32_loss: 2.9637 - dense_33_loss: 2.7760 - average_1_loss: 2.4735 - val_loss: 8.3727 - val_dense_32_loss: 2.9011 - val_dense_33_loss: 2.8441 - val_average_1_loss: 2.6275 - 17s/epoch - 43ms/step\n",
            "Epoch 26/30\n",
            "401/401 - 17s - loss: 8.1429 - dense_32_loss: 2.9383 - dense_33_loss: 2.7560 - average_1_loss: 2.4485 - val_loss: 8.3016 - val_dense_32_loss: 2.8807 - val_dense_33_loss: 2.8155 - val_average_1_loss: 2.6053 - 17s/epoch - 43ms/step\n",
            "Epoch 27/30\n",
            "401/401 - 17s - loss: 8.0678 - dense_32_loss: 2.9135 - dense_33_loss: 2.7298 - average_1_loss: 2.4245 - val_loss: 8.5066 - val_dense_32_loss: 3.0146 - val_dense_33_loss: 2.8335 - val_average_1_loss: 2.6585 - 17s/epoch - 43ms/step\n",
            "Epoch 28/30\n",
            "401/401 - 17s - loss: 8.0639 - dense_32_loss: 2.9252 - dense_33_loss: 2.7176 - average_1_loss: 2.4210 - val_loss: 8.3288 - val_dense_32_loss: 2.8602 - val_dense_33_loss: 2.8599 - val_average_1_loss: 2.6087 - 17s/epoch - 43ms/step\n",
            "Epoch 29/30\n",
            "401/401 - 17s - loss: 7.9532 - dense_32_loss: 2.8786 - dense_33_loss: 2.6887 - average_1_loss: 2.3858 - val_loss: 8.3204 - val_dense_32_loss: 2.8835 - val_dense_33_loss: 2.8335 - val_average_1_loss: 2.6034 - 17s/epoch - 42ms/step\n",
            "Epoch 30/30\n",
            "401/401 - 17s - loss: 7.9149 - dense_32_loss: 2.8636 - dense_33_loss: 2.6791 - average_1_loss: 2.3721 - val_loss: 8.2669 - val_dense_32_loss: 2.8478 - val_dense_33_loss: 2.8288 - val_average_1_loss: 2.5903 - 17s/epoch - 42ms/step\n",
            ">Saved /content/model_Gait_subNet_1.h5\n"
          ]
        },
        {
          "output_type": "display_data",
          "data": {
            "text/plain": [
              "<Figure size 640x480 with 1 Axes>"
            ],
            "image/png": "[encoded data removed]"
          },
          "metadata": {}
        },
        {
          "output_type": "stream",
          "name": "stdout",
          "text": [
            "Model: \"model_8\"\n",
            "__________________________________________________________________________________________________\n",
            " Layer (type)                   Output Shape         Param #     Connected to                     \n",
            "==================================================================================================\n",
            " input_17 (InputLayer)          [(None, 100, 12)]    0           []                               \n",
            "                                                                                                  \n",
            " batch_normalization_36 (BatchN  (None, 100, 12)     48          ['input_17[0][0]']               \n",
            " ormalization)                                                                                    \n",
            "                                                                                                  \n",
            " conv1d_20 (Conv1D)             (None, 100, 64)      2368        ['batch_normalization_36[0][0]'] \n",
            "                                                                                                  \n",
            " conv1d_21 (Conv1D)             (None, 100, 64)      12352       ['conv1d_20[0][0]']              \n",
            "                                                                                                  \n",
            " batch_normalization_38 (BatchN  (None, 100, 64)     256         ['conv1d_21[0][0]']              \n",
            " ormalization)                                                                                    \n",
            "                                                                                                  \n",
            " max_pooling1d_10 (MaxPooling1D  (None, 50, 64)      0           ['batch_normalization_38[0][0]'] \n",
            " )                                                                                                \n",
            "                                                                                                  \n",
            " conv1d_22 (Conv1D)             (None, 50, 128)      24704       ['max_pooling1d_10[0][0]']       \n",
            "                                                                                                  \n",
            " conv1d_23 (Conv1D)             (None, 50, 128)      49280       ['conv1d_22[0][0]']              \n",
            "                                                                                                  \n",
            " batch_normalization_39 (BatchN  (None, 50, 128)     512         ['conv1d_23[0][0]']              \n",
            " ormalization)                                                                                    \n",
            "                                                                                                  \n",
            " max_pooling1d_11 (MaxPooling1D  (None, 25, 128)     0           ['batch_normalization_39[0][0]'] \n",
            " )                                                                                                \n",
            "                                                                                                  \n",
            " bidirectional_14 (Bidirectiona  (None, 100, 256)    109056      ['batch_normalization_36[0][0]'] \n",
            " l)                                                                                               \n",
            "                                                                                                  \n",
            " dense_30 (Dense)               (None, 25, 64)       8256        ['max_pooling1d_11[0][0]']       \n",
            "                                                                                                  \n",
            " bidirectional_12 (Bidirectiona  (None, 100, 256)    109056      ['batch_normalization_36[0][0]'] \n",
            " l)                                                                                               \n",
            "                                                                                                  \n",
            " dropout_34 (Dropout)           (None, 100, 256)     0           ['bidirectional_14[0][0]']       \n",
            "                                                                                                  \n",
            " dropout_36 (Dropout)           (None, 25, 64)       0           ['dense_30[0][0]']               \n",
            "                                                                                                  \n",
            " dropout_32 (Dropout)           (None, 100, 256)     0           ['bidirectional_12[0][0]']       \n",
            "                                                                                                  \n",
            " bidirectional_15 (Bidirectiona  (None, 100, 128)    123648      ['dropout_34[0][0]']             \n",
            " l)                                                                                               \n",
            "                                                                                                  \n",
            " dense_31 (Dense)               (None, 25, 32)       2080        ['dropout_36[0][0]']             \n",
            "                                                                                                  \n",
            " bidirectional_13 (Bidirectiona  (None, 100, 128)    123648      ['dropout_32[0][0]']             \n",
            " l)                                                                                               \n",
            "                                                                                                  \n",
            " dropout_35 (Dropout)           (None, 100, 128)     0           ['bidirectional_15[0][0]']       \n",
            "                                                                                                  \n",
            " dropout_37 (Dropout)           (None, 25, 32)       0           ['dense_31[0][0]']               \n",
            "                                                                                                  \n",
            " dropout_33 (Dropout)           (None, 100, 128)     0           ['bidirectional_13[0][0]']       \n",
            "                                                                                                  \n",
            " flatten_17 (Flatten)           (None, 12800)        0           ['dropout_35[0][0]']             \n",
            "                                                                                                  \n",
            " flatten_18 (Flatten)           (None, 800)          0           ['dropout_37[0][0]']             \n",
            "                                                                                                  \n",
            " flatten_16 (Flatten)           (None, 12800)        0           ['dropout_33[0][0]']             \n",
            "                                                                                                  \n",
            " concatenate_5 (Concatenate)    (None, 13600)        0           ['flatten_17[0][0]',             \n",
            "                                                                  'flatten_18[0][0]']             \n",
            "                                                                                                  \n",
            " dense_32 (Dense)               (None, 600)          7680600     ['flatten_16[0][0]']             \n",
            "                                                                                                  \n",
            " dense_33 (Dense)               (None, 600)          8160600     ['concatenate_5[0][0]']          \n",
            "                                                                                                  \n",
            " input_18 (InputLayer)          [(None, 100, 6, 2)]  0           []                               \n",
            "                                                                                                  \n",
            " average_1 (Average)            (None, 600)          0           ['dense_32[0][0]',               \n",
            "                                                                  'dense_33[0][0]']               \n",
            "                                                                                                  \n",
            "==================================================================================================\n",
            "Total params: 16,406,464\n",
            "Trainable params: 16,406,056\n",
            "Non-trainable params: 408\n",
            "__________________________________________________________________________________________________\n"
          ]
        }
      ],
      "source": [
        "#### Main Model ####\n",
        "\n",
        "inputs_1D = tf.keras.layers.Input( shape=(w,12) )\n",
        "inputs_2D = tf.keras.layers.Input( shape=(w,6,2) )\n",
        "\n",
        "\n",
        "inputs_1D_N=BatchNormalization()(inputs_1D)\n",
        "inputs_2D_N=BatchNormalization()(inputs_2D)\n",
        "\n",
        "\n",
        "output_1,output_2,output=Gait_SubNet_1(inputs_1D_N,inputs_2D_N)\n",
        "\n",
        "model = Model(inputs=[inputs_1D, inputs_2D], outputs=[output_1,output_2,output])\n",
        "model.compile(loss=correlation_coefficient_loss_RMSE, optimizer='Adam')\n",
        "\n",
        "\n",
        "history=model.fit([np.array(train_X_1D),np.array(train_X_2D)], [train_y_5,train_y_5,train_y_5], epochs=30, batch_size=64, validation_data=([X_validation_1D,\\\n",
        "                                                                      X_validation_2D], [Y_validation,Y_validation,Y_validation]), verbose=2, shuffle=False)\n",
        "\n",
        "filename = path+'model_Gait_subNet_1.h5'\n",
        "model.save(filename)\n",
        "print('>Saved %s' % filename)\n",
        "\n",
        "# # # summarize history for loss\n",
        "plt.plot(history.history['loss'])\n",
        "plt.plot(history.history['val_loss'])\n",
        "plt.title('model loss')\n",
        "plt.ylabel('loss')\n",
        "plt.xlabel('epoch')\n",
        "plt.legend(['train', 'validation'], loc='upper right')\n",
        "plt.show()\n",
        "model.summary()\n"
      ]
    },
    {
      "cell_type": "code",
      "execution_count": null,
      "metadata": {
        "colab": {
          "base_uri": "https://localhost:8080/"
        },
        "id": "ey_7MA9B-Of3",
        "outputId": "43aaf2dc-173d-4e8e-ac18-a63f7d08ab0f"
      },
      "outputs": [
        {
          "output_type": "execute_result",
          "data": {
            "text/plain": [
              "0"
            ]
          },
          "metadata": {},
          "execution_count": 59
        }
      ],
      "source": [
        "gc.collect()\n",
        "gc.collect()\n",
        "gc.collect()\n",
        "gc.collect()"
      ]
    },
    {
      "cell_type": "code",
      "execution_count": null,
      "metadata": {
        "colab": {
          "base_uri": "https://localhost:8080/"
        },
        "id": "LrjrpFzs-Of3",
        "outputId": "5ebd3bf5-8fc5-4183-b585-174e3ed811be"
      },
      "outputs": [
        {
          "output_type": "stream",
          "name": "stdout",
          "text": [
            "105/105 [==============================] - 4s 15ms/step\n",
            "(3358, 600)\n",
            "(1007400,) (1007400,)\n",
            "(167900, 6) (167900, 6)\n"
          ]
        }
      ],
      "source": [
        "model_path = path+'model_Gait_subNet_1.h5'\n",
        "model=load_model(model_path, custom_objects={'correlation_coefficient_loss_RMSE': correlation_coefficient_loss_RMSE})\n",
        "\n",
        "yhat_1,yhat_2,yhat_4=model.predict([test_X_1D,test_X_2D])\n",
        "\n",
        "### Present ###\n",
        "yhat_5=yhat_4.reshape((yhat_4.shape[0]*w,6))\n",
        "test_y_r=test_y.reshape((test_y.shape[0]*w,6))\n",
        "\n",
        "print(yhat_4.shape)\n",
        "\n",
        "### Unpack ###\n",
        "yhat_up=unpack_dataset_present(np.array(yhat_5))\n",
        "test_y_up=unpack_dataset_present(np.array(test_y_r))\n",
        "\n",
        "print(yhat_up.shape,test_y_up.shape)\n",
        "\n",
        "### Present ###\n",
        "\n",
        "yhat_up=yhat_up.reshape(int(len(yhat_up)/6),6)\n",
        "test_y_up=test_y_up.reshape(int(len(test_y_up)/6),6)\n",
        "\n",
        "print(yhat_up.shape,test_y_up.shape)"
      ]
    },
    {
      "cell_type": "code",
      "execution_count": null,
      "metadata": {
        "colab": {
          "base_uri": "https://localhost:8080/"
        },
        "id": "u51ePtJ8-Of4",
        "outputId": "12daaa42-1278-4d2c-e584-27ed2c6440a6"
      },
      "outputs": [
        {
          "output_type": "stream",
          "name": "stdout",
          "text": [
            "4.452916598987855\n",
            "5.274765556969797\n",
            "3.119427767260764\n",
            "\n",
            "\n",
            "4.282369974406138\n",
            "\n",
            "\n",
            "0.9672221222917282\n",
            "0.9748615590073163\n",
            "0.9437393764922597\n",
            "\n",
            "\n",
            "0.9619410192637682\n"
          ]
        }
      ],
      "source": [
        "### Present ###\n",
        "\n",
        "rmse,p= prediction_test(np.array(yhat_up),np.array(test_y_up))\n",
        "\n",
        "print(rmse[0])\n",
        "print(rmse[1])\n",
        "print(rmse[2])\n",
        "\n",
        "m=np.mean(rmse)\n",
        "\n",
        "print('\\n')\n",
        "print(m)\n",
        "\n",
        "print('\\n')\n",
        "\n",
        "print(p[0])\n",
        "print(p[1])\n",
        "print(p[2])\n",
        "print('\\n')\n",
        "\n",
        "print(np.mean(p))"
      ]
    },
    {
      "cell_type": "code",
      "execution_count": null,
      "metadata": {
        "id": "EMzitUWT-Of4"
      },
      "outputs": [],
      "source": [
        "RMSE_Gait_subNet_1=rmse\n",
        "PCC_Gait_subNet_1=p\n",
        "\n",
        "Ablation_7=np.hstack([RMSE_Gait_subNet_1,PCC_Gait_subNet_1])"
      ]
    },
    {
      "cell_type": "markdown",
      "metadata": {
        "id": "6CXxNBRuZynf"
      },
      "source": [
        "##8. Gait-SubNet-2"
      ]
    },
    {
      "cell_type": "code",
      "metadata": {
        "id": "TkgxLz6pZynf"
      },
      "source": [
        "def Gait_SubNet_2(inputs_1D_N,inputs_2D_N):\n",
        "\n",
        "  model_1=Bidirectional(GRU(128,return_sequences=True))(inputs_1D_N)\n",
        "  model_1=Dropout(0.4)(model_1)\n",
        "  model_1=Bidirectional(GRU(64,return_sequences=True))(model_1)\n",
        "  model_1=Dropout(0.4)(model_1)\n",
        "  model_1=Flatten()(model_1)\n",
        "\n",
        "  model_2=Bidirectional(GRU(128,return_sequences=True))(inputs_1D_N)\n",
        "  model_2=Dropout(0.4)(model_2)\n",
        "  model_2=Bidirectional(GRU(64,return_sequences=True))(model_2)\n",
        "  model_2=Dropout(0.4)(model_2)\n",
        "  model_2=Flatten()(model_2)\n",
        "\n",
        "  X=Conv2D(64, (3, 3), activation='relu',padding='same')(inputs_2D_N)\n",
        "  X=BatchNormalization()(X)\n",
        "  X=MaxPooling2D((2, 2))(X)\n",
        "  X=Conv2D(128, (3, 3), activation='relu', padding='same')(X)\n",
        "  X=BatchNormalization()(X)\n",
        "  X=MaxPooling2D((2, 2))(X)\n",
        "  X=Dense(64, activation='relu')(X)\n",
        "  X=Dropout(0.2)(X)\n",
        "  X=Dense(32,activation='relu')(X)\n",
        "  X=Dropout(0.2)(X)\n",
        "\n",
        "  X_1=Flatten()(X)\n",
        "  X= concatenate([model_2,X_1])\n",
        "\n",
        "  output_GRU=Dense(6*w,bias_regularizer=l2(0.001), activation='linear')(model_1)\n",
        "  output_C2=Dense(6*w,bias_regularizer=l2(0.001), activation='linear')(X)\n",
        "\n",
        "  output = Average()([output_GRU,output_C2])\n",
        "\n",
        "  return (output_GRU,output_C2,output)"
      ],
      "execution_count": null,
      "outputs": []
    },
    {
      "cell_type": "code",
      "execution_count": null,
      "metadata": {
        "id": "D-1elo0bB5gB",
        "colab": {
          "base_uri": "https://localhost:8080/",
          "height": 1000
        },
        "outputId": "c07e1ac2-c950-4b7c-ebcc-9e95b923fbd1"
      },
      "outputs": [
        {
          "output_type": "stream",
          "name": "stdout",
          "text": [
            "Epoch 1/30\n",
            "401/401 - 34s - loss: 21.3912 - dense_36_loss: 7.4713 - dense_37_loss: 6.9980 - average_2_loss: 6.9217 - val_loss: 16.1355 - val_dense_36_loss: 4.9785 - val_dense_37_loss: 6.0483 - val_average_2_loss: 5.1086 - 34s/epoch - 86ms/step\n",
            "Epoch 2/30\n",
            "401/401 - 18s - loss: 14.4098 - dense_36_loss: 4.9830 - dense_37_loss: 4.8240 - average_2_loss: 4.6027 - val_loss: 12.5365 - val_dense_36_loss: 4.2984 - val_dense_37_loss: 4.1964 - val_average_2_loss: 4.0416 - 18s/epoch - 44ms/step\n",
            "Epoch 3/30\n",
            "401/401 - 18s - loss: 12.9719 - dense_36_loss: 4.5084 - dense_37_loss: 4.3659 - average_2_loss: 4.0976 - val_loss: 11.5450 - val_dense_36_loss: 3.9639 - val_dense_37_loss: 3.8814 - val_average_2_loss: 3.6997 - 18s/epoch - 44ms/step\n",
            "Epoch 4/30\n",
            "401/401 - 17s - loss: 12.1761 - dense_36_loss: 4.2372 - dense_37_loss: 4.1184 - average_2_loss: 3.8204 - val_loss: 10.9543 - val_dense_36_loss: 3.8184 - val_dense_37_loss: 3.6178 - val_average_2_loss: 3.5181 - 17s/epoch - 43ms/step\n",
            "Epoch 5/30\n",
            "401/401 - 17s - loss: 11.5942 - dense_36_loss: 4.0469 - dense_37_loss: 3.9259 - average_2_loss: 3.6214 - val_loss: 10.5116 - val_dense_36_loss: 3.6074 - val_dense_37_loss: 3.5315 - val_average_2_loss: 3.3725 - 17s/epoch - 43ms/step\n",
            "Epoch 6/30\n",
            "401/401 - 17s - loss: 11.1251 - dense_36_loss: 3.8881 - dense_37_loss: 3.7738 - average_2_loss: 3.4631 - val_loss: 10.2375 - val_dense_36_loss: 3.5003 - val_dense_37_loss: 3.4605 - val_average_2_loss: 3.2767 - 17s/epoch - 43ms/step\n",
            "Epoch 7/30\n",
            "401/401 - 17s - loss: 10.7900 - dense_36_loss: 3.7720 - dense_37_loss: 3.6676 - average_2_loss: 3.3503 - val_loss: 10.0423 - val_dense_36_loss: 3.4471 - val_dense_37_loss: 3.3822 - val_average_2_loss: 3.2129 - 17s/epoch - 43ms/step\n",
            "Epoch 8/30\n",
            "401/401 - 17s - loss: 10.5497 - dense_36_loss: 3.7041 - dense_37_loss: 3.5803 - average_2_loss: 3.2652 - val_loss: 9.9159 - val_dense_36_loss: 3.3931 - val_dense_37_loss: 3.3537 - val_average_2_loss: 3.1691 - 17s/epoch - 43ms/step\n",
            "Epoch 9/30\n",
            "401/401 - 17s - loss: 10.3059 - dense_36_loss: 3.6107 - dense_37_loss: 3.5084 - average_2_loss: 3.1868 - val_loss: 9.6754 - val_dense_36_loss: 3.2777 - val_dense_37_loss: 3.3083 - val_average_2_loss: 3.0894 - 17s/epoch - 43ms/step\n",
            "Epoch 10/30\n",
            "401/401 - 17s - loss: 10.0725 - dense_36_loss: 3.5305 - dense_37_loss: 3.4317 - average_2_loss: 3.1103 - val_loss: 9.4144 - val_dense_36_loss: 3.2209 - val_dense_37_loss: 3.1931 - val_average_2_loss: 3.0004 - 17s/epoch - 43ms/step\n",
            "Epoch 11/30\n",
            "401/401 - 17s - loss: 9.8930 - dense_36_loss: 3.4688 - dense_37_loss: 3.3761 - average_2_loss: 3.0482 - val_loss: 9.3421 - val_dense_36_loss: 3.1899 - val_dense_37_loss: 3.1758 - val_average_2_loss: 2.9764 - 17s/epoch - 43ms/step\n",
            "Epoch 12/30\n",
            "401/401 - 17s - loss: 9.7576 - dense_36_loss: 3.4175 - dense_37_loss: 3.3371 - average_2_loss: 3.0029 - val_loss: 9.2273 - val_dense_36_loss: 3.1298 - val_dense_37_loss: 3.1597 - val_average_2_loss: 2.9378 - 17s/epoch - 43ms/step\n",
            "Epoch 13/30\n",
            "401/401 - 17s - loss: 9.5605 - dense_36_loss: 3.3537 - dense_37_loss: 3.2687 - average_2_loss: 2.9380 - val_loss: 9.2155 - val_dense_36_loss: 3.1707 - val_dense_37_loss: 3.1093 - val_average_2_loss: 2.9355 - 17s/epoch - 43ms/step\n",
            "Epoch 14/30\n",
            "401/401 - 17s - loss: 9.4346 - dense_36_loss: 3.3127 - dense_37_loss: 3.2279 - average_2_loss: 2.8940 - val_loss: 9.0607 - val_dense_36_loss: 3.0861 - val_dense_37_loss: 3.0906 - val_average_2_loss: 2.8839 - 17s/epoch - 43ms/step\n",
            "Epoch 15/30\n",
            "401/401 - 17s - loss: 9.2948 - dense_36_loss: 3.2635 - dense_37_loss: 3.1833 - average_2_loss: 2.8479 - val_loss: 9.0660 - val_dense_36_loss: 3.0869 - val_dense_37_loss: 3.0944 - val_average_2_loss: 2.8846 - 17s/epoch - 43ms/step\n",
            "Epoch 16/30\n",
            "401/401 - 17s - loss: 9.2151 - dense_36_loss: 3.2317 - dense_37_loss: 3.1636 - average_2_loss: 2.8197 - val_loss: 8.9003 - val_dense_36_loss: 3.0597 - val_dense_37_loss: 3.0082 - val_average_2_loss: 2.8324 - 17s/epoch - 43ms/step\n",
            "Epoch 17/30\n",
            "401/401 - 17s - loss: 9.0865 - dense_36_loss: 3.1918 - dense_37_loss: 3.1174 - average_2_loss: 2.7773 - val_loss: 8.9592 - val_dense_36_loss: 3.1130 - val_dense_37_loss: 3.0107 - val_average_2_loss: 2.8355 - 17s/epoch - 43ms/step\n",
            "Epoch 18/30\n",
            "401/401 - 17s - loss: 8.9964 - dense_36_loss: 3.1702 - dense_37_loss: 3.0820 - average_2_loss: 2.7442 - val_loss: 8.8091 - val_dense_36_loss: 3.0270 - val_dense_37_loss: 2.9903 - val_average_2_loss: 2.7918 - 17s/epoch - 43ms/step\n",
            "Epoch 19/30\n",
            "401/401 - 17s - loss: 8.8584 - dense_36_loss: 3.1179 - dense_37_loss: 3.0399 - average_2_loss: 2.7005 - val_loss: 8.7128 - val_dense_36_loss: 2.9810 - val_dense_37_loss: 2.9724 - val_average_2_loss: 2.7594 - 17s/epoch - 43ms/step\n",
            "Epoch 20/30\n",
            "401/401 - 17s - loss: 8.7837 - dense_36_loss: 3.0965 - dense_37_loss: 3.0128 - average_2_loss: 2.6743 - val_loss: 8.5903 - val_dense_36_loss: 2.9179 - val_dense_37_loss: 2.9573 - val_average_2_loss: 2.7150 - 17s/epoch - 43ms/step\n",
            "Epoch 21/30\n",
            "401/401 - 17s - loss: 8.6905 - dense_36_loss: 3.0613 - dense_37_loss: 2.9859 - average_2_loss: 2.6432 - val_loss: 8.5858 - val_dense_36_loss: 2.9084 - val_dense_37_loss: 2.9642 - val_average_2_loss: 2.7131 - 17s/epoch - 43ms/step\n",
            "Epoch 22/30\n",
            "401/401 - 17s - loss: 8.6159 - dense_36_loss: 3.0346 - dense_37_loss: 2.9630 - average_2_loss: 2.6183 - val_loss: 8.5946 - val_dense_36_loss: 2.9350 - val_dense_37_loss: 2.9450 - val_average_2_loss: 2.7146 - 17s/epoch - 43ms/step\n",
            "Epoch 23/30\n",
            "401/401 - 17s - loss: 8.5197 - dense_36_loss: 3.0035 - dense_37_loss: 2.9318 - average_2_loss: 2.5843 - val_loss: 8.5315 - val_dense_36_loss: 2.9144 - val_dense_37_loss: 2.9200 - val_average_2_loss: 2.6971 - 17s/epoch - 43ms/step\n",
            "Epoch 24/30\n",
            "401/401 - 17s - loss: 8.4713 - dense_36_loss: 2.9928 - dense_37_loss: 2.9118 - average_2_loss: 2.5667 - val_loss: 8.4250 - val_dense_36_loss: 2.9063 - val_dense_37_loss: 2.8702 - val_average_2_loss: 2.6484 - 17s/epoch - 43ms/step\n",
            "Epoch 25/30\n",
            "401/401 - 17s - loss: 8.4238 - dense_36_loss: 2.9756 - dense_37_loss: 2.8981 - average_2_loss: 2.5500 - val_loss: 8.3769 - val_dense_36_loss: 2.8755 - val_dense_37_loss: 2.8578 - val_average_2_loss: 2.6436 - 17s/epoch - 43ms/step\n",
            "Epoch 26/30\n",
            "401/401 - 17s - loss: 8.3047 - dense_36_loss: 2.9293 - dense_37_loss: 2.8641 - average_2_loss: 2.5113 - val_loss: 8.4011 - val_dense_36_loss: 2.8458 - val_dense_37_loss: 2.9068 - val_average_2_loss: 2.6484 - 17s/epoch - 43ms/step\n",
            "Epoch 27/30\n",
            "401/401 - 17s - loss: 8.2446 - dense_36_loss: 2.9124 - dense_37_loss: 2.8420 - average_2_loss: 2.4903 - val_loss: 8.2803 - val_dense_36_loss: 2.8534 - val_dense_37_loss: 2.8163 - val_average_2_loss: 2.6105 - 17s/epoch - 43ms/step\n",
            "Epoch 28/30\n",
            "401/401 - 17s - loss: 8.2020 - dense_36_loss: 2.8972 - dense_37_loss: 2.8272 - average_2_loss: 2.4776 - val_loss: 8.4285 - val_dense_36_loss: 2.8701 - val_dense_37_loss: 2.8952 - val_average_2_loss: 2.6632 - 17s/epoch - 43ms/step\n",
            "Epoch 29/30\n",
            "401/401 - 17s - loss: 8.1223 - dense_36_loss: 2.8712 - dense_37_loss: 2.8031 - average_2_loss: 2.4480 - val_loss: 8.3362 - val_dense_36_loss: 2.8290 - val_dense_37_loss: 2.8795 - val_average_2_loss: 2.6277 - 17s/epoch - 43ms/step\n",
            "Epoch 30/30\n",
            "401/401 - 17s - loss: 8.0713 - dense_36_loss: 2.8528 - dense_37_loss: 2.7861 - average_2_loss: 2.4323 - val_loss: 8.5160 - val_dense_36_loss: 2.8871 - val_dense_37_loss: 2.9415 - val_average_2_loss: 2.6874 - 17s/epoch - 43ms/step\n",
            ">Saved /content/model_Gait_subNet_2.h5\n"
          ]
        },
        {
          "output_type": "display_data",
          "data": {
            "text/plain": [
              "<Figure size 640x480 with 1 Axes>"
            ],
            "image/png": "[encoded data removed]"
          },
          "metadata": {}
        },
        {
          "output_type": "stream",
          "name": "stdout",
          "text": [
            "Model: \"model_9\"\n",
            "__________________________________________________________________________________________________\n",
            " Layer (type)                   Output Shape         Param #     Connected to                     \n",
            "==================================================================================================\n",
            " input_20 (InputLayer)          [(None, 100, 6, 2)]  0           []                               \n",
            "                                                                                                  \n",
            " batch_normalization_41 (BatchN  (None, 100, 6, 2)   8           ['input_20[0][0]']               \n",
            " ormalization)                                                                                    \n",
            "                                                                                                  \n",
            " conv2d_10 (Conv2D)             (None, 100, 6, 64)   1216        ['batch_normalization_41[0][0]'] \n",
            "                                                                                                  \n",
            " batch_normalization_42 (BatchN  (None, 100, 6, 64)  256         ['conv2d_10[0][0]']              \n",
            " ormalization)                                                                                    \n",
            "                                                                                                  \n",
            " max_pooling2d_10 (MaxPooling2D  (None, 50, 3, 64)   0           ['batch_normalization_42[0][0]'] \n",
            " )                                                                                                \n",
            "                                                                                                  \n",
            " conv2d_11 (Conv2D)             (None, 50, 3, 128)   73856       ['max_pooling2d_10[0][0]']       \n",
            "                                                                                                  \n",
            " input_19 (InputLayer)          [(None, 100, 12)]    0           []                               \n",
            "                                                                                                  \n",
            " batch_normalization_43 (BatchN  (None, 50, 3, 128)  512         ['conv2d_11[0][0]']              \n",
            " ormalization)                                                                                    \n",
            "                                                                                                  \n",
            " batch_normalization_40 (BatchN  (None, 100, 12)     48          ['input_19[0][0]']               \n",
            " ormalization)                                                                                    \n",
            "                                                                                                  \n",
            " max_pooling2d_11 (MaxPooling2D  (None, 25, 1, 128)  0           ['batch_normalization_43[0][0]'] \n",
            " )                                                                                                \n",
            "                                                                                                  \n",
            " bidirectional_18 (Bidirectiona  (None, 100, 256)    109056      ['batch_normalization_40[0][0]'] \n",
            " l)                                                                                               \n",
            "                                                                                                  \n",
            " dense_34 (Dense)               (None, 25, 1, 64)    8256        ['max_pooling2d_11[0][0]']       \n",
            "                                                                                                  \n",
            " bidirectional_16 (Bidirectiona  (None, 100, 256)    109056      ['batch_normalization_40[0][0]'] \n",
            " l)                                                                                               \n",
            "                                                                                                  \n",
            " dropout_40 (Dropout)           (None, 100, 256)     0           ['bidirectional_18[0][0]']       \n",
            "                                                                                                  \n",
            " dropout_42 (Dropout)           (None, 25, 1, 64)    0           ['dense_34[0][0]']               \n",
            "                                                                                                  \n",
            " dropout_38 (Dropout)           (None, 100, 256)     0           ['bidirectional_16[0][0]']       \n",
            "                                                                                                  \n",
            " bidirectional_19 (Bidirectiona  (None, 100, 128)    123648      ['dropout_40[0][0]']             \n",
            " l)                                                                                               \n",
            "                                                                                                  \n",
            " dense_35 (Dense)               (None, 25, 1, 32)    2080        ['dropout_42[0][0]']             \n",
            "                                                                                                  \n",
            " bidirectional_17 (Bidirectiona  (None, 100, 128)    123648      ['dropout_38[0][0]']             \n",
            " l)                                                                                               \n",
            "                                                                                                  \n",
            " dropout_41 (Dropout)           (None, 100, 128)     0           ['bidirectional_19[0][0]']       \n",
            "                                                                                                  \n",
            " dropout_43 (Dropout)           (None, 25, 1, 32)    0           ['dense_35[0][0]']               \n",
            "                                                                                                  \n",
            " dropout_39 (Dropout)           (None, 100, 128)     0           ['bidirectional_17[0][0]']       \n",
            "                                                                                                  \n",
            " flatten_20 (Flatten)           (None, 12800)        0           ['dropout_41[0][0]']             \n",
            "                                                                                                  \n",
            " flatten_21 (Flatten)           (None, 800)          0           ['dropout_43[0][0]']             \n",
            "                                                                                                  \n",
            " flatten_19 (Flatten)           (None, 12800)        0           ['dropout_39[0][0]']             \n",
            "                                                                                                  \n",
            " concatenate_6 (Concatenate)    (None, 13600)        0           ['flatten_20[0][0]',             \n",
            "                                                                  'flatten_21[0][0]']             \n",
            "                                                                                                  \n",
            " dense_36 (Dense)               (None, 600)          7680600     ['flatten_19[0][0]']             \n",
            "                                                                                                  \n",
            " dense_37 (Dense)               (None, 600)          8160600     ['concatenate_6[0][0]']          \n",
            "                                                                                                  \n",
            " average_2 (Average)            (None, 600)          0           ['dense_36[0][0]',               \n",
            "                                                                  'dense_37[0][0]']               \n",
            "                                                                                                  \n",
            "==================================================================================================\n",
            "Total params: 16,392,840\n",
            "Trainable params: 16,392,428\n",
            "Non-trainable params: 412\n",
            "__________________________________________________________________________________________________\n"
          ]
        }
      ],
      "source": [
        "#### Main Model ####\n",
        "\n",
        "inputs_1D = tf.keras.layers.Input( shape=(w,12) )\n",
        "inputs_2D = tf.keras.layers.Input( shape=(w,6,2) )\n",
        "\n",
        "\n",
        "inputs_1D_N=BatchNormalization()(inputs_1D)\n",
        "inputs_2D_N=BatchNormalization()(inputs_2D)\n",
        "\n",
        "\n",
        "output_1,output_2,output=Gait_SubNet_2(inputs_1D_N,inputs_2D_N)\n",
        "\n",
        "model = Model(inputs=[inputs_1D, inputs_2D], outputs=[output_1,output_2,output])\n",
        "model.compile(loss=correlation_coefficient_loss_RMSE, optimizer='Adam')\n",
        "\n",
        "\n",
        "history=model.fit([np.array(train_X_1D),np.array(train_X_2D)], [train_y_5,train_y_5,train_y_5], epochs=30, batch_size=64, validation_data=([X_validation_1D,\\\n",
        "                                                                      X_validation_2D], [Y_validation,Y_validation,Y_validation]), verbose=2, shuffle=False)\n",
        "\n",
        "filename = path+'model_Gait_subNet_2.h5'\n",
        "model.save(filename)\n",
        "print('>Saved %s' % filename)\n",
        "\n",
        "# # # summarize history for loss\n",
        "plt.plot(history.history['loss'])\n",
        "plt.plot(history.history['val_loss'])\n",
        "plt.title('model loss')\n",
        "plt.ylabel('loss')\n",
        "plt.xlabel('epoch')\n",
        "plt.legend(['train', 'validation'], loc='upper right')\n",
        "plt.show()\n",
        "model.summary()\n"
      ]
    },
    {
      "cell_type": "code",
      "execution_count": null,
      "metadata": {
        "colab": {
          "base_uri": "https://localhost:8080/"
        },
        "id": "F13g30mtB5gC",
        "outputId": "cc79c60e-7871-4b2c-d26c-2aa536e66381"
      },
      "outputs": [
        {
          "output_type": "execute_result",
          "data": {
            "text/plain": [
              "0"
            ]
          },
          "metadata": {},
          "execution_count": 65
        }
      ],
      "source": [
        "gc.collect()\n",
        "gc.collect()\n",
        "gc.collect()\n",
        "gc.collect()"
      ]
    },
    {
      "cell_type": "code",
      "execution_count": null,
      "metadata": {
        "colab": {
          "base_uri": "https://localhost:8080/"
        },
        "id": "OUJjWnx0B5gC",
        "outputId": "dd4bb1ee-bf11-4c19-9943-2267d7108f97"
      },
      "outputs": [
        {
          "output_type": "stream",
          "name": "stdout",
          "text": [
            "105/105 [==============================] - 3s 13ms/step\n",
            "(3358, 600)\n",
            "(1007400,) (1007400,)\n",
            "(167900, 6) (167900, 6)\n"
          ]
        }
      ],
      "source": [
        "model_path = path+'model_Gait_subNet_2.h5'\n",
        "model=load_model(model_path, custom_objects={'correlation_coefficient_loss_RMSE': correlation_coefficient_loss_RMSE})\n",
        "\n",
        "yhat_1,yhat_2,yhat_4=model.predict([test_X_1D,test_X_2D])\n",
        "\n",
        "### Present ###\n",
        "yhat_5=yhat_4.reshape((yhat_4.shape[0]*w,6))\n",
        "test_y_r=test_y.reshape((test_y.shape[0]*w,6))\n",
        "\n",
        "print(yhat_4.shape)\n",
        "\n",
        "\n",
        "### Unpack ###\n",
        "yhat_up=unpack_dataset_present(np.array(yhat_5))\n",
        "test_y_up=unpack_dataset_present(np.array(test_y_r))\n",
        "\n",
        "print(yhat_up.shape,test_y_up.shape)\n",
        "\n",
        "### Present ###\n",
        "\n",
        "yhat_up=yhat_up.reshape(int(len(yhat_up)/6),6)\n",
        "test_y_up=test_y_up.reshape(int(len(test_y_up)/6),6)\n",
        "\n",
        "print(yhat_up.shape,test_y_up.shape)"
      ]
    },
    {
      "cell_type": "code",
      "execution_count": null,
      "metadata": {
        "colab": {
          "base_uri": "https://localhost:8080/"
        },
        "id": "yQXgMjm5B5gC",
        "outputId": "a2745d4f-65a6-46f2-b4b4-5bdc7576a0f3"
      },
      "outputs": [
        {
          "output_type": "stream",
          "name": "stdout",
          "text": [
            "4.401033271937654\n",
            "5.066745488120478\n",
            "3.188689034656327\n",
            "\n",
            "\n",
            "4.218822598238153\n",
            "\n",
            "\n",
            "0.9671974879531031\n",
            "0.9772379474196187\n",
            "0.9409092890975572\n",
            "\n",
            "\n",
            "0.9617815748234264\n"
          ]
        }
      ],
      "source": [
        "### Present ###\n",
        "\n",
        "rmse,p= prediction_test(np.array(yhat_up),np.array(test_y_up))\n",
        "\n",
        "print(rmse[0])\n",
        "print(rmse[1])\n",
        "print(rmse[2])\n",
        "\n",
        "m=np.mean(rmse)\n",
        "\n",
        "print('\\n')\n",
        "print(m)\n",
        "\n",
        "print('\\n')\n",
        "\n",
        "print(p[0])\n",
        "print(p[1])\n",
        "print(p[2])\n",
        "print('\\n')\n",
        "\n",
        "print(np.mean(p))"
      ]
    },
    {
      "cell_type": "code",
      "execution_count": null,
      "metadata": {
        "id": "qyKs_jLvB5gC"
      },
      "outputs": [],
      "source": [
        "RMSE_Gait_subNet_2=rmse\n",
        "PCC_Gait_subNet_2=p\n",
        "\n",
        "Ablation_8=np.hstack([RMSE_Gait_subNet_2,PCC_Gait_subNet_2])"
      ]
    },
    {
      "cell_type": "markdown",
      "metadata": {
        "id": "fpDJxaP4Zqtn"
      },
      "source": [
        "##9. Gait-SubNet-3"
      ]
    },
    {
      "cell_type": "code",
      "metadata": {
        "id": "7XnX_gDpZqto"
      },
      "source": [
        "def Gait_SubNet_3(inputs_1D_N,inputs_2D_N):\n",
        "\n",
        "  model_2=Bidirectional(GRU(128,return_sequences=True))(inputs_1D_N)\n",
        "  model_2=Dropout(0.4)(model_2)\n",
        "  model_2=Bidirectional(GRU(64,return_sequences=True))(model_2)\n",
        "  model_2=Dropout(0.4)(model_2)\n",
        "  model_2=Flatten()(model_2)\n",
        "\n",
        "  X=Conv2D(64, (3, 3), activation='relu',padding='same')(inputs_2D_N)\n",
        "  X=BatchNormalization()(X)\n",
        "  X=MaxPooling2D((2, 2))(X)\n",
        "  X=Conv2D(128, (3, 3), activation='relu', padding='same')(X)\n",
        "  X=BatchNormalization()(X)\n",
        "  X=MaxPooling2D((2, 2))(X)\n",
        "\n",
        "  X=Dense(64, activation='relu')(X)\n",
        "  X=Dropout(0.2)(X)\n",
        "  X=Dense(32,activation='relu')(X)\n",
        "  X=Dropout(0.2)(X)\n",
        "  X_1=Flatten()(X)\n",
        "  X= concatenate([model_2,X_1])\n",
        "\n",
        "  model_3=Bidirectional(GRU(128,return_sequences=True))(inputs_1D_N)\n",
        "  model_3=Dropout(0.4)(model_3)\n",
        "  model_3=Bidirectional(GRU(64,return_sequences=True))(model_3)\n",
        "  model_3=Dropout(0.4)(model_3)\n",
        "  model_3=Flatten()(model_3)\n",
        "\n",
        "  CNN=Conv1D(filters=64, kernel_size=3, activation='relu',padding='same')(inputs_1D_N)\n",
        "  CNN=Conv1D(filters=64, kernel_size=3, activation='relu',padding='same')(CNN)\n",
        "  CNN=BatchNormalization()(CNN)\n",
        "  CNN=MaxPooling1D(pool_size=2)(CNN)\n",
        "  CNN=Conv1D(filters=128, kernel_size=3, activation='relu',padding='same')(CNN)\n",
        "  CNN=Conv1D(filters=128, kernel_size=3, activation='relu',padding='same')(CNN)\n",
        "  CNN=BatchNormalization()(CNN)\n",
        "  CNN=MaxPooling1D(pool_size=2)(CNN)\n",
        "\n",
        "  CNN=Dense(64, activation='relu')(CNN)\n",
        "  CNN=Dropout(0.2)(CNN)\n",
        "  CNN=Dense(32, activation='relu')(CNN)\n",
        "  CNN=Dropout(0.2)(CNN)\n",
        "\n",
        "  CNN_1=Flatten()(CNN)\n",
        "\n",
        "\n",
        "  CNN= concatenate([model_3,CNN_1])\n",
        "\n",
        "  output_C2=Dense(6*w,bias_regularizer=l2(0.001), activation='linear')(X)\n",
        "  output_C1=Dense(6*w,bias_regularizer=l2(0.001), activation='linear')(CNN)\n",
        "\n",
        "  output = Average()([output_C2,output_C1])\n",
        "\n",
        "\n",
        "  return (output_C1,output_C2,output)"
      ],
      "execution_count": null,
      "outputs": []
    },
    {
      "cell_type": "code",
      "execution_count": null,
      "metadata": {
        "id": "x3OwmvdyCG45",
        "colab": {
          "base_uri": "https://localhost:8080/",
          "height": 1000
        },
        "outputId": "f79736b7-eb75-4f34-cf61-223547579342"
      },
      "outputs": [
        {
          "output_type": "stream",
          "name": "stdout",
          "text": [
            "Epoch 1/30\n",
            "401/401 - 41s - loss: 20.1337 - dense_43_loss: 6.6883 - dense_42_loss: 6.9570 - average_3_loss: 6.4883 - val_loss: 18.4370 - val_dense_43_loss: 6.3786 - val_dense_42_loss: 6.0828 - val_average_3_loss: 5.9756 - 41s/epoch - 103ms/step\n",
            "Epoch 2/30\n",
            "401/401 - 19s - loss: 13.8764 - dense_43_loss: 4.6955 - dense_42_loss: 4.8023 - average_3_loss: 4.3785 - val_loss: 12.6769 - val_dense_43_loss: 4.2898 - val_dense_42_loss: 4.3175 - val_average_3_loss: 4.0695 - 19s/epoch - 47ms/step\n",
            "Epoch 3/30\n",
            "401/401 - 19s - loss: 12.5929 - dense_43_loss: 4.2772 - dense_42_loss: 4.3686 - average_3_loss: 3.9471 - val_loss: 11.6972 - val_dense_43_loss: 3.9913 - val_dense_42_loss: 3.9634 - val_average_3_loss: 3.7425 - 19s/epoch - 47ms/step\n",
            "Epoch 4/30\n",
            "401/401 - 19s - loss: 11.8484 - dense_43_loss: 4.0387 - dense_42_loss: 4.1145 - average_3_loss: 3.6951 - val_loss: 11.1428 - val_dense_43_loss: 3.7920 - val_dense_42_loss: 3.8029 - val_average_3_loss: 3.5479 - 19s/epoch - 47ms/step\n",
            "Epoch 5/30\n",
            "401/401 - 19s - loss: 11.2761 - dense_43_loss: 3.8420 - dense_42_loss: 3.9311 - average_3_loss: 3.5030 - val_loss: 10.6669 - val_dense_43_loss: 3.6353 - val_dense_42_loss: 3.6308 - val_average_3_loss: 3.4008 - 19s/epoch - 47ms/step\n",
            "Epoch 6/30\n",
            "401/401 - 19s - loss: 10.8766 - dense_43_loss: 3.7117 - dense_42_loss: 3.7961 - average_3_loss: 3.3688 - val_loss: 10.2539 - val_dense_43_loss: 3.5217 - val_dense_42_loss: 3.4732 - val_average_3_loss: 3.2590 - 19s/epoch - 47ms/step\n",
            "Epoch 7/30\n",
            "401/401 - 19s - loss: 10.5664 - dense_43_loss: 3.5949 - dense_42_loss: 3.7101 - average_3_loss: 3.2614 - val_loss: 10.0319 - val_dense_43_loss: 3.4113 - val_dense_42_loss: 3.4361 - val_average_3_loss: 3.1845 - 19s/epoch - 47ms/step\n",
            "Epoch 8/30\n",
            "401/401 - 19s - loss: 10.3009 - dense_43_loss: 3.5062 - dense_42_loss: 3.6232 - average_3_loss: 3.1714 - val_loss: 9.7793 - val_dense_43_loss: 3.3352 - val_dense_42_loss: 3.3418 - val_average_3_loss: 3.1023 - 19s/epoch - 47ms/step\n",
            "Epoch 9/30\n",
            "401/401 - 19s - loss: 10.0216 - dense_43_loss: 3.4166 - dense_42_loss: 3.5249 - average_3_loss: 3.0801 - val_loss: 9.6124 - val_dense_43_loss: 3.2664 - val_dense_42_loss: 3.3002 - val_average_3_loss: 3.0458 - 19s/epoch - 47ms/step\n",
            "Epoch 10/30\n",
            "401/401 - 19s - loss: 9.7987 - dense_43_loss: 3.3417 - dense_42_loss: 3.4505 - average_3_loss: 3.0064 - val_loss: 9.5380 - val_dense_43_loss: 3.2611 - val_dense_42_loss: 3.2656 - val_average_3_loss: 3.0113 - 19s/epoch - 47ms/step\n",
            "Epoch 11/30\n",
            "401/401 - 19s - loss: 9.6447 - dense_43_loss: 3.2867 - dense_42_loss: 3.4055 - average_3_loss: 2.9524 - val_loss: 9.3318 - val_dense_43_loss: 3.2019 - val_dense_42_loss: 3.1805 - val_average_3_loss: 2.9495 - 19s/epoch - 47ms/step\n",
            "Epoch 12/30\n",
            "401/401 - 19s - loss: 9.4393 - dense_43_loss: 3.2265 - dense_42_loss: 3.3272 - average_3_loss: 2.8855 - val_loss: 9.2913 - val_dense_43_loss: 3.2646 - val_dense_42_loss: 3.0946 - val_average_3_loss: 2.9321 - 19s/epoch - 47ms/step\n",
            "Epoch 13/30\n",
            "401/401 - 19s - loss: 9.2989 - dense_43_loss: 3.1766 - dense_42_loss: 3.2834 - average_3_loss: 2.8390 - val_loss: 9.2090 - val_dense_43_loss: 3.2142 - val_dense_42_loss: 3.0879 - val_average_3_loss: 2.9069 - 19s/epoch - 47ms/step\n",
            "Epoch 14/30\n",
            "401/401 - 19s - loss: 9.1566 - dense_43_loss: 3.1270 - dense_42_loss: 3.2389 - average_3_loss: 2.7907 - val_loss: 9.0408 - val_dense_43_loss: 3.1023 - val_dense_42_loss: 3.0749 - val_average_3_loss: 2.8636 - 19s/epoch - 47ms/step\n",
            "Epoch 15/30\n",
            "401/401 - 19s - loss: 9.0283 - dense_43_loss: 3.0785 - dense_42_loss: 3.2059 - average_3_loss: 2.7439 - val_loss: 9.1400 - val_dense_43_loss: 3.2051 - val_dense_42_loss: 3.0599 - val_average_3_loss: 2.8750 - 19s/epoch - 47ms/step\n",
            "Epoch 16/30\n",
            "401/401 - 19s - loss: 8.9577 - dense_43_loss: 3.0665 - dense_42_loss: 3.1686 - average_3_loss: 2.7226 - val_loss: 9.0086 - val_dense_43_loss: 3.1104 - val_dense_42_loss: 3.0421 - val_average_3_loss: 2.8560 - 19s/epoch - 47ms/step\n",
            "Epoch 17/30\n",
            "401/401 - 19s - loss: 8.7839 - dense_43_loss: 3.0041 - dense_42_loss: 3.1138 - average_3_loss: 2.6660 - val_loss: 8.8506 - val_dense_43_loss: 3.0733 - val_dense_42_loss: 2.9860 - val_average_3_loss: 2.7913 - 19s/epoch - 47ms/step\n",
            "Epoch 18/30\n",
            "401/401 - 19s - loss: 8.6643 - dense_43_loss: 2.9634 - dense_42_loss: 3.0748 - average_3_loss: 2.6261 - val_loss: 8.7484 - val_dense_43_loss: 3.0242 - val_dense_42_loss: 2.9729 - val_average_3_loss: 2.7513 - 19s/epoch - 47ms/step\n",
            "Epoch 19/30\n",
            "401/401 - 19s - loss: 8.5726 - dense_43_loss: 2.9330 - dense_42_loss: 3.0447 - average_3_loss: 2.5948 - val_loss: 8.6820 - val_dense_43_loss: 3.0286 - val_dense_42_loss: 2.9181 - val_average_3_loss: 2.7353 - 19s/epoch - 47ms/step\n",
            "Epoch 20/30\n",
            "401/401 - 19s - loss: 8.5006 - dense_43_loss: 2.9008 - dense_42_loss: 3.0288 - average_3_loss: 2.5710 - val_loss: 8.7370 - val_dense_43_loss: 3.0181 - val_dense_42_loss: 2.9641 - val_average_3_loss: 2.7549 - 19s/epoch - 47ms/step\n",
            "Epoch 21/30\n",
            "401/401 - 19s - loss: 8.5435 - dense_43_loss: 2.8876 - dense_42_loss: 3.0817 - average_3_loss: 2.5742 - val_loss: 9.1366 - val_dense_43_loss: 2.9862 - val_dense_42_loss: 3.2970 - val_average_3_loss: 2.8533 - 19s/epoch - 47ms/step\n",
            "Epoch 22/30\n",
            "401/401 - 19s - loss: 8.4367 - dense_43_loss: 2.8547 - dense_42_loss: 3.0379 - average_3_loss: 2.5441 - val_loss: 8.6675 - val_dense_43_loss: 2.9554 - val_dense_42_loss: 2.9737 - val_average_3_loss: 2.7383 - 19s/epoch - 47ms/step\n",
            "Epoch 23/30\n",
            "401/401 - 19s - loss: 8.2843 - dense_43_loss: 2.8301 - dense_42_loss: 2.9556 - average_3_loss: 2.4986 - val_loss: 8.6366 - val_dense_43_loss: 3.0068 - val_dense_42_loss: 2.9027 - val_average_3_loss: 2.7270 - 19s/epoch - 47ms/step\n",
            "Epoch 24/30\n",
            "401/401 - 19s - loss: 8.2111 - dense_43_loss: 2.8059 - dense_42_loss: 2.9315 - average_3_loss: 2.4737 - val_loss: 8.4546 - val_dense_43_loss: 2.9229 - val_dense_42_loss: 2.8698 - val_average_3_loss: 2.6619 - 19s/epoch - 47ms/step\n",
            "Epoch 25/30\n",
            "401/401 - 19s - loss: 8.1303 - dense_43_loss: 2.7779 - dense_42_loss: 2.9052 - average_3_loss: 2.4472 - val_loss: 8.4366 - val_dense_43_loss: 2.8935 - val_dense_42_loss: 2.8942 - val_average_3_loss: 2.6489 - 19s/epoch - 47ms/step\n",
            "Epoch 26/30\n",
            "401/401 - 19s - loss: 8.0627 - dense_43_loss: 2.7521 - dense_42_loss: 2.8865 - average_3_loss: 2.4241 - val_loss: 8.4060 - val_dense_43_loss: 2.8859 - val_dense_42_loss: 2.8803 - val_average_3_loss: 2.6398 - 19s/epoch - 47ms/step\n",
            "Epoch 27/30\n",
            "401/401 - 19s - loss: 8.0046 - dense_43_loss: 2.7377 - dense_42_loss: 2.8619 - average_3_loss: 2.4050 - val_loss: 8.4230 - val_dense_43_loss: 2.9007 - val_dense_42_loss: 2.8698 - val_average_3_loss: 2.6524 - 19s/epoch - 47ms/step\n",
            "Epoch 28/30\n",
            "401/401 - 19s - loss: 7.9637 - dense_43_loss: 2.7178 - dense_42_loss: 2.8578 - average_3_loss: 2.3881 - val_loss: 8.1470 - val_dense_43_loss: 2.8273 - val_dense_42_loss: 2.7687 - val_average_3_loss: 2.5510 - 19s/epoch - 47ms/step\n",
            "Epoch 29/30\n",
            "401/401 - 19s - loss: 7.9328 - dense_43_loss: 2.6985 - dense_42_loss: 2.8592 - average_3_loss: 2.3750 - val_loss: 8.2042 - val_dense_43_loss: 2.8329 - val_dense_42_loss: 2.7945 - val_average_3_loss: 2.5767 - 19s/epoch - 47ms/step\n",
            "Epoch 30/30\n",
            "401/401 - 20s - loss: 7.8352 - dense_43_loss: 2.6850 - dense_42_loss: 2.8042 - average_3_loss: 2.3460 - val_loss: 8.2361 - val_dense_43_loss: 2.8398 - val_dense_42_loss: 2.8201 - val_average_3_loss: 2.5762 - 20s/epoch - 50ms/step\n",
            ">Saved /content/model_Gait_subNet_3.h5\n"
          ]
        },
        {
          "output_type": "display_data",
          "data": {
            "text/plain": [
              "<Figure size 640x480 with 1 Axes>"
            ],
            "image/png": "[encoded data removed]"
          },
          "metadata": {}
        },
        {
          "output_type": "stream",
          "name": "stdout",
          "text": [
            "Model: \"model_10\"\n",
            "__________________________________________________________________________________________________\n",
            " Layer (type)                   Output Shape         Param #     Connected to                     \n",
            "==================================================================================================\n",
            " input_21 (InputLayer)          [(None, 100, 12)]    0           []                               \n",
            "                                                                                                  \n",
            " batch_normalization_44 (BatchN  (None, 100, 12)     48          ['input_21[0][0]']               \n",
            " ormalization)                                                                                    \n",
            "                                                                                                  \n",
            " conv1d_24 (Conv1D)             (None, 100, 64)      2368        ['batch_normalization_44[0][0]'] \n",
            "                                                                                                  \n",
            " input_22 (InputLayer)          [(None, 100, 6, 2)]  0           []                               \n",
            "                                                                                                  \n",
            " conv1d_25 (Conv1D)             (None, 100, 64)      12352       ['conv1d_24[0][0]']              \n",
            "                                                                                                  \n",
            " batch_normalization_45 (BatchN  (None, 100, 6, 2)   8           ['input_22[0][0]']               \n",
            " ormalization)                                                                                    \n",
            "                                                                                                  \n",
            " batch_normalization_48 (BatchN  (None, 100, 64)     256         ['conv1d_25[0][0]']              \n",
            " ormalization)                                                                                    \n",
            "                                                                                                  \n",
            " conv2d_12 (Conv2D)             (None, 100, 6, 64)   1216        ['batch_normalization_45[0][0]'] \n",
            "                                                                                                  \n",
            " max_pooling1d_12 (MaxPooling1D  (None, 50, 64)      0           ['batch_normalization_48[0][0]'] \n",
            " )                                                                                                \n",
            "                                                                                                  \n",
            " batch_normalization_46 (BatchN  (None, 100, 6, 64)  256         ['conv2d_12[0][0]']              \n",
            " ormalization)                                                                                    \n",
            "                                                                                                  \n",
            " conv1d_26 (Conv1D)             (None, 50, 128)      24704       ['max_pooling1d_12[0][0]']       \n",
            "                                                                                                  \n",
            " max_pooling2d_12 (MaxPooling2D  (None, 50, 3, 64)   0           ['batch_normalization_46[0][0]'] \n",
            " )                                                                                                \n",
            "                                                                                                  \n",
            " conv1d_27 (Conv1D)             (None, 50, 128)      49280       ['conv1d_26[0][0]']              \n",
            "                                                                                                  \n",
            " conv2d_13 (Conv2D)             (None, 50, 3, 128)   73856       ['max_pooling2d_12[0][0]']       \n",
            "                                                                                                  \n",
            " batch_normalization_49 (BatchN  (None, 50, 128)     512         ['conv1d_27[0][0]']              \n",
            " ormalization)                                                                                    \n",
            "                                                                                                  \n",
            " batch_normalization_47 (BatchN  (None, 50, 3, 128)  512         ['conv2d_13[0][0]']              \n",
            " ormalization)                                                                                    \n",
            "                                                                                                  \n",
            " max_pooling1d_13 (MaxPooling1D  (None, 25, 128)     0           ['batch_normalization_49[0][0]'] \n",
            " )                                                                                                \n",
            "                                                                                                  \n",
            " max_pooling2d_13 (MaxPooling2D  (None, 25, 1, 128)  0           ['batch_normalization_47[0][0]'] \n",
            " )                                                                                                \n",
            "                                                                                                  \n",
            " bidirectional_22 (Bidirectiona  (None, 100, 256)    109056      ['batch_normalization_44[0][0]'] \n",
            " l)                                                                                               \n",
            "                                                                                                  \n",
            " dense_40 (Dense)               (None, 25, 64)       8256        ['max_pooling1d_13[0][0]']       \n",
            "                                                                                                  \n",
            " bidirectional_20 (Bidirectiona  (None, 100, 256)    109056      ['batch_normalization_44[0][0]'] \n",
            " l)                                                                                               \n",
            "                                                                                                  \n",
            " dense_38 (Dense)               (None, 25, 1, 64)    8256        ['max_pooling2d_13[0][0]']       \n",
            "                                                                                                  \n",
            " dropout_48 (Dropout)           (None, 100, 256)     0           ['bidirectional_22[0][0]']       \n",
            "                                                                                                  \n",
            " dropout_50 (Dropout)           (None, 25, 64)       0           ['dense_40[0][0]']               \n",
            "                                                                                                  \n",
            " dropout_44 (Dropout)           (None, 100, 256)     0           ['bidirectional_20[0][0]']       \n",
            "                                                                                                  \n",
            " dropout_46 (Dropout)           (None, 25, 1, 64)    0           ['dense_38[0][0]']               \n",
            "                                                                                                  \n",
            " bidirectional_23 (Bidirectiona  (None, 100, 128)    123648      ['dropout_48[0][0]']             \n",
            " l)                                                                                               \n",
            "                                                                                                  \n",
            " dense_41 (Dense)               (None, 25, 32)       2080        ['dropout_50[0][0]']             \n",
            "                                                                                                  \n",
            " bidirectional_21 (Bidirectiona  (None, 100, 128)    123648      ['dropout_44[0][0]']             \n",
            " l)                                                                                               \n",
            "                                                                                                  \n",
            " dense_39 (Dense)               (None, 25, 1, 32)    2080        ['dropout_46[0][0]']             \n",
            "                                                                                                  \n",
            " dropout_49 (Dropout)           (None, 100, 128)     0           ['bidirectional_23[0][0]']       \n",
            "                                                                                                  \n",
            " dropout_51 (Dropout)           (None, 25, 32)       0           ['dense_41[0][0]']               \n",
            "                                                                                                  \n",
            " dropout_45 (Dropout)           (None, 100, 128)     0           ['bidirectional_21[0][0]']       \n",
            "                                                                                                  \n",
            " dropout_47 (Dropout)           (None, 25, 1, 32)    0           ['dense_39[0][0]']               \n",
            "                                                                                                  \n",
            " flatten_24 (Flatten)           (None, 12800)        0           ['dropout_49[0][0]']             \n",
            "                                                                                                  \n",
            " flatten_25 (Flatten)           (None, 800)          0           ['dropout_51[0][0]']             \n",
            "                                                                                                  \n",
            " flatten_22 (Flatten)           (None, 12800)        0           ['dropout_45[0][0]']             \n",
            "                                                                                                  \n",
            " flatten_23 (Flatten)           (None, 800)          0           ['dropout_47[0][0]']             \n",
            "                                                                                                  \n",
            " concatenate_8 (Concatenate)    (None, 13600)        0           ['flatten_24[0][0]',             \n",
            "                                                                  'flatten_25[0][0]']             \n",
            "                                                                                                  \n",
            " concatenate_7 (Concatenate)    (None, 13600)        0           ['flatten_22[0][0]',             \n",
            "                                                                  'flatten_23[0][0]']             \n",
            "                                                                                                  \n",
            " dense_43 (Dense)               (None, 600)          8160600     ['concatenate_8[0][0]']          \n",
            "                                                                                                  \n",
            " dense_42 (Dense)               (None, 600)          8160600     ['concatenate_7[0][0]']          \n",
            "                                                                                                  \n",
            " average_3 (Average)            (None, 600)          0           ['dense_42[0][0]',               \n",
            "                                                                  'dense_43[0][0]']               \n",
            "                                                                                                  \n",
            "==================================================================================================\n",
            "Total params: 16,972,648\n",
            "Trainable params: 16,971,852\n",
            "Non-trainable params: 796\n",
            "__________________________________________________________________________________________________\n"
          ]
        }
      ],
      "source": [
        "#### Main Model ####\n",
        "\n",
        "inputs_1D = tf.keras.layers.Input(shape=(w,12))\n",
        "inputs_2D = tf.keras.layers.Input(shape=(w,6,2))\n",
        "\n",
        "inputs_1D_N=BatchNormalization()(inputs_1D)\n",
        "inputs_2D_N=BatchNormalization()(inputs_2D)\n",
        "\n",
        "output_1,output_2,output=Gait_SubNet_3(inputs_1D_N,inputs_2D_N)\n",
        "\n",
        "model = Model(inputs=[inputs_1D, inputs_2D], outputs=[output_1,output_2,output])\n",
        "model.compile(loss=correlation_coefficient_loss_RMSE, optimizer='Adam')\n",
        "\n",
        "\n",
        "history=model.fit([np.array(train_X_1D),np.array(train_X_2D)], [train_y_5,train_y_5,train_y_5], epochs=30, batch_size=64, validation_data=([X_validation_1D,\\\n",
        "                                                                      X_validation_2D], [Y_validation,Y_validation,Y_validation]), verbose=2, shuffle=False)\n",
        "\n",
        "filename = path+'model_Gait_subNet_3.h5'\n",
        "model.save(filename)\n",
        "print('>Saved %s' % filename)\n",
        "\n",
        "# # # summarize history for loss\n",
        "plt.plot(history.history['loss'])\n",
        "plt.plot(history.history['val_loss'])\n",
        "plt.title('model loss')\n",
        "plt.ylabel('loss')\n",
        "plt.xlabel('epoch')\n",
        "plt.legend(['train', 'validation'], loc='upper right')\n",
        "plt.show()\n",
        "model.summary()\n"
      ]
    },
    {
      "cell_type": "code",
      "execution_count": null,
      "metadata": {
        "colab": {
          "base_uri": "https://localhost:8080/"
        },
        "id": "bpfUfImCCG46",
        "outputId": "a7da65a5-8126-4041-dd0a-4abde4258755"
      },
      "outputs": [
        {
          "output_type": "execute_result",
          "data": {
            "text/plain": [
              "0"
            ]
          },
          "metadata": {},
          "execution_count": 71
        }
      ],
      "source": [
        "gc.collect()\n",
        "gc.collect()\n",
        "gc.collect()\n",
        "gc.collect()"
      ]
    },
    {
      "cell_type": "code",
      "execution_count": null,
      "metadata": {
        "colab": {
          "base_uri": "https://localhost:8080/"
        },
        "id": "A5yFMnptCG46",
        "outputId": "736dadc1-e9b0-4b3d-8589-ab99a7191174"
      },
      "outputs": [
        {
          "output_type": "stream",
          "name": "stdout",
          "text": [
            "105/105 [==============================] - 5s 19ms/step\n",
            "(3358, 600)\n",
            "(1007400,) (1007400,)\n",
            "(167900, 6) (167900, 6)\n"
          ]
        }
      ],
      "source": [
        "model_path = path+'model_Gait_subNet_3.h5'\n",
        "model=load_model(model_path, custom_objects={'correlation_coefficient_loss_RMSE': correlation_coefficient_loss_RMSE})\n",
        "\n",
        "\n",
        "yhat_1,yhat_2,yhat_4=model.predict([test_X_1D,test_X_2D])\n",
        "\n",
        "### Present ###\n",
        "yhat_5=yhat_4.reshape((yhat_4.shape[0]*w,6))\n",
        "test_y_r=test_y.reshape((test_y.shape[0]*w,6))\n",
        "\n",
        "print(yhat_4.shape)\n",
        "\n",
        "\n",
        "### Unpack ###\n",
        "yhat_up=unpack_dataset_present(np.array(yhat_5))\n",
        "test_y_up=unpack_dataset_present(np.array(test_y_r))\n",
        "\n",
        "print(yhat_up.shape,test_y_up.shape)\n",
        "\n",
        "### Present ###\n",
        "\n",
        "yhat_up=yhat_up.reshape(int(len(yhat_up)/6),6)\n",
        "test_y_up=test_y_up.reshape(int(len(test_y_up)/6),6)\n",
        "\n",
        "print(yhat_up.shape,test_y_up.shape)"
      ]
    },
    {
      "cell_type": "code",
      "execution_count": null,
      "metadata": {
        "colab": {
          "base_uri": "https://localhost:8080/"
        },
        "id": "JJX9IYtECG46",
        "outputId": "60680308-db4d-4aba-f2f7-97a7d84e80e8"
      },
      "outputs": [
        {
          "output_type": "stream",
          "name": "stdout",
          "text": [
            "4.605914319194394\n",
            "5.156815822565488\n",
            "3.0968258829127246\n",
            "\n",
            "\n",
            "4.286518674890869\n",
            "\n",
            "\n",
            "0.9665118199360223\n",
            "0.9758512517865541\n",
            "0.9435552437020582\n",
            "\n",
            "\n",
            "0.9619727718082115\n"
          ]
        }
      ],
      "source": [
        "### Present ###\n",
        "\n",
        "rmse,p= prediction_test(np.array(yhat_up),np.array(test_y_up))\n",
        "\n",
        "print(rmse[0])\n",
        "print(rmse[1])\n",
        "print(rmse[2])\n",
        "\n",
        "m=np.mean(rmse)\n",
        "\n",
        "print('\\n')\n",
        "print(m)\n",
        "\n",
        "print('\\n')\n",
        "\n",
        "print(p[0])\n",
        "print(p[1])\n",
        "print(p[2])\n",
        "print('\\n')\n",
        "\n",
        "print(np.mean(p))"
      ]
    },
    {
      "cell_type": "code",
      "execution_count": null,
      "metadata": {
        "id": "_eSOYwr1CG46"
      },
      "outputs": [],
      "source": [
        "RMSE_Gait_subNet_3=rmse\n",
        "PCC_Gait_subNet_3=p\n",
        "\n",
        "Ablation_9=np.hstack([RMSE_Gait_subNet_3,PCC_Gait_subNet_3])"
      ]
    },
    {
      "cell_type": "markdown",
      "metadata": {
        "id": "jpfRUIikLxQ4"
      },
      "source": [
        "##10. Gait-Net"
      ]
    },
    {
      "cell_type": "code",
      "metadata": {
        "id": "J0byrd6rt-VL"
      },
      "source": [
        "def Gait_Net(inputs_1D_N,inputs_2D_N):\n",
        "\n",
        "  model_1=Bidirectional(GRU(128,return_sequences=True))(inputs_1D_N)\n",
        "  model_1=Dropout(0.4)(model_1)\n",
        "  model_1=Bidirectional(GRU(64,return_sequences=True))(model_1)\n",
        "  model_1=Dropout(0.4)(model_1)\n",
        "  model_1=Flatten()(model_1)\n",
        "\n",
        "  model_2=Bidirectional(GRU(128,return_sequences=True))(inputs_1D_N)\n",
        "  model_2=Dropout(0.4)(model_2)\n",
        "  model_2=Bidirectional(GRU(64,return_sequences=True))(model_2)\n",
        "  model_2=Dropout(0.4)(model_2)\n",
        "  model_2=Flatten()(model_2)\n",
        "\n",
        "  X=Conv2D(64, (3, 3), activation='relu',padding='same')(inputs_2D_N)\n",
        "  X=BatchNormalization()(X)\n",
        "  X=MaxPooling2D((2, 2))(X)\n",
        "  X=Conv2D(128, (3, 3), activation='relu', padding='same')(X)\n",
        "  X=BatchNormalization()(X)\n",
        "  X=MaxPooling2D((2, 2))(X)\n",
        "  X=Dense(64, activation='relu')(X)\n",
        "  X=Dropout(0.2)(X)\n",
        "  X=Dense(32,activation='relu')(X)\n",
        "  X=Dropout(0.2)(X)\n",
        "\n",
        "  X_1=Flatten()(X)\n",
        "  X= concatenate([model_2,X_1])\n",
        "\n",
        "\n",
        "  model_3=Bidirectional(GRU(128,return_sequences=True))(inputs_1D_N)\n",
        "  model_3=Dropout(0.4)(model_3)\n",
        "  model_3=Bidirectional(GRU(64,return_sequences=True))(model_3)\n",
        "  model_3=Dropout(0.4)(model_3)\n",
        "  model_3=Flatten()(model_3)\n",
        "\n",
        "  CNN=Conv1D(filters=64, kernel_size=3, activation='relu',padding='same')(inputs_1D_N)\n",
        "  CNN=Conv1D(filters=64, kernel_size=3, activation='relu',padding='same')(CNN)\n",
        "  CNN=BatchNormalization()(CNN)\n",
        "  CNN=MaxPooling1D(pool_size=2)(CNN)\n",
        "  CNN=Conv1D(filters=128, kernel_size=3, activation='relu',padding='same')(CNN)\n",
        "  CNN=Conv1D(filters=128, kernel_size=3, activation='relu',padding='same')(CNN)\n",
        "  CNN=BatchNormalization()(CNN)\n",
        "  CNN=MaxPooling1D(pool_size=2)(CNN)\n",
        "\n",
        "\n",
        "  CNN=Dense(64, activation='relu')(CNN)\n",
        "  CNN=Dropout(0.2)(CNN)\n",
        "  CNN=Dense(32, activation='relu')(CNN)\n",
        "  CNN=Dropout(0.2)(CNN)\n",
        "\n",
        "  CNN_1=Flatten()(CNN)\n",
        "\n",
        "\n",
        "  CNN= concatenate([model_3,CNN_1])\n",
        "\n",
        "  output_GRU=Dense(6*w,bias_regularizer=l2(0.001), activation='linear')(model_1)\n",
        "  output_C2=Dense(6*w,bias_regularizer=l2(0.001), activation='linear')(X)\n",
        "  output_C1=Dense(6*w,bias_regularizer=l2(0.001), activation='linear')(CNN)\n",
        "\n",
        "\n",
        "  output = Average()([output_GRU,output_C2,output_C1])\n",
        "\n",
        "  return (output_GRU,output_C2,output_C1,output)"
      ],
      "execution_count": null,
      "outputs": []
    },
    {
      "cell_type": "code",
      "execution_count": null,
      "metadata": {
        "id": "c1bKl72fJEAu",
        "colab": {
          "base_uri": "https://localhost:8080/",
          "height": 1000
        },
        "outputId": "63433400-06a0-46b0-b74c-da0e6b45af0a"
      },
      "outputs": [
        {
          "output_type": "stream",
          "name": "stdout",
          "text": [
            "Epoch 1/3\n",
            "401/401 - 58s - loss: 27.7819 - dense_55_loss: 7.4573 - dense_56_loss: 6.9758 - dense_57_loss: 6.7379 - average_5_loss: 6.6106 - val_loss: 22.1197 - val_dense_55_loss: 4.9225 - val_dense_56_loss: 6.0296 - val_dense_57_loss: 6.0209 - val_average_5_loss: 5.1465 - 58s/epoch - 145ms/step\n",
            "Epoch 2/3\n",
            "401/401 - 26s - loss: 18.8016 - dense_55_loss: 4.9310 - dense_56_loss: 4.8011 - dense_57_loss: 4.7198 - average_5_loss: 4.3495 - val_loss: 16.8254 - val_dense_55_loss: 4.2629 - val_dense_56_loss: 4.2069 - val_dense_57_loss: 4.3841 - val_average_5_loss: 3.9714 - 26s/epoch - 66ms/step\n",
            "Epoch 3/3\n",
            "401/401 - 27s - loss: 17.0625 - dense_55_loss: 4.5055 - dense_56_loss: 4.3839 - dense_57_loss: 4.2790 - average_5_loss: 3.8941 - val_loss: 15.5536 - val_dense_55_loss: 3.9390 - val_dense_56_loss: 3.9545 - val_dense_57_loss: 4.0062 - val_average_5_loss: 3.6539 - 27s/epoch - 66ms/step\n",
            ">Saved /content/model_Gait_Net.h5\n"
          ]
        },
        {
          "output_type": "display_data",
          "data": {
            "text/plain": [
              "<Figure size 640x480 with 1 Axes>"
            ],
            "image/png": "[encoded data removed]"
          },
          "metadata": {}
        },
        {
          "output_type": "stream",
          "name": "stdout",
          "text": [
            "Model: \"model_12\"\n",
            "__________________________________________________________________________________________________\n",
            " Layer (type)                   Output Shape         Param #     Connected to                     \n",
            "==================================================================================================\n",
            " input_25 (InputLayer)          [(None, 100, 12)]    0           []                               \n",
            "                                                                                                  \n",
            " batch_normalization_56 (BatchN  (None, 100, 12)     48          ['input_25[0][0]']               \n",
            " ormalization)                                                                                    \n",
            "                                                                                                  \n",
            " input_26 (InputLayer)          [(None, 100, 6, 2)]  0           []                               \n",
            "                                                                                                  \n",
            " conv1d_32 (Conv1D)             (None, 100, 64)      2368        ['batch_normalization_56[0][0]'] \n",
            "                                                                                                  \n",
            " batch_normalization_57 (BatchN  (None, 100, 6, 2)   8           ['input_26[0][0]']               \n",
            " ormalization)                                                                                    \n",
            "                                                                                                  \n",
            " conv1d_33 (Conv1D)             (None, 100, 64)      12352       ['conv1d_32[0][0]']              \n",
            "                                                                                                  \n",
            " conv2d_16 (Conv2D)             (None, 100, 6, 64)   1216        ['batch_normalization_57[0][0]'] \n",
            "                                                                                                  \n",
            " batch_normalization_60 (BatchN  (None, 100, 64)     256         ['conv1d_33[0][0]']              \n",
            " ormalization)                                                                                    \n",
            "                                                                                                  \n",
            " batch_normalization_58 (BatchN  (None, 100, 6, 64)  256         ['conv2d_16[0][0]']              \n",
            " ormalization)                                                                                    \n",
            "                                                                                                  \n",
            " max_pooling1d_16 (MaxPooling1D  (None, 50, 64)      0           ['batch_normalization_60[0][0]'] \n",
            " )                                                                                                \n",
            "                                                                                                  \n",
            " max_pooling2d_16 (MaxPooling2D  (None, 50, 3, 64)   0           ['batch_normalization_58[0][0]'] \n",
            " )                                                                                                \n",
            "                                                                                                  \n",
            " conv1d_34 (Conv1D)             (None, 50, 128)      24704       ['max_pooling1d_16[0][0]']       \n",
            "                                                                                                  \n",
            " conv2d_17 (Conv2D)             (None, 50, 3, 128)   73856       ['max_pooling2d_16[0][0]']       \n",
            "                                                                                                  \n",
            " conv1d_35 (Conv1D)             (None, 50, 128)      49280       ['conv1d_34[0][0]']              \n",
            "                                                                                                  \n",
            " batch_normalization_59 (BatchN  (None, 50, 3, 128)  512         ['conv2d_17[0][0]']              \n",
            " ormalization)                                                                                    \n",
            "                                                                                                  \n",
            " batch_normalization_61 (BatchN  (None, 50, 128)     512         ['conv1d_35[0][0]']              \n",
            " ormalization)                                                                                    \n",
            "                                                                                                  \n",
            " max_pooling2d_17 (MaxPooling2D  (None, 25, 1, 128)  0           ['batch_normalization_59[0][0]'] \n",
            " )                                                                                                \n",
            "                                                                                                  \n",
            " max_pooling1d_17 (MaxPooling1D  (None, 25, 128)     0           ['batch_normalization_61[0][0]'] \n",
            " )                                                                                                \n",
            "                                                                                                  \n",
            " bidirectional_32 (Bidirectiona  (None, 100, 256)    109056      ['batch_normalization_56[0][0]'] \n",
            " l)                                                                                               \n",
            "                                                                                                  \n",
            " dense_51 (Dense)               (None, 25, 1, 64)    8256        ['max_pooling2d_17[0][0]']       \n",
            "                                                                                                  \n",
            " bidirectional_34 (Bidirectiona  (None, 100, 256)    109056      ['batch_normalization_56[0][0]'] \n",
            " l)                                                                                               \n",
            "                                                                                                  \n",
            " dense_53 (Dense)               (None, 25, 64)       8256        ['max_pooling1d_17[0][0]']       \n",
            "                                                                                                  \n",
            " bidirectional_30 (Bidirectiona  (None, 100, 256)    109056      ['batch_normalization_56[0][0]'] \n",
            " l)                                                                                               \n",
            "                                                                                                  \n",
            " dropout_64 (Dropout)           (None, 100, 256)     0           ['bidirectional_32[0][0]']       \n",
            "                                                                                                  \n",
            " dropout_66 (Dropout)           (None, 25, 1, 64)    0           ['dense_51[0][0]']               \n",
            "                                                                                                  \n",
            " dropout_68 (Dropout)           (None, 100, 256)     0           ['bidirectional_34[0][0]']       \n",
            "                                                                                                  \n",
            " dropout_70 (Dropout)           (None, 25, 64)       0           ['dense_53[0][0]']               \n",
            "                                                                                                  \n",
            " dropout_62 (Dropout)           (None, 100, 256)     0           ['bidirectional_30[0][0]']       \n",
            "                                                                                                  \n",
            " bidirectional_33 (Bidirectiona  (None, 100, 128)    123648      ['dropout_64[0][0]']             \n",
            " l)                                                                                               \n",
            "                                                                                                  \n",
            " dense_52 (Dense)               (None, 25, 1, 32)    2080        ['dropout_66[0][0]']             \n",
            "                                                                                                  \n",
            " bidirectional_35 (Bidirectiona  (None, 100, 128)    123648      ['dropout_68[0][0]']             \n",
            " l)                                                                                               \n",
            "                                                                                                  \n",
            " dense_54 (Dense)               (None, 25, 32)       2080        ['dropout_70[0][0]']             \n",
            "                                                                                                  \n",
            " bidirectional_31 (Bidirectiona  (None, 100, 128)    123648      ['dropout_62[0][0]']             \n",
            " l)                                                                                               \n",
            "                                                                                                  \n",
            " dropout_65 (Dropout)           (None, 100, 128)     0           ['bidirectional_33[0][0]']       \n",
            "                                                                                                  \n",
            " dropout_67 (Dropout)           (None, 25, 1, 32)    0           ['dense_52[0][0]']               \n",
            "                                                                                                  \n",
            " dropout_69 (Dropout)           (None, 100, 128)     0           ['bidirectional_35[0][0]']       \n",
            "                                                                                                  \n",
            " dropout_71 (Dropout)           (None, 25, 32)       0           ['dense_54[0][0]']               \n",
            "                                                                                                  \n",
            " dropout_63 (Dropout)           (None, 100, 128)     0           ['bidirectional_31[0][0]']       \n",
            "                                                                                                  \n",
            " flatten_32 (Flatten)           (None, 12800)        0           ['dropout_65[0][0]']             \n",
            "                                                                                                  \n",
            " flatten_33 (Flatten)           (None, 800)          0           ['dropout_67[0][0]']             \n",
            "                                                                                                  \n",
            " flatten_34 (Flatten)           (None, 12800)        0           ['dropout_69[0][0]']             \n",
            "                                                                                                  \n",
            " flatten_35 (Flatten)           (None, 800)          0           ['dropout_71[0][0]']             \n",
            "                                                                                                  \n",
            " flatten_31 (Flatten)           (None, 12800)        0           ['dropout_63[0][0]']             \n",
            "                                                                                                  \n",
            " concatenate_11 (Concatenate)   (None, 13600)        0           ['flatten_32[0][0]',             \n",
            "                                                                  'flatten_33[0][0]']             \n",
            "                                                                                                  \n",
            " concatenate_12 (Concatenate)   (None, 13600)        0           ['flatten_34[0][0]',             \n",
            "                                                                  'flatten_35[0][0]']             \n",
            "                                                                                                  \n",
            " dense_55 (Dense)               (None, 600)          7680600     ['flatten_31[0][0]']             \n",
            "                                                                                                  \n",
            " dense_56 (Dense)               (None, 600)          8160600     ['concatenate_11[0][0]']         \n",
            "                                                                                                  \n",
            " dense_57 (Dense)               (None, 600)          8160600     ['concatenate_12[0][0]']         \n",
            "                                                                                                  \n",
            " average_5 (Average)            (None, 600)          0           ['dense_55[0][0]',               \n",
            "                                                                  'dense_56[0][0]',               \n",
            "                                                                  'dense_57[0][0]']               \n",
            "                                                                                                  \n",
            "==================================================================================================\n",
            "Total params: 24,885,952\n",
            "Trainable params: 24,885,156\n",
            "Non-trainable params: 796\n",
            "__________________________________________________________________________________________________\n"
          ]
        }
      ],
      "source": [
        "#### Main Model ####\n",
        "\n",
        "inputs_1D = tf.keras.layers.Input( shape=(w,12) )\n",
        "inputs_2D = tf.keras.layers.Input( shape=(w,6,2) )\n",
        "\n",
        "inputs_1D_N=BatchNormalization()(inputs_1D)\n",
        "inputs_2D_N=BatchNormalization()(inputs_2D)\n",
        "\n",
        "output_1,output_2,output_3,output=Gait_Net(inputs_1D_N,inputs_2D_N)\n",
        "\n",
        "model = Model(inputs=[inputs_1D, inputs_2D], outputs=[output_1,output_2,output_3,output])\n",
        "model.compile(loss=correlation_coefficient_loss_RMSE, optimizer='Adam')\n",
        "\n",
        "\n",
        "history=model.fit([np.array(train_X_1D),np.array(train_X_2D)], [train_y_5,train_y_5,train_y_5,train_y_5], epochs=30, batch_size=64, validation_data=([X_validation_1D,\\\n",
        "                                                                      X_validation_2D], [Y_validation,Y_validation,Y_validation,Y_validation]), verbose=2, shuffle=False)\n",
        "\n",
        "filename = path+'model_Gait_Net.h5'\n",
        "model.save(filename)\n",
        "print('>Saved %s' % filename)\n",
        "\n",
        "# # # summarize history for loss\n",
        "plt.plot(history.history['loss'])\n",
        "plt.plot(history.history['val_loss'])\n",
        "plt.title('model loss')\n",
        "plt.ylabel('loss')\n",
        "plt.xlabel('epoch')\n",
        "plt.legend(['train', 'validation'], loc='upper right')\n",
        "plt.show()\n",
        "model.summary()\n"
      ]
    },
    {
      "cell_type": "code",
      "execution_count": null,
      "metadata": {
        "colab": {
          "base_uri": "https://localhost:8080/"
        },
        "id": "jF3bs7zPYbsl",
        "outputId": "07b8180a-59e4-4967-fdb9-def3354a926c"
      },
      "outputs": [
        {
          "output_type": "execute_result",
          "data": {
            "text/plain": [
              "0"
            ]
          },
          "metadata": {},
          "execution_count": 79
        }
      ],
      "source": [
        "gc.collect()\n",
        "gc.collect()\n",
        "gc.collect()\n",
        "gc.collect()"
      ]
    },
    {
      "cell_type": "code",
      "execution_count": null,
      "metadata": {
        "colab": {
          "base_uri": "https://localhost:8080/"
        },
        "id": "kwxvOy7Zgu7a",
        "outputId": "bd6d3627-b29a-4634-9583-275777182b6a"
      },
      "outputs": [
        {
          "output_type": "stream",
          "name": "stdout",
          "text": [
            "105/105 [==============================] - 7s 21ms/step\n",
            "(3358, 600)\n",
            "(1007400,) (1007400,)\n",
            "(167900, 6) (167900, 6)\n"
          ]
        }
      ],
      "source": [
        "model_path = path+'model_Gait_Net.h5'\n",
        "model=load_model(model_path, custom_objects={'correlation_coefficient_loss_RMSE': correlation_coefficient_loss_RMSE})\n",
        "\n",
        "[yhat_1,yhat_2,yhat_3,yhat_4]=model.predict([test_X_1D,test_X_2D])\n",
        "\n",
        "\n",
        " ### Present ###\n",
        "yhat_5=yhat_4.reshape((yhat_4.shape[0]*w,6))\n",
        "test_y_r=test_y.reshape((test_y.shape[0]*w,6))\n",
        "\n",
        "print(yhat_4.shape)\n",
        "\n",
        "### Unpack ###\n",
        "yhat_up=unpack_dataset_present(np.array(yhat_5))\n",
        "test_y_up=unpack_dataset_present(np.array(test_y_r))\n",
        "\n",
        "print(yhat_up.shape,test_y_up.shape)\n",
        "\n",
        "### Present ###\n",
        "\n",
        "yhat_up=yhat_up.reshape(int(len(yhat_up)/6),6)\n",
        "test_y_up=test_y_up.reshape(int(len(test_y_up)/6),6)\n",
        "\n",
        "print(yhat_up.shape,test_y_up.shape)"
      ]
    },
    {
      "cell_type": "code",
      "execution_count": null,
      "metadata": {
        "colab": {
          "base_uri": "https://localhost:8080/"
        },
        "id": "S6GXKuFRWEm0",
        "outputId": "38cde067-a974-4e32-ca79-643bcb0a2af8"
      },
      "outputs": [
        {
          "output_type": "stream",
          "name": "stdout",
          "text": [
            "4.825946702546458\n",
            "5.627312241694042\n",
            "3.5629401957288493\n",
            "\n",
            "\n",
            "4.672066379989784\n",
            "\n",
            "\n",
            "0.9641941438758591\n",
            "0.9710051688354097\n",
            "0.9319228759719252\n",
            "\n",
            "\n",
            "0.9557073962277314\n"
          ]
        }
      ],
      "source": [
        "### Present ###\n",
        "\n",
        "rmse,p= prediction_test(np.array(yhat_up),np.array(test_y_up))\n",
        "\n",
        "print(rmse[0])\n",
        "print(rmse[1])\n",
        "print(rmse[2])\n",
        "\n",
        "m=np.mean(rmse)\n",
        "\n",
        "print('\\n')\n",
        "print(m)\n",
        "\n",
        "print('\\n')\n",
        "\n",
        "print(p[0])\n",
        "print(p[1])\n",
        "print(p[2])\n",
        "print('\\n')\n",
        "\n",
        "print(np.mean(p))"
      ]
    },
    {
      "cell_type": "code",
      "execution_count": null,
      "metadata": {
        "id": "b9IF4ngPCepy"
      },
      "outputs": [],
      "source": [
        "RMSE_Gait_Net=rmse\n",
        "PCC_Gait_Net=p\n",
        "\n",
        "Ablation_10=np.hstack([RMSE_Gait_Net,PCC_Gait_Net])"
      ]
    },
    {
      "cell_type": "markdown",
      "metadata": {
        "id": "j6XTj55a9gcU"
      },
      "source": [
        "## 11. Gait-Net--Joint Loss"
      ]
    },
    {
      "cell_type": "code",
      "metadata": {
        "id": "i98DSfo39gcY",
        "colab": {
          "base_uri": "https://localhost:8080/",
          "height": 1000
        },
        "outputId": "fc4a5314-8749-47a6-938d-1962d5f4493d"
      },
      "source": [
        "#### Main Model ####\n",
        "\n",
        "inputs_1D = tf.keras.layers.Input( shape=(w,12) )\n",
        "inputs_2D = tf.keras.layers.Input( shape=(w,6,2) )\n",
        "\n",
        "\n",
        "inputs_1D_N=BatchNormalization()(inputs_1D)\n",
        "inputs_2D_N=BatchNormalization()(inputs_2D)\n",
        "\n",
        "\n",
        "output_1,output_2,output_3,output=Gait_Net(inputs_1D_N,inputs_2D_N)\n",
        "\n",
        "model = Model(inputs=[inputs_1D, inputs_2D], outputs=[output_1,output_2,output_3,output])\n",
        "model.compile(loss=correlation_coefficient_loss_joint, optimizer='Adam')\n",
        "\n",
        "\n",
        "history=model.fit([np.array(train_X_1D),np.array(train_X_2D)], [train_y_5,train_y_5,train_y_5,train_y_5], epochs=30, batch_size=64, validation_data=([X_validation_1D,\\\n",
        "                                                                      X_validation_2D], [Y_validation,Y_validation,Y_validation,Y_validation]), verbose=2, shuffle=False)\n",
        "\n",
        "filename = path+'model_Gait_JL_Net.h5'\n",
        "model.save(filename)\n",
        "print('>Saved %s' % filename)\n",
        "\n",
        "# # # summarize history for loss\n",
        "plt.plot(history.history['loss'])\n",
        "plt.plot(history.history['val_loss'])\n",
        "plt.title('model loss')\n",
        "plt.ylabel('loss')\n",
        "plt.xlabel('epoch')\n",
        "plt.legend(['train', 'validation'], loc='upper right')\n",
        "plt.show()\n",
        "model.summary()\n"
      ],
      "execution_count": null,
      "outputs": [
        {
          "output_type": "stream",
          "name": "stdout",
          "text": [
            "Epoch 1/3\n",
            "401/401 - 102s - loss: 28.2695 - dense_62_loss: 7.5527 - dense_63_loss: 7.0982 - dense_64_loss: 6.8885 - average_6_loss: 6.7298 - val_loss: 22.3608 - val_dense_62_loss: 4.9740 - val_dense_63_loss: 5.9077 - val_dense_64_loss: 6.2411 - val_average_6_loss: 5.2378 - 102s/epoch - 253ms/step\n",
            "Epoch 2/3\n",
            "401/401 - 27s - loss: 19.0415 - dense_62_loss: 4.9852 - dense_63_loss: 4.8615 - dense_64_loss: 4.7789 - average_6_loss: 4.4158 - val_loss: 16.8870 - val_dense_62_loss: 4.4046 - val_dense_63_loss: 4.2004 - val_dense_64_loss: 4.2890 - val_average_6_loss: 3.9929 - 27s/epoch - 68ms/step\n",
            "Epoch 3/3\n",
            "401/401 - 27s - loss: 17.1815 - dense_62_loss: 4.5158 - dense_63_loss: 4.4039 - dense_64_loss: 4.3367 - average_6_loss: 3.9249 - val_loss: 15.5370 - val_dense_62_loss: 3.9834 - val_dense_63_loss: 3.8745 - val_dense_64_loss: 4.0308 - val_average_6_loss: 3.6483 - 27s/epoch - 67ms/step\n",
            ">Saved /content/model_Gait_JL_Net.h5\n"
          ]
        },
        {
          "output_type": "display_data",
          "data": {
            "text/plain": [
              "<Figure size 640x480 with 1 Axes>"
            ],
            "image/png": "[encoded data removed]"
          },
          "metadata": {}
        },
        {
          "output_type": "stream",
          "name": "stdout",
          "text": [
            "Model: \"model_13\"\n",
            "__________________________________________________________________________________________________\n",
            " Layer (type)                   Output Shape         Param #     Connected to                     \n",
            "==================================================================================================\n",
            " input_27 (InputLayer)          [(None, 100, 12)]    0           []                               \n",
            "                                                                                                  \n",
            " batch_normalization_62 (BatchN  (None, 100, 12)     48          ['input_27[0][0]']               \n",
            " ormalization)                                                                                    \n",
            "                                                                                                  \n",
            " input_28 (InputLayer)          [(None, 100, 6, 2)]  0           []                               \n",
            "                                                                                                  \n",
            " conv1d_36 (Conv1D)             (None, 100, 64)      2368        ['batch_normalization_62[0][0]'] \n",
            "                                                                                                  \n",
            " batch_normalization_63 (BatchN  (None, 100, 6, 2)   8           ['input_28[0][0]']               \n",
            " ormalization)                                                                                    \n",
            "                                                                                                  \n",
            " conv1d_37 (Conv1D)             (None, 100, 64)      12352       ['conv1d_36[0][0]']              \n",
            "                                                                                                  \n",
            " conv2d_18 (Conv2D)             (None, 100, 6, 64)   1216        ['batch_normalization_63[0][0]'] \n",
            "                                                                                                  \n",
            " batch_normalization_66 (BatchN  (None, 100, 64)     256         ['conv1d_37[0][0]']              \n",
            " ormalization)                                                                                    \n",
            "                                                                                                  \n",
            " batch_normalization_64 (BatchN  (None, 100, 6, 64)  256         ['conv2d_18[0][0]']              \n",
            " ormalization)                                                                                    \n",
            "                                                                                                  \n",
            " max_pooling1d_18 (MaxPooling1D  (None, 50, 64)      0           ['batch_normalization_66[0][0]'] \n",
            " )                                                                                                \n",
            "                                                                                                  \n",
            " max_pooling2d_18 (MaxPooling2D  (None, 50, 3, 64)   0           ['batch_normalization_64[0][0]'] \n",
            " )                                                                                                \n",
            "                                                                                                  \n",
            " conv1d_38 (Conv1D)             (None, 50, 128)      24704       ['max_pooling1d_18[0][0]']       \n",
            "                                                                                                  \n",
            " conv2d_19 (Conv2D)             (None, 50, 3, 128)   73856       ['max_pooling2d_18[0][0]']       \n",
            "                                                                                                  \n",
            " conv1d_39 (Conv1D)             (None, 50, 128)      49280       ['conv1d_38[0][0]']              \n",
            "                                                                                                  \n",
            " batch_normalization_65 (BatchN  (None, 50, 3, 128)  512         ['conv2d_19[0][0]']              \n",
            " ormalization)                                                                                    \n",
            "                                                                                                  \n",
            " batch_normalization_67 (BatchN  (None, 50, 128)     512         ['conv1d_39[0][0]']              \n",
            " ormalization)                                                                                    \n",
            "                                                                                                  \n",
            " max_pooling2d_19 (MaxPooling2D  (None, 25, 1, 128)  0           ['batch_normalization_65[0][0]'] \n",
            " )                                                                                                \n",
            "                                                                                                  \n",
            " max_pooling1d_19 (MaxPooling1D  (None, 25, 128)     0           ['batch_normalization_67[0][0]'] \n",
            " )                                                                                                \n",
            "                                                                                                  \n",
            " bidirectional_38 (Bidirectiona  (None, 100, 256)    109056      ['batch_normalization_62[0][0]'] \n",
            " l)                                                                                               \n",
            "                                                                                                  \n",
            " dense_58 (Dense)               (None, 25, 1, 64)    8256        ['max_pooling2d_19[0][0]']       \n",
            "                                                                                                  \n",
            " bidirectional_40 (Bidirectiona  (None, 100, 256)    109056      ['batch_normalization_62[0][0]'] \n",
            " l)                                                                                               \n",
            "                                                                                                  \n",
            " dense_60 (Dense)               (None, 25, 64)       8256        ['max_pooling1d_19[0][0]']       \n",
            "                                                                                                  \n",
            " bidirectional_36 (Bidirectiona  (None, 100, 256)    109056      ['batch_normalization_62[0][0]'] \n",
            " l)                                                                                               \n",
            "                                                                                                  \n",
            " dropout_74 (Dropout)           (None, 100, 256)     0           ['bidirectional_38[0][0]']       \n",
            "                                                                                                  \n",
            " dropout_76 (Dropout)           (None, 25, 1, 64)    0           ['dense_58[0][0]']               \n",
            "                                                                                                  \n",
            " dropout_78 (Dropout)           (None, 100, 256)     0           ['bidirectional_40[0][0]']       \n",
            "                                                                                                  \n",
            " dropout_80 (Dropout)           (None, 25, 64)       0           ['dense_60[0][0]']               \n",
            "                                                                                                  \n",
            " dropout_72 (Dropout)           (None, 100, 256)     0           ['bidirectional_36[0][0]']       \n",
            "                                                                                                  \n",
            " bidirectional_39 (Bidirectiona  (None, 100, 128)    123648      ['dropout_74[0][0]']             \n",
            " l)                                                                                               \n",
            "                                                                                                  \n",
            " dense_59 (Dense)               (None, 25, 1, 32)    2080        ['dropout_76[0][0]']             \n",
            "                                                                                                  \n",
            " bidirectional_41 (Bidirectiona  (None, 100, 128)    123648      ['dropout_78[0][0]']             \n",
            " l)                                                                                               \n",
            "                                                                                                  \n",
            " dense_61 (Dense)               (None, 25, 32)       2080        ['dropout_80[0][0]']             \n",
            "                                                                                                  \n",
            " bidirectional_37 (Bidirectiona  (None, 100, 128)    123648      ['dropout_72[0][0]']             \n",
            " l)                                                                                               \n",
            "                                                                                                  \n",
            " dropout_75 (Dropout)           (None, 100, 128)     0           ['bidirectional_39[0][0]']       \n",
            "                                                                                                  \n",
            " dropout_77 (Dropout)           (None, 25, 1, 32)    0           ['dense_59[0][0]']               \n",
            "                                                                                                  \n",
            " dropout_79 (Dropout)           (None, 100, 128)     0           ['bidirectional_41[0][0]']       \n",
            "                                                                                                  \n",
            " dropout_81 (Dropout)           (None, 25, 32)       0           ['dense_61[0][0]']               \n",
            "                                                                                                  \n",
            " dropout_73 (Dropout)           (None, 100, 128)     0           ['bidirectional_37[0][0]']       \n",
            "                                                                                                  \n",
            " flatten_37 (Flatten)           (None, 12800)        0           ['dropout_75[0][0]']             \n",
            "                                                                                                  \n",
            " flatten_38 (Flatten)           (None, 800)          0           ['dropout_77[0][0]']             \n",
            "                                                                                                  \n",
            " flatten_39 (Flatten)           (None, 12800)        0           ['dropout_79[0][0]']             \n",
            "                                                                                                  \n",
            " flatten_40 (Flatten)           (None, 800)          0           ['dropout_81[0][0]']             \n",
            "                                                                                                  \n",
            " flatten_36 (Flatten)           (None, 12800)        0           ['dropout_73[0][0]']             \n",
            "                                                                                                  \n",
            " concatenate_13 (Concatenate)   (None, 13600)        0           ['flatten_37[0][0]',             \n",
            "                                                                  'flatten_38[0][0]']             \n",
            "                                                                                                  \n",
            " concatenate_14 (Concatenate)   (None, 13600)        0           ['flatten_39[0][0]',             \n",
            "                                                                  'flatten_40[0][0]']             \n",
            "                                                                                                  \n",
            " dense_62 (Dense)               (None, 600)          7680600     ['flatten_36[0][0]']             \n",
            "                                                                                                  \n",
            " dense_63 (Dense)               (None, 600)          8160600     ['concatenate_13[0][0]']         \n",
            "                                                                                                  \n",
            " dense_64 (Dense)               (None, 600)          8160600     ['concatenate_14[0][0]']         \n",
            "                                                                                                  \n",
            " average_6 (Average)            (None, 600)          0           ['dense_62[0][0]',               \n",
            "                                                                  'dense_63[0][0]',               \n",
            "                                                                  'dense_64[0][0]']               \n",
            "                                                                                                  \n",
            "==================================================================================================\n",
            "Total params: 24,885,952\n",
            "Trainable params: 24,885,156\n",
            "Non-trainable params: 796\n",
            "__________________________________________________________________________________________________\n"
          ]
        }
      ]
    },
    {
      "cell_type": "code",
      "metadata": {
        "id": "j76cjn2i9gcZ",
        "colab": {
          "base_uri": "https://localhost:8080/"
        },
        "outputId": "c8295e22-2681-4ec3-ec5c-6d1a411f76cd"
      },
      "source": [
        "gc.collect()\n",
        "gc.collect()\n",
        "gc.collect()\n",
        "gc.collect()"
      ],
      "execution_count": null,
      "outputs": [
        {
          "output_type": "execute_result",
          "data": {
            "text/plain": [
              "0"
            ]
          },
          "metadata": {},
          "execution_count": 84
        }
      ]
    },
    {
      "cell_type": "code",
      "metadata": {
        "id": "VGelxx3_9gcZ"
      },
      "source": [
        "model_path = path+'model_GRU_Conv2D.h5'\n",
        "model=load_model(model_path, custom_objects={'correlation_coefficient_loss_RMSE': correlation_coefficient_loss_RMSE})\n",
        "\n",
        "[yhat_1,yhat_2,yhat_3,yhat_4]=model.predict([test_X_1D,test_X_2D])\n",
        "\n",
        "\n",
        " ### Present ###\n",
        "yhat_5=yhat_4.reshape((yhat_4.shape[0]*w,6))\n",
        "test_y_r=test_y.reshape((test_y.shape[0]*w,6))\n",
        "\n",
        "print(yhat_4.shape)\n",
        "\n",
        "### Unpack ###\n",
        "yhat_up=unpack_dataset_present(np.array(yhat_5),80)\n",
        "test_y_up=unpack_dataset_present(np.array(test_y_r),80)\n",
        "\n",
        "print(yhat_up.shape,test_y_up.shape)\n",
        "\n",
        "\n",
        "### Present ###\n",
        "\n",
        "yhat_up=yhat_up.reshape(int(len(yhat_up)/6),6)\n",
        "test_y_up=test_y_up.reshape(int(len(test_y_up)/6),6)\n",
        "\n",
        "print(yhat_up.shape,test_y_up.shape)"
      ],
      "execution_count": null,
      "outputs": []
    },
    {
      "cell_type": "code",
      "metadata": {
        "id": "RwdeqdEE9gcZ"
      },
      "source": [
        "### Present ###\n",
        "\n",
        "rmse,p= prediction_test(np.array(yhat_up),np.array(test_y_up))\n",
        "\n",
        "print(rmse[0])\n",
        "print(rmse[1])\n",
        "print(rmse[2])\n",
        "\n",
        "m=np.mean(rmse)\n",
        "\n",
        "print('\\n')\n",
        "print(m)\n",
        "\n",
        "print('\\n')\n",
        "\n",
        "print(p[0])\n",
        "print(p[1])\n",
        "print(p[2])\n",
        "print('\\n')\n",
        "\n",
        "print(np.mean(p))"
      ],
      "execution_count": null,
      "outputs": []
    },
    {
      "cell_type": "code",
      "metadata": {
        "id": "NDr6w76s9gcZ"
      },
      "source": [
        "RMSE_Gait_JL_Net=rmse\n",
        "PCC_Gait_JL_Net=p\n",
        "\n",
        "Ablation_11=np.hstack([RMSE_Gait_JL_Net,PCC_Gait_JL_Net])"
      ],
      "execution_count": null,
      "outputs": []
    },
    {
      "cell_type": "markdown",
      "source": [
        "# Augmentation+ Joint Loss analysis"
      ],
      "metadata": {
        "id": "ZK4fvmjkg7fV"
      }
    },
    {
      "cell_type": "markdown",
      "metadata": {
        "id": "qbYWJ3DyLDSK"
      },
      "source": [
        "## Data Loader"
      ]
    },
    {
      "cell_type": "code",
      "execution_count": null,
      "metadata": {
        "id": "sgVXeXKsLDSL"
      },
      "outputs": [],
      "source": [
        "def data_loader(subject):\n",
        "  with h5py.File('/content/drive/My Drive/Kinematics Prediction/All_subjects_data_kinetics.h5', 'r') as hf:\n",
        "    All_subjects = hf['All_subjects']\n",
        "    Subject = All_subjects[subject]\n",
        "\n",
        "    HOF=Subject['hof']\n",
        "    IMU_KIN=Subject['IMU_Kin']\n",
        "\n",
        "    treadmill_hof = HOF['Treadmill']\n",
        "    levelground_hof = HOF['Levelground']\n",
        "    slope_hof = HOF['Slope']\n",
        "    stair_hof = HOF['Stair']\n",
        "    round_hof = HOF['Round']\n",
        "    obstacles_hof = HOF['Obstacles']\n",
        "\n",
        "    treadmill_IMU_kin = IMU_KIN['Treadmill']\n",
        "    levelground_IMU_kin = IMU_KIN['Levelground']\n",
        "    slope_IMU_kin = IMU_KIN['Slope']\n",
        "    stair_IMU_kin = IMU_KIN['Stair']\n",
        "    round_IMU_kin= IMU_KIN['Round']\n",
        "    obstacles_IMU_kin = IMU_KIN['Obstacles']\n",
        "\n",
        "\n",
        "    hof_data=np.concatenate((treadmill_hof,levelground_hof,levelground_hof,slope_hof,slope_hof,slope_hof,stair_hof,stair_hof,stair_hof,stair_hof,round_hof,obstacles_hof,round_hof,\\\n",
        "                             obstacles_hof,round_hof,obstacles_hof,round_hof,obstacles_hof),axis=0)\n",
        "    IMU_kin_data=np.concatenate((treadmill_IMU_kin,levelground_IMU_kin,levelground_IMU_kin,slope_IMU_kin,slope_IMU_kin,slope_IMU_kin,stair_IMU_kin,stair_IMU_kin,\\\n",
        "                                 stair_IMU_kin,round_IMU_kin,obstacles_IMU_kin,round_IMU_kin,obstacles_IMU_kin,round_IMU_kin,obstacles_IMU_kin,round_IMU_kin,obstacles_IMU_kin),axis=0)\n",
        "\n",
        "    return np.array(hof_data), np.array(IMU_kin_data)\n"
      ]
    },
    {
      "cell_type": "code",
      "execution_count": null,
      "metadata": {
        "colab": {
          "base_uri": "https://localhost:8080/"
        },
        "outputId": "c93c39f1-55da-4ab7-d66a-5088d9381c13",
        "id": "B5qLE9DXLDSM"
      },
      "outputs": [
        {
          "output_type": "execute_result",
          "data": {
            "text/plain": [
              "0"
            ]
          },
          "metadata": {},
          "execution_count": 112
        }
      ],
      "source": [
        "subject_1_data_hof_aug, subject_1_data_IMU_Kin_aug=data_loader('Subject_1')\n",
        "gc.collect()\n",
        "subject_2_data_hof_aug, subject_2_data_IMU_Kin_aug=data_loader('Subject_2')\n",
        "gc.collect()\n",
        "subject_3_data_hof_aug, subject_3_data_IMU_Kin_aug=data_loader('Subject_3')\n",
        "gc.collect()\n",
        "subject_4_data_hof_aug, subject_4_data_IMU_Kin_aug=data_loader('Subject_4')\n",
        "gc.collect()\n",
        "subject_5_data_hof_aug, subject_5_data_IMU_Kin_aug=data_loader('Subject_5')\n",
        "gc.collect()\n",
        "subject_6_data_hof_aug, subject_6_data_IMU_Kin_aug=data_loader('Subject_6')\n",
        "gc.collect()\n",
        "subject_7_data_hof_aug, subject_7_data_IMU_Kin_aug=data_loader('Subject_7')\n",
        "gc.collect()\n",
        "subject_8_data_hof_aug, subject_8_data_IMU_Kin_aug=data_loader('Subject_8')\n",
        "gc.collect()\n",
        "subject_9_data_hof_aug, subject_9_data_IMU_Kin_aug=data_loader('Subject_9')\n",
        "gc.collect()\n",
        "subject_10_data_hof_aug, subject_10_data_IMU_Kin_aug=data_loader('Subject_10')\n",
        "gc.collect()"
      ]
    },
    {
      "cell_type": "markdown",
      "metadata": {
        "id": "PK3E_9xxLDSN"
      },
      "source": [
        "##Subject Selection"
      ]
    },
    {
      "cell_type": "code",
      "execution_count": null,
      "metadata": {
        "id": "2NdS4h8OLDSN"
      },
      "outputs": [],
      "source": [
        "main_dir = \"/content/drive/My Drive/public dataset/Public_dataset_2/Subject01\"\n",
        "# os.mkdir(main_dir)\n",
        "path=\"/content/\"\n",
        "subject='Subject_01'\n",
        "encoder='lstm'"
      ]
    },
    {
      "cell_type": "code",
      "execution_count": null,
      "metadata": {
        "id": "9nSFIN1VLDSO"
      },
      "outputs": [],
      "source": [
        "train_data_hof_aug=np.concatenate((subject_1_data_hof_aug,subject_2_data_hof_aug,subject_4_data_hof_aug,subject_5_data_hof_aug,subject_6_data_hof_aug,\n",
        "                               subject_7_data_hof_aug,subject_8_data_hof_aug,subject_9_data_hof_aug,subject_10_data_hof_aug),axis=0)\n",
        "\n",
        "train_data_IMU_Kin_aug=np.concatenate((subject_1_data_IMU_Kin_aug,subject_2_data_IMU_Kin_aug,subject_4_data_IMU_Kin_aug,subject_5_data_IMU_Kin_aug,subject_6_data_IMU_Kin_aug,\n",
        "                               subject_7_data_IMU_Kin_aug,subject_8_data_IMU_Kin_aug,subject_9_data_IMU_Kin_aug,subject_10_data_IMU_Kin_aug),axis=0)\n",
        "\n",
        "test_data_hof=subject_3_data_hof\n",
        "test_data_IMU_Kin=subject_3_data_IMU_Kin"
      ]
    },
    {
      "cell_type": "markdown",
      "source": [
        "## Data Processing"
      ],
      "metadata": {
        "id": "794r5doCLDSP"
      }
    },
    {
      "cell_type": "code",
      "execution_count": null,
      "metadata": {
        "colab": {
          "base_uri": "https://localhost:8080/"
        },
        "outputId": "b58804e8-9678-4256-b8de-50833f3da3c4",
        "id": "AX0qxjgbLDSP"
      },
      "outputs": [
        {
          "output_type": "stream",
          "name": "stdout",
          "text": [
            "(3830166, 12)\n",
            "(1359628, 36)\n",
            "(3830166, 6)\n"
          ]
        },
        {
          "output_type": "stream",
          "name": "stderr",
          "text": [
            "Exception ignored in: <function _xla_gc_callback at 0x7fec355135b0>\n",
            "Traceback (most recent call last):\n",
            "  File \"/usr/local/lib/python3.10/dist-packages/jax/_src/lib/__init__.py\", line 103, in _xla_gc_callback\n",
            "    def _xla_gc_callback(*args):\n",
            "KeyboardInterrupt: \n"
          ]
        },
        {
          "output_type": "execute_result",
          "data": {
            "text/plain": [
              "0"
            ]
          },
          "metadata": {},
          "execution_count": 125
        }
      ],
      "source": [
        "##### IMUs-0:48\n",
        "# Sensor 1- Sternum\n",
        "# Sensor 2-Sacrum\n",
        "# Sensor 3-R_thigh\n",
        "# Sensor 4-L_thigh\n",
        "# Sensor 5-R_shank\n",
        "# Sensor 6-L_shank\n",
        "# Sensor 7-R_dorsal\n",
        "# Sensor 8-L_dorsal\n",
        "\n",
        "train_dataset_IMU=train_data_IMU_Kin_aug[:,36:48]\n",
        "train_dataset_hof=train_data_hof_aug\n",
        "train_dataset_target=np.concatenate((train_data_IMU_Kin_aug[:,55:56],train_data_IMU_Kin_aug[:,58:60],train_data_IMU_Kin_aug[:,62:63],train_data_IMU_Kin_aug[:,65:67]),axis=1)\n",
        "\n",
        "\n",
        "test_dataset_IMU=test_data_IMU_Kin[:,36:48]\n",
        "test_dataset_hof=test_data_hof\n",
        "test_dataset_target=np.concatenate((test_data_IMU_Kin[:,55:56],test_data_IMU_Kin[:,58:60],test_data_IMU_Kin[:,62:63],test_data_IMU_Kin[:,65:67]),axis=1)\n",
        "\n",
        "print(train_dataset_IMU.shape)\n",
        "print(train_dataset_hof.shape)\n",
        "print(train_dataset_target.shape)\n",
        "\n",
        "\n",
        "gc.collect()\n",
        "gc.collect()\n",
        "gc.collect()\n"
      ]
    },
    {
      "cell_type": "markdown",
      "metadata": {
        "id": "Kilx5p9SLDSQ"
      },
      "source": [
        "## Data creation"
      ]
    },
    {
      "cell_type": "code",
      "metadata": {
        "id": "-JVp3l-NLDSR"
      },
      "source": [
        "# # convert an array of values into a dataset matrix\n",
        "def create_dataset_present(dataset_1, window=100):\n",
        "  dataX= []\n",
        "  k=0\n",
        "  shift=50\n",
        "  for i in range(int(len(dataset_1)/shift)-1):\n",
        "    j=shift*k\n",
        "    a = dataset_1[j:j+window,:]\n",
        "    dataX.append(a)\n",
        "    k=k+1\n",
        "  return np.array(dataX)"
      ],
      "execution_count": null,
      "outputs": []
    },
    {
      "cell_type": "code",
      "metadata": {
        "colab": {
          "base_uri": "https://localhost:8080/"
        },
        "outputId": "ae68593e-74c7-49ed-861b-fb0bbcc1b0fb",
        "id": "OXgT28-1LDSR"
      },
      "source": [
        "import gc\n",
        "gc.collect()"
      ],
      "execution_count": null,
      "outputs": [
        {
          "output_type": "execute_result",
          "data": {
            "text/plain": [
              "0"
            ]
          },
          "metadata": {},
          "execution_count": 127
        }
      ]
    },
    {
      "cell_type": "code",
      "metadata": {
        "id": "MrE26GKQLDSS"
      },
      "source": [
        "### Reconstruction/Present Dataset ###\n",
        "w=100\n",
        "\n",
        "train_X_3=create_dataset_present(train_dataset_IMU,w)\n",
        "train_y_3=create_dataset_present(train_dataset_target,w)\n",
        "\n",
        "test_X_1D=create_dataset_present(test_dataset_IMU,w)\n",
        "test_y=create_dataset_present(test_dataset_target,w)"
      ],
      "execution_count": null,
      "outputs": []
    },
    {
      "cell_type": "code",
      "metadata": {
        "id": "vJ4n7O9PLDST"
      },
      "source": [
        "train_y_3=train_y_3.reshape(train_y_3.shape[0],w*6)\n",
        "test_y=test_y.reshape(test_y.shape[0],w*6)\n"
      ],
      "execution_count": null,
      "outputs": []
    },
    {
      "cell_type": "code",
      "metadata": {
        "colab": {
          "base_uri": "https://localhost:8080/"
        },
        "outputId": "0ac30e32-a776-4983-e4cf-fe34ec1e511c",
        "id": "iu1WUlhWLDST"
      },
      "source": [
        "train_X_1D, X_validation_1D, train_y_5, Y_validation = train_test_split(train_X_3,train_y_3, test_size=0.20, random_state=True)\n",
        "\n",
        "\n",
        "train_X_1D=train_X_1D\n",
        "X_validation_1D=X_validation_1D\n",
        "test_X_1D=test_X_1D\n",
        "\n",
        "print(train_X_1D.shape,train_y_5.shape,X_validation_1D.shape,Y_validation.shape)"
      ],
      "execution_count": null,
      "outputs": [
        {
          "output_type": "stream",
          "name": "stdout",
          "text": [
            "(61281, 100, 12) (61281, 600) (15321, 100, 12) (15321, 600)\n"
          ]
        }
      ]
    },
    {
      "cell_type": "code",
      "metadata": {
        "colab": {
          "base_uri": "https://localhost:8080/"
        },
        "outputId": "323f239d-3ac6-4e7d-a8f4-b73e06c950b8",
        "id": "ebtSzNs0LDSU"
      },
      "source": [
        "features=6\n",
        "\n",
        "train_X_2D=train_X_1D[:,:,0:12].reshape(train_X_1D.shape[0],train_X_1D.shape[1],features,2)\n",
        "test_X_2D=test_X_1D[:,:,0:12].reshape(test_X_1D.shape[0],test_X_1D.shape[1],features,2)\n",
        "X_validation_2D= X_validation_1D[:,:,0:12].reshape(X_validation_1D.shape[0],\n",
        "                                                   X_validation_1D.shape[1],features,2)\n",
        "\n",
        "\n",
        "print(train_X_2D.shape,test_X_2D.shape,X_validation_2D.shape)"
      ],
      "execution_count": null,
      "outputs": [
        {
          "output_type": "stream",
          "name": "stdout",
          "text": [
            "(61281, 100, 6, 2) (3358, 100, 6, 2) (15321, 100, 6, 2)\n"
          ]
        }
      ]
    },
    {
      "cell_type": "markdown",
      "metadata": {
        "id": "U3A_iQBTX297"
      },
      "source": [
        "## 12. Gait-Net+Augmentation"
      ]
    },
    {
      "cell_type": "code",
      "metadata": {
        "id": "2O6sVEsyX2-A",
        "colab": {
          "base_uri": "https://localhost:8080/",
          "height": 1000
        },
        "outputId": "24917a0a-d195-40c0-b34c-c45d80461feb"
      },
      "source": [
        "#### Main Model ####\n",
        "\n",
        "inputs_1D = tf.keras.layers.Input(shape=(w,12))\n",
        "inputs_2D = tf.keras.layers.Input(shape=(w,6,2))\n",
        "\n",
        "inputs_1D_N=BatchNormalization()(inputs_1D)\n",
        "inputs_2D_N=BatchNormalization()(inputs_2D)\n",
        "\n",
        "output_1,output_2,output_3,output=Gait_Net(inputs_1D_N,inputs_2D_N)\n",
        "\n",
        "model = Model(inputs=[inputs_1D, inputs_2D], outputs=[output_1,output_2,output_3,output])\n",
        "model.compile(loss=correlation_coefficient_loss_RMSE, optimizer='Adam')\n",
        "\n",
        "\n",
        "history=model.fit([np.array(train_X_1D),np.array(train_X_2D)], [train_y_5,train_y_5,train_y_5,train_y_5], epochs=30, batch_size=64, validation_data=([X_validation_1D,\\\n",
        "                                                                      X_validation_2D], [Y_validation,Y_validation,Y_validation,Y_validation]), verbose=2, shuffle=False)\n",
        "\n",
        "filename = path+'model_Gait_A_Net.h5'\n",
        "model.save(filename)\n",
        "print('>Saved %s' % filename)\n",
        "\n",
        "# # # summarize history for loss\n",
        "plt.plot(history.history['loss'])\n",
        "plt.plot(history.history['val_loss'])\n",
        "plt.title('model loss')\n",
        "plt.ylabel('loss')\n",
        "plt.xlabel('epoch')\n",
        "plt.legend(['train', 'validation'], loc='upper right')\n",
        "plt.show()\n",
        "model.summary()\n"
      ],
      "execution_count": null,
      "outputs": [
        {
          "output_type": "stream",
          "name": "stdout",
          "text": [
            "Epoch 1/3\n",
            "958/958 - 99s - loss: 22.6453 - dense_76_loss: 6.0000 - dense_77_loss: 5.7378 - dense_78_loss: 5.5861 - average_8_loss: 5.3213 - val_loss: 16.2230 - val_dense_76_loss: 4.2845 - val_dense_77_loss: 4.0804 - val_dense_78_loss: 4.0560 - val_average_8_loss: 3.8020 - 99s/epoch - 104ms/step\n",
            "Epoch 2/3\n",
            "958/958 - 65s - loss: 16.3399 - dense_76_loss: 4.3405 - dense_77_loss: 4.1921 - dense_78_loss: 4.0893 - average_8_loss: 3.7180 - val_loss: 14.4600 - val_dense_76_loss: 3.8067 - val_dense_77_loss: 3.6263 - val_dense_78_loss: 3.6578 - val_average_8_loss: 3.3691 - 65s/epoch - 68ms/step\n",
            "Epoch 3/3\n",
            "958/958 - 66s - loss: 14.9401 - dense_76_loss: 3.9663 - dense_77_loss: 3.8660 - dense_78_loss: 3.7447 - average_8_loss: 3.3630 - val_loss: 13.2210 - val_dense_76_loss: 3.4752 - val_dense_77_loss: 3.3371 - val_dense_78_loss: 3.3272 - val_average_8_loss: 3.0814 - 66s/epoch - 69ms/step\n",
            ">Saved /content/model_Gait_A_Net.h5\n"
          ]
        },
        {
          "output_type": "display_data",
          "data": {
            "text/plain": [
              "<Figure size 640x480 with 1 Axes>"
            ],
            "image/png": "[encoded data removed]"
          },
          "metadata": {}
        },
        {
          "output_type": "stream",
          "name": "stdout",
          "text": [
            "Model: \"model_15\"\n",
            "__________________________________________________________________________________________________\n",
            " Layer (type)                   Output Shape         Param #     Connected to                     \n",
            "==================================================================================================\n",
            " input_31 (InputLayer)          [(None, 100, 12)]    0           []                               \n",
            "                                                                                                  \n",
            " batch_normalization_74 (BatchN  (None, 100, 12)     48          ['input_31[0][0]']               \n",
            " ormalization)                                                                                    \n",
            "                                                                                                  \n",
            " input_32 (InputLayer)          [(None, 100, 6, 2)]  0           []                               \n",
            "                                                                                                  \n",
            " conv1d_44 (Conv1D)             (None, 100, 64)      2368        ['batch_normalization_74[0][0]'] \n",
            "                                                                                                  \n",
            " batch_normalization_75 (BatchN  (None, 100, 6, 2)   8           ['input_32[0][0]']               \n",
            " ormalization)                                                                                    \n",
            "                                                                                                  \n",
            " conv1d_45 (Conv1D)             (None, 100, 64)      12352       ['conv1d_44[0][0]']              \n",
            "                                                                                                  \n",
            " conv2d_22 (Conv2D)             (None, 100, 6, 64)   1216        ['batch_normalization_75[0][0]'] \n",
            "                                                                                                  \n",
            " batch_normalization_78 (BatchN  (None, 100, 64)     256         ['conv1d_45[0][0]']              \n",
            " ormalization)                                                                                    \n",
            "                                                                                                  \n",
            " batch_normalization_76 (BatchN  (None, 100, 6, 64)  256         ['conv2d_22[0][0]']              \n",
            " ormalization)                                                                                    \n",
            "                                                                                                  \n",
            " max_pooling1d_22 (MaxPooling1D  (None, 50, 64)      0           ['batch_normalization_78[0][0]'] \n",
            " )                                                                                                \n",
            "                                                                                                  \n",
            " max_pooling2d_22 (MaxPooling2D  (None, 50, 3, 64)   0           ['batch_normalization_76[0][0]'] \n",
            " )                                                                                                \n",
            "                                                                                                  \n",
            " conv1d_46 (Conv1D)             (None, 50, 128)      24704       ['max_pooling1d_22[0][0]']       \n",
            "                                                                                                  \n",
            " conv2d_23 (Conv2D)             (None, 50, 3, 128)   73856       ['max_pooling2d_22[0][0]']       \n",
            "                                                                                                  \n",
            " conv1d_47 (Conv1D)             (None, 50, 128)      49280       ['conv1d_46[0][0]']              \n",
            "                                                                                                  \n",
            " batch_normalization_77 (BatchN  (None, 50, 3, 128)  512         ['conv2d_23[0][0]']              \n",
            " ormalization)                                                                                    \n",
            "                                                                                                  \n",
            " batch_normalization_79 (BatchN  (None, 50, 128)     512         ['conv1d_47[0][0]']              \n",
            " ormalization)                                                                                    \n",
            "                                                                                                  \n",
            " max_pooling2d_23 (MaxPooling2D  (None, 25, 1, 128)  0           ['batch_normalization_77[0][0]'] \n",
            " )                                                                                                \n",
            "                                                                                                  \n",
            " max_pooling1d_23 (MaxPooling1D  (None, 25, 128)     0           ['batch_normalization_79[0][0]'] \n",
            " )                                                                                                \n",
            "                                                                                                  \n",
            " bidirectional_50 (Bidirectiona  (None, 100, 256)    109056      ['batch_normalization_74[0][0]'] \n",
            " l)                                                                                               \n",
            "                                                                                                  \n",
            " dense_72 (Dense)               (None, 25, 1, 64)    8256        ['max_pooling2d_23[0][0]']       \n",
            "                                                                                                  \n",
            " bidirectional_52 (Bidirectiona  (None, 100, 256)    109056      ['batch_normalization_74[0][0]'] \n",
            " l)                                                                                               \n",
            "                                                                                                  \n",
            " dense_74 (Dense)               (None, 25, 64)       8256        ['max_pooling1d_23[0][0]']       \n",
            "                                                                                                  \n",
            " bidirectional_48 (Bidirectiona  (None, 100, 256)    109056      ['batch_normalization_74[0][0]'] \n",
            " l)                                                                                               \n",
            "                                                                                                  \n",
            " dropout_94 (Dropout)           (None, 100, 256)     0           ['bidirectional_50[0][0]']       \n",
            "                                                                                                  \n",
            " dropout_96 (Dropout)           (None, 25, 1, 64)    0           ['dense_72[0][0]']               \n",
            "                                                                                                  \n",
            " dropout_98 (Dropout)           (None, 100, 256)     0           ['bidirectional_52[0][0]']       \n",
            "                                                                                                  \n",
            " dropout_100 (Dropout)          (None, 25, 64)       0           ['dense_74[0][0]']               \n",
            "                                                                                                  \n",
            " dropout_92 (Dropout)           (None, 100, 256)     0           ['bidirectional_48[0][0]']       \n",
            "                                                                                                  \n",
            " bidirectional_51 (Bidirectiona  (None, 100, 128)    123648      ['dropout_94[0][0]']             \n",
            " l)                                                                                               \n",
            "                                                                                                  \n",
            " dense_73 (Dense)               (None, 25, 1, 32)    2080        ['dropout_96[0][0]']             \n",
            "                                                                                                  \n",
            " bidirectional_53 (Bidirectiona  (None, 100, 128)    123648      ['dropout_98[0][0]']             \n",
            " l)                                                                                               \n",
            "                                                                                                  \n",
            " dense_75 (Dense)               (None, 25, 32)       2080        ['dropout_100[0][0]']            \n",
            "                                                                                                  \n",
            " bidirectional_49 (Bidirectiona  (None, 100, 128)    123648      ['dropout_92[0][0]']             \n",
            " l)                                                                                               \n",
            "                                                                                                  \n",
            " dropout_95 (Dropout)           (None, 100, 128)     0           ['bidirectional_51[0][0]']       \n",
            "                                                                                                  \n",
            " dropout_97 (Dropout)           (None, 25, 1, 32)    0           ['dense_73[0][0]']               \n",
            "                                                                                                  \n",
            " dropout_99 (Dropout)           (None, 100, 128)     0           ['bidirectional_53[0][0]']       \n",
            "                                                                                                  \n",
            " dropout_101 (Dropout)          (None, 25, 32)       0           ['dense_75[0][0]']               \n",
            "                                                                                                  \n",
            " dropout_93 (Dropout)           (None, 100, 128)     0           ['bidirectional_49[0][0]']       \n",
            "                                                                                                  \n",
            " flatten_47 (Flatten)           (None, 12800)        0           ['dropout_95[0][0]']             \n",
            "                                                                                                  \n",
            " flatten_48 (Flatten)           (None, 800)          0           ['dropout_97[0][0]']             \n",
            "                                                                                                  \n",
            " flatten_49 (Flatten)           (None, 12800)        0           ['dropout_99[0][0]']             \n",
            "                                                                                                  \n",
            " flatten_50 (Flatten)           (None, 800)          0           ['dropout_101[0][0]']            \n",
            "                                                                                                  \n",
            " flatten_46 (Flatten)           (None, 12800)        0           ['dropout_93[0][0]']             \n",
            "                                                                                                  \n",
            " concatenate_17 (Concatenate)   (None, 13600)        0           ['flatten_47[0][0]',             \n",
            "                                                                  'flatten_48[0][0]']             \n",
            "                                                                                                  \n",
            " concatenate_18 (Concatenate)   (None, 13600)        0           ['flatten_49[0][0]',             \n",
            "                                                                  'flatten_50[0][0]']             \n",
            "                                                                                                  \n",
            " dense_76 (Dense)               (None, 600)          7680600     ['flatten_46[0][0]']             \n",
            "                                                                                                  \n",
            " dense_77 (Dense)               (None, 600)          8160600     ['concatenate_17[0][0]']         \n",
            "                                                                                                  \n",
            " dense_78 (Dense)               (None, 600)          8160600     ['concatenate_18[0][0]']         \n",
            "                                                                                                  \n",
            " average_8 (Average)            (None, 600)          0           ['dense_76[0][0]',               \n",
            "                                                                  'dense_77[0][0]',               \n",
            "                                                                  'dense_78[0][0]']               \n",
            "                                                                                                  \n",
            "==================================================================================================\n",
            "Total params: 24,885,952\n",
            "Trainable params: 24,885,156\n",
            "Non-trainable params: 796\n",
            "__________________________________________________________________________________________________\n"
          ]
        }
      ]
    },
    {
      "cell_type": "code",
      "metadata": {
        "id": "vc_qxQTGX2-A",
        "colab": {
          "base_uri": "https://localhost:8080/"
        },
        "outputId": "0f796561-436d-4328-89bd-9df22eb2121c"
      },
      "source": [
        "gc.collect()\n",
        "gc.collect()\n",
        "gc.collect()\n",
        "gc.collect()"
      ],
      "execution_count": null,
      "outputs": [
        {
          "output_type": "execute_result",
          "data": {
            "text/plain": [
              "0"
            ]
          },
          "metadata": {},
          "execution_count": 98
        }
      ]
    },
    {
      "cell_type": "code",
      "metadata": {
        "id": "TJPaCQdrX2-B",
        "colab": {
          "base_uri": "https://localhost:8080/"
        },
        "outputId": "e33edd1d-3be4-4972-de95-fc6553a9238f"
      },
      "source": [
        "model_path = path+'model_Gait_A_Net.h5'\n",
        "model=load_model(model_path, custom_objects={'correlation_coefficient_loss_RMSE': correlation_coefficient_loss_RMSE})\n",
        "\n",
        "[yhat_1,yhat_2,yhat_3,yhat_4]=model.predict([test_X_1D,test_X_2D])\n",
        "\n",
        "\n",
        " ### Present ###\n",
        "yhat_5=yhat_4.reshape((yhat_4.shape[0]*w,6))\n",
        "test_y_r=test_y.reshape((test_y.shape[0]*w,6))\n",
        "\n",
        "print(yhat_4.shape)\n",
        "### Future ###\n",
        "\n",
        "### Unpack ###\n",
        "yhat_up=unpack_dataset_present(np.array(yhat_5))\n",
        "test_y_up=unpack_dataset_present(np.array(test_y_r))\n",
        "\n",
        "print(yhat_up.shape,test_y_up.shape)\n",
        "\n",
        "\n",
        "### Present ###\n",
        "\n",
        "yhat_up=yhat_up.reshape(int(len(yhat_up)/6),6)\n",
        "test_y_up=test_y_up.reshape(int(len(test_y_up)/6),6)\n",
        "\n",
        "print(yhat_up.shape,test_y_up.shape)"
      ],
      "execution_count": null,
      "outputs": [
        {
          "output_type": "stream",
          "name": "stdout",
          "text": [
            "254/254 [==============================] - 10s 23ms/step\n",
            "(8102, 600)\n",
            "(2430600,) (2430600,)\n",
            "(405100, 6) (405100, 6)\n"
          ]
        }
      ]
    },
    {
      "cell_type": "code",
      "metadata": {
        "id": "SLNZoXpfX2-B",
        "colab": {
          "base_uri": "https://localhost:8080/"
        },
        "outputId": "750c5272-0e64-4b11-af61-2b5f7064e2a2"
      },
      "source": [
        "### Present ###\n",
        "\n",
        "rmse,p= prediction_test(np.array(yhat_up),np.array(test_y_up))\n",
        "\n",
        "print(rmse[0])\n",
        "print(rmse[1])\n",
        "print(rmse[2])\n",
        "\n",
        "m=np.mean(rmse)\n",
        "\n",
        "print('\\n')\n",
        "print(m)\n",
        "\n",
        "print('\\n')\n",
        "\n",
        "print(p[0])\n",
        "print(p[1])\n",
        "print(p[2])\n",
        "print('\\n')\n",
        "\n",
        "print(np.mean(p))"
      ],
      "execution_count": null,
      "outputs": [
        {
          "output_type": "stream",
          "name": "stdout",
          "text": [
            "5.076749963143114\n",
            "5.511317549576425\n",
            "3.219463580787635\n",
            "\n",
            "\n",
            "4.602510364502392\n",
            "\n",
            "\n",
            "0.9597718567556781\n",
            "0.9727510621371238\n",
            "0.9430899530888224\n",
            "\n",
            "\n",
            "0.9585376239938747\n"
          ]
        }
      ]
    },
    {
      "cell_type": "code",
      "metadata": {
        "id": "dFVIiyG_X2-B"
      },
      "source": [
        "RMSE_Gait_A_Net=rmse\n",
        "PCC_Gait_A_Net=p\n",
        "\n",
        "Ablation_12=np.hstack([RMSE_Gait_A_Net,PCC_Gait_A_Net])"
      ],
      "execution_count": null,
      "outputs": []
    },
    {
      "cell_type": "markdown",
      "metadata": {
        "id": "IQARpaZR-g-k"
      },
      "source": [
        "## 13. Gait-JL-Net+Augmentation"
      ]
    },
    {
      "cell_type": "code",
      "metadata": {
        "id": "pjqAUfwI-ef0",
        "colab": {
          "base_uri": "https://localhost:8080/",
          "height": 1000
        },
        "outputId": "16c9ff56-8528-4a51-f2b8-154687a2f178"
      },
      "source": [
        "#### Main Model ####\n",
        "\n",
        "inputs_1D = tf.keras.layers.Input( shape=(w,12) )\n",
        "inputs_2D = tf.keras.layers.Input( shape=(w,6,2) )\n",
        "\n",
        "\n",
        "inputs_1D_N=BatchNormalization()(inputs_1D)\n",
        "inputs_2D_N=BatchNormalization()(inputs_2D)\n",
        "\n",
        "\n",
        "output_1,output_2,output_3,output=Gait_Net(inputs_1D_N,inputs_2D_N)\n",
        "\n",
        "model = Model(inputs=[inputs_1D, inputs_2D], outputs=[output_1,output_2,output_3,output])\n",
        "model.compile(loss=correlation_coefficient_loss_joint, optimizer='Adam')\n",
        "\n",
        "\n",
        "history=model.fit([np.array(train_X_1D),np.array(train_X_2D)], [train_y_5,train_y_5,train_y_5,train_y_5], epochs=30, batch_size=64, validation_data=([X_validation_1D,\\\n",
        "                                                                      X_validation_2D], [Y_validation,Y_validation,Y_validation,Y_validation]), verbose=2, shuffle=False)\n",
        "\n",
        "filename = path+'model_Gait_JL_A_Net.h5'\n",
        "model.save(filename)\n",
        "print('>Saved %s' % filename)\n",
        "\n",
        "# # # summarize history for loss\n",
        "plt.plot(history.history['loss'])\n",
        "plt.plot(history.history['val_loss'])\n",
        "plt.title('model loss')\n",
        "plt.ylabel('loss')\n",
        "plt.xlabel('epoch')\n",
        "plt.legend(['train', 'validation'], loc='upper right')\n",
        "plt.show()\n",
        "model.summary()\n"
      ],
      "execution_count": null,
      "outputs": [
        {
          "output_type": "stream",
          "name": "stdout",
          "text": [
            "Epoch 1/3\n",
            "958/958 - 98s - loss: 23.0724 - dense_83_loss: 6.1104 - dense_84_loss: 5.8526 - dense_85_loss: 5.6958 - average_9_loss: 5.4135 - val_loss: 16.4046 - val_dense_83_loss: 4.3077 - val_dense_84_loss: 4.0927 - val_dense_85_loss: 4.1679 - val_average_9_loss: 3.8362 - 98s/epoch - 103ms/step\n",
            "Epoch 2/3\n",
            "958/958 - 66s - loss: 16.5354 - dense_83_loss: 4.3643 - dense_84_loss: 4.2540 - dense_85_loss: 4.1661 - average_9_loss: 3.7510 - val_loss: 14.2244 - val_dense_83_loss: 3.7326 - val_dense_84_loss: 3.5778 - val_dense_85_loss: 3.5974 - val_average_9_loss: 3.3166 - 66s/epoch - 68ms/step\n",
            "Epoch 3/3\n",
            "958/958 - 64s - loss: 15.0513 - dense_83_loss: 3.9795 - dense_84_loss: 3.8860 - dense_85_loss: 3.8059 - average_9_loss: 3.3799 - val_loss: 13.3125 - val_dense_83_loss: 3.4402 - val_dense_84_loss: 3.3515 - val_dense_85_loss: 3.4232 - val_average_9_loss: 3.0976 - 64s/epoch - 67ms/step\n",
            ">Saved /content/model_Gait_JL_A_Net.h5\n"
          ]
        },
        {
          "output_type": "display_data",
          "data": {
            "text/plain": [
              "<Figure size 640x480 with 1 Axes>"
            ],
            "image/png": "[encoded data removed]"
          },
          "metadata": {}
        },
        {
          "output_type": "stream",
          "name": "stdout",
          "text": [
            "Model: \"model_16\"\n",
            "__________________________________________________________________________________________________\n",
            " Layer (type)                   Output Shape         Param #     Connected to                     \n",
            "==================================================================================================\n",
            " input_33 (InputLayer)          [(None, 100, 12)]    0           []                               \n",
            "                                                                                                  \n",
            " batch_normalization_80 (BatchN  (None, 100, 12)     48          ['input_33[0][0]']               \n",
            " ormalization)                                                                                    \n",
            "                                                                                                  \n",
            " input_34 (InputLayer)          [(None, 100, 6, 2)]  0           []                               \n",
            "                                                                                                  \n",
            " conv1d_48 (Conv1D)             (None, 100, 64)      2368        ['batch_normalization_80[0][0]'] \n",
            "                                                                                                  \n",
            " batch_normalization_81 (BatchN  (None, 100, 6, 2)   8           ['input_34[0][0]']               \n",
            " ormalization)                                                                                    \n",
            "                                                                                                  \n",
            " conv1d_49 (Conv1D)             (None, 100, 64)      12352       ['conv1d_48[0][0]']              \n",
            "                                                                                                  \n",
            " conv2d_24 (Conv2D)             (None, 100, 6, 64)   1216        ['batch_normalization_81[0][0]'] \n",
            "                                                                                                  \n",
            " batch_normalization_84 (BatchN  (None, 100, 64)     256         ['conv1d_49[0][0]']              \n",
            " ormalization)                                                                                    \n",
            "                                                                                                  \n",
            " batch_normalization_82 (BatchN  (None, 100, 6, 64)  256         ['conv2d_24[0][0]']              \n",
            " ormalization)                                                                                    \n",
            "                                                                                                  \n",
            " max_pooling1d_24 (MaxPooling1D  (None, 50, 64)      0           ['batch_normalization_84[0][0]'] \n",
            " )                                                                                                \n",
            "                                                                                                  \n",
            " max_pooling2d_24 (MaxPooling2D  (None, 50, 3, 64)   0           ['batch_normalization_82[0][0]'] \n",
            " )                                                                                                \n",
            "                                                                                                  \n",
            " conv1d_50 (Conv1D)             (None, 50, 128)      24704       ['max_pooling1d_24[0][0]']       \n",
            "                                                                                                  \n",
            " conv2d_25 (Conv2D)             (None, 50, 3, 128)   73856       ['max_pooling2d_24[0][0]']       \n",
            "                                                                                                  \n",
            " conv1d_51 (Conv1D)             (None, 50, 128)      49280       ['conv1d_50[0][0]']              \n",
            "                                                                                                  \n",
            " batch_normalization_83 (BatchN  (None, 50, 3, 128)  512         ['conv2d_25[0][0]']              \n",
            " ormalization)                                                                                    \n",
            "                                                                                                  \n",
            " batch_normalization_85 (BatchN  (None, 50, 128)     512         ['conv1d_51[0][0]']              \n",
            " ormalization)                                                                                    \n",
            "                                                                                                  \n",
            " max_pooling2d_25 (MaxPooling2D  (None, 25, 1, 128)  0           ['batch_normalization_83[0][0]'] \n",
            " )                                                                                                \n",
            "                                                                                                  \n",
            " max_pooling1d_25 (MaxPooling1D  (None, 25, 128)     0           ['batch_normalization_85[0][0]'] \n",
            " )                                                                                                \n",
            "                                                                                                  \n",
            " bidirectional_56 (Bidirectiona  (None, 100, 256)    109056      ['batch_normalization_80[0][0]'] \n",
            " l)                                                                                               \n",
            "                                                                                                  \n",
            " dense_79 (Dense)               (None, 25, 1, 64)    8256        ['max_pooling2d_25[0][0]']       \n",
            "                                                                                                  \n",
            " bidirectional_58 (Bidirectiona  (None, 100, 256)    109056      ['batch_normalization_80[0][0]'] \n",
            " l)                                                                                               \n",
            "                                                                                                  \n",
            " dense_81 (Dense)               (None, 25, 64)       8256        ['max_pooling1d_25[0][0]']       \n",
            "                                                                                                  \n",
            " bidirectional_54 (Bidirectiona  (None, 100, 256)    109056      ['batch_normalization_80[0][0]'] \n",
            " l)                                                                                               \n",
            "                                                                                                  \n",
            " dropout_104 (Dropout)          (None, 100, 256)     0           ['bidirectional_56[0][0]']       \n",
            "                                                                                                  \n",
            " dropout_106 (Dropout)          (None, 25, 1, 64)    0           ['dense_79[0][0]']               \n",
            "                                                                                                  \n",
            " dropout_108 (Dropout)          (None, 100, 256)     0           ['bidirectional_58[0][0]']       \n",
            "                                                                                                  \n",
            " dropout_110 (Dropout)          (None, 25, 64)       0           ['dense_81[0][0]']               \n",
            "                                                                                                  \n",
            " dropout_102 (Dropout)          (None, 100, 256)     0           ['bidirectional_54[0][0]']       \n",
            "                                                                                                  \n",
            " bidirectional_57 (Bidirectiona  (None, 100, 128)    123648      ['dropout_104[0][0]']            \n",
            " l)                                                                                               \n",
            "                                                                                                  \n",
            " dense_80 (Dense)               (None, 25, 1, 32)    2080        ['dropout_106[0][0]']            \n",
            "                                                                                                  \n",
            " bidirectional_59 (Bidirectiona  (None, 100, 128)    123648      ['dropout_108[0][0]']            \n",
            " l)                                                                                               \n",
            "                                                                                                  \n",
            " dense_82 (Dense)               (None, 25, 32)       2080        ['dropout_110[0][0]']            \n",
            "                                                                                                  \n",
            " bidirectional_55 (Bidirectiona  (None, 100, 128)    123648      ['dropout_102[0][0]']            \n",
            " l)                                                                                               \n",
            "                                                                                                  \n",
            " dropout_105 (Dropout)          (None, 100, 128)     0           ['bidirectional_57[0][0]']       \n",
            "                                                                                                  \n",
            " dropout_107 (Dropout)          (None, 25, 1, 32)    0           ['dense_80[0][0]']               \n",
            "                                                                                                  \n",
            " dropout_109 (Dropout)          (None, 100, 128)     0           ['bidirectional_59[0][0]']       \n",
            "                                                                                                  \n",
            " dropout_111 (Dropout)          (None, 25, 32)       0           ['dense_82[0][0]']               \n",
            "                                                                                                  \n",
            " dropout_103 (Dropout)          (None, 100, 128)     0           ['bidirectional_55[0][0]']       \n",
            "                                                                                                  \n",
            " flatten_52 (Flatten)           (None, 12800)        0           ['dropout_105[0][0]']            \n",
            "                                                                                                  \n",
            " flatten_53 (Flatten)           (None, 800)          0           ['dropout_107[0][0]']            \n",
            "                                                                                                  \n",
            " flatten_54 (Flatten)           (None, 12800)        0           ['dropout_109[0][0]']            \n",
            "                                                                                                  \n",
            " flatten_55 (Flatten)           (None, 800)          0           ['dropout_111[0][0]']            \n",
            "                                                                                                  \n",
            " flatten_51 (Flatten)           (None, 12800)        0           ['dropout_103[0][0]']            \n",
            "                                                                                                  \n",
            " concatenate_19 (Concatenate)   (None, 13600)        0           ['flatten_52[0][0]',             \n",
            "                                                                  'flatten_53[0][0]']             \n",
            "                                                                                                  \n",
            " concatenate_20 (Concatenate)   (None, 13600)        0           ['flatten_54[0][0]',             \n",
            "                                                                  'flatten_55[0][0]']             \n",
            "                                                                                                  \n",
            " dense_83 (Dense)               (None, 600)          7680600     ['flatten_51[0][0]']             \n",
            "                                                                                                  \n",
            " dense_84 (Dense)               (None, 600)          8160600     ['concatenate_19[0][0]']         \n",
            "                                                                                                  \n",
            " dense_85 (Dense)               (None, 600)          8160600     ['concatenate_20[0][0]']         \n",
            "                                                                                                  \n",
            " average_9 (Average)            (None, 600)          0           ['dense_83[0][0]',               \n",
            "                                                                  'dense_84[0][0]',               \n",
            "                                                                  'dense_85[0][0]']               \n",
            "                                                                                                  \n",
            "==================================================================================================\n",
            "Total params: 24,885,952\n",
            "Trainable params: 24,885,156\n",
            "Non-trainable params: 796\n",
            "__________________________________________________________________________________________________\n"
          ]
        }
      ]
    },
    {
      "cell_type": "code",
      "metadata": {
        "id": "SCbYdJfi-ef1",
        "colab": {
          "base_uri": "https://localhost:8080/"
        },
        "outputId": "93e5e5a4-93e8-463d-d52d-7745ce4219b0"
      },
      "source": [
        "gc.collect()\n",
        "gc.collect()\n",
        "gc.collect()\n",
        "gc.collect()"
      ],
      "execution_count": null,
      "outputs": [
        {
          "output_type": "execute_result",
          "data": {
            "text/plain": [
              "0"
            ]
          },
          "metadata": {},
          "execution_count": 103
        }
      ]
    },
    {
      "cell_type": "code",
      "metadata": {
        "id": "5dArhLdf-ef1",
        "colab": {
          "base_uri": "https://localhost:8080/"
        },
        "outputId": "0a622974-0288-4184-cfd4-7a10ccafd443"
      },
      "source": [
        "model_path = path+'model_Gait_JL_A_Net.h5'\n",
        "model=load_model(model_path, custom_objects={'correlation_coefficient_loss_joint': correlation_coefficient_loss_joint})\n",
        "\n",
        "[yhat_1,yhat_2,yhat_3,yhat_4]=model.predict([test_X_1D,test_X_2D])\n",
        "\n",
        "\n",
        " ### Present ###\n",
        "yhat_5=yhat_4.reshape((yhat_4.shape[0]*w,6))\n",
        "test_y_r=test_y.reshape((test_y.shape[0]*w,6))\n",
        "\n",
        "print(yhat_4.shape)\n",
        "\n",
        "### Unpack ###\n",
        "yhat_up=unpack_dataset_present(np.array(yhat_5))\n",
        "test_y_up=unpack_dataset_present(np.array(test_y_r))\n",
        "\n",
        "print(yhat_up.shape,test_y_up.shape)\n",
        "\n",
        "\n",
        "### Present ###\n",
        "\n",
        "yhat_up=yhat_up.reshape(int(len(yhat_up)/6),6)\n",
        "test_y_up=test_y_up.reshape(int(len(test_y_up)/6),6)\n",
        "\n",
        "print(yhat_up.shape,test_y_up.shape)"
      ],
      "execution_count": null,
      "outputs": [
        {
          "output_type": "stream",
          "name": "stdout",
          "text": [
            "254/254 [==============================] - 9s 20ms/step\n",
            "(8102, 600)\n",
            "(2430600,) (2430600,)\n",
            "(405100, 6) (405100, 6)\n"
          ]
        }
      ]
    },
    {
      "cell_type": "code",
      "metadata": {
        "id": "FB_QqO6y-ef1",
        "colab": {
          "base_uri": "https://localhost:8080/"
        },
        "outputId": "d5d75d3b-afb3-40e2-c3a2-ddb1b1c1315e"
      },
      "source": [
        "### Present ###\n",
        "\n",
        "rmse,p= prediction_test(np.array(yhat_up),np.array(test_y_up))\n",
        "\n",
        "print(rmse[0])\n",
        "print(rmse[1])\n",
        "print(rmse[2])\n",
        "\n",
        "m=np.mean(rmse)\n",
        "\n",
        "print('\\n')\n",
        "print(m)\n",
        "\n",
        "print('\\n')\n",
        "\n",
        "print(p[0])\n",
        "print(p[1])\n",
        "print(p[2])\n",
        "print('\\n')\n",
        "\n",
        "print(np.mean(p))"
      ],
      "execution_count": null,
      "outputs": [
        {
          "output_type": "stream",
          "name": "stdout",
          "text": [
            "4.768077403051798\n",
            "5.331573289528146\n",
            "3.271911692637215\n",
            "\n",
            "\n",
            "4.457187461739053\n",
            "\n",
            "\n",
            "0.9626753279644793\n",
            "0.9748284659157724\n",
            "0.9398429538652718\n",
            "\n",
            "\n",
            "0.9591155825818412\n"
          ]
        }
      ]
    },
    {
      "cell_type": "code",
      "metadata": {
        "id": "meIYLUM2-ef1"
      },
      "source": [
        "RMSE_Gait_JL_A_Net=rmse\n",
        "PCC_Gait_JL_A_Net=p\n",
        "\n",
        "Ablation_13=np.hstack([RMSE_Gait_JL_A_Net,PCC_Gait_JL_A_Net])"
      ],
      "execution_count": null,
      "outputs": []
    },
    {
      "cell_type": "markdown",
      "metadata": {
        "id": "zTUsqxDmYdkg"
      },
      "source": [
        "## Loss function with respect to weight"
      ]
    },
    {
      "cell_type": "code",
      "metadata": {
        "id": "FKgXjH4LOJTB"
      },
      "source": [
        "def correlation_coefficient_loss_joint_2(y_true, y_pred):\n",
        "    # Calculate mean values\n",
        "    mx = tf.reduce_mean(y_true)\n",
        "    my = tf.reduce_mean(y_pred)\n",
        "\n",
        "    # Calculate differences from mean\n",
        "    xm, ym = y_true - mx, y_pred - my\n",
        "\n",
        "    # Calculate numerator and denominator of Pearson correlation coefficient\n",
        "    r_num = tf.reduce_sum(tf.multiply(xm, ym))\n",
        "    r_den = tf.sqrt(tf.multiply(tf.reduce_sum(tf.square(xm)), tf.reduce_sum(tf.square(ym))))\n",
        "\n",
        "    # Calculate Pearson correlation coefficient\n",
        "    r = r_num / r_den\n",
        "\n",
        "    # Clamp r between -1 and 1\n",
        "    r = tf.maximum(tf.minimum(r, 1.0), -1.0)\n",
        "\n",
        "    # Calculate l2 loss\n",
        "    l2 = 1 - tf.square(r)\n",
        "\n",
        "    l1=K.sqrt(K.mean(K.square(y_true - y_pred)))\n",
        "\n",
        "\n",
        "    return l1+2*l2"
      ],
      "execution_count": null,
      "outputs": []
    },
    {
      "cell_type": "code",
      "metadata": {
        "id": "BVqqzu3IOQ6E"
      },
      "source": [
        "def correlation_coefficient_loss_joint_4(y_true, y_pred):\n",
        "    # Calculate mean values\n",
        "    mx = tf.reduce_mean(y_true)\n",
        "    my = tf.reduce_mean(y_pred)\n",
        "\n",
        "    # Calculate differences from mean\n",
        "    xm, ym = y_true - mx, y_pred - my\n",
        "\n",
        "    # Calculate numerator and denominator of Pearson correlation coefficient\n",
        "    r_num = tf.reduce_sum(tf.multiply(xm, ym))\n",
        "    r_den = tf.sqrt(tf.multiply(tf.reduce_sum(tf.square(xm)), tf.reduce_sum(tf.square(ym))))\n",
        "\n",
        "    # Calculate Pearson correlation coefficient\n",
        "    r = r_num / r_den\n",
        "\n",
        "    # Clamp r between -1 and 1\n",
        "    r = tf.maximum(tf.minimum(r, 1.0), -1.0)\n",
        "\n",
        "    # Calculate l2 loss\n",
        "    l2 = 1 - tf.square(r)\n",
        "\n",
        "    l1=K.sqrt(K.mean(K.square(y_true - y_pred)))\n",
        "\n",
        "\n",
        "    return l1+4*l2"
      ],
      "execution_count": null,
      "outputs": []
    },
    {
      "cell_type": "code",
      "metadata": {
        "id": "3O1dQjTqOMG8"
      },
      "source": [
        "def correlation_coefficient_loss_joint_6(y_true, y_pred):\n",
        "    # Calculate mean values\n",
        "    mx = tf.reduce_mean(y_true)\n",
        "    my = tf.reduce_mean(y_pred)\n",
        "\n",
        "    # Calculate differences from mean\n",
        "    xm, ym = y_true - mx, y_pred - my\n",
        "\n",
        "    # Calculate numerator and denominator of Pearson correlation coefficient\n",
        "    r_num = tf.reduce_sum(tf.multiply(xm, ym))\n",
        "    r_den = tf.sqrt(tf.multiply(tf.reduce_sum(tf.square(xm)), tf.reduce_sum(tf.square(ym))))\n",
        "\n",
        "    # Calculate Pearson correlation coefficient\n",
        "    r = r_num / r_den\n",
        "\n",
        "    # Clamp r between -1 and 1\n",
        "    r = tf.maximum(tf.minimum(r, 1.0), -1.0)\n",
        "\n",
        "    # Calculate l2 loss\n",
        "    l2 = 1 - tf.square(r)\n",
        "\n",
        "    l1=K.sqrt(K.mean(K.square(y_true - y_pred)))\n",
        "\n",
        "\n",
        "    return l1+6*l2"
      ],
      "execution_count": null,
      "outputs": []
    },
    {
      "cell_type": "code",
      "metadata": {
        "id": "NFJvh6r_OPRl"
      },
      "source": [
        "def correlation_coefficient_loss_joint_8(y_true, y_pred):\n",
        "    # Calculate mean values\n",
        "    mx = tf.reduce_mean(y_true)\n",
        "    my = tf.reduce_mean(y_pred)\n",
        "\n",
        "    # Calculate differences from mean\n",
        "    xm, ym = y_true - mx, y_pred - my\n",
        "\n",
        "    # Calculate numerator and denominator of Pearson correlation coefficient\n",
        "    r_num = tf.reduce_sum(tf.multiply(xm, ym))\n",
        "    r_den = tf.sqrt(tf.multiply(tf.reduce_sum(tf.square(xm)), tf.reduce_sum(tf.square(ym))))\n",
        "\n",
        "    # Calculate Pearson correlation coefficient\n",
        "    r = r_num / r_den\n",
        "\n",
        "    # Clamp r between -1 and 1\n",
        "    r = tf.maximum(tf.minimum(r, 1.0), -1.0)\n",
        "\n",
        "    # Calculate l2 loss\n",
        "    l2 = 1 - tf.square(r)\n",
        "\n",
        "    l1=K.sqrt(K.mean(K.square(y_true - y_pred)))\n",
        "\n",
        "\n",
        "    return l1+8*l2"
      ],
      "execution_count": null,
      "outputs": []
    },
    {
      "cell_type": "code",
      "metadata": {
        "id": "mcLdlDgNOMfm"
      },
      "source": [
        "def correlation_coefficient_loss_joint_10(y_true, y_pred):\n",
        "    # Calculate mean values\n",
        "    mx = tf.reduce_mean(y_true)\n",
        "    my = tf.reduce_mean(y_pred)\n",
        "\n",
        "    # Calculate differences from mean\n",
        "    xm, ym = y_true - mx, y_pred - my\n",
        "\n",
        "    # Calculate numerator and denominator of Pearson correlation coefficient\n",
        "    r_num = tf.reduce_sum(tf.multiply(xm, ym))\n",
        "    r_den = tf.sqrt(tf.multiply(tf.reduce_sum(tf.square(xm)), tf.reduce_sum(tf.square(ym))))\n",
        "\n",
        "    # Calculate Pearson correlation coefficient\n",
        "    r = r_num / r_den\n",
        "\n",
        "    # Clamp r between -1 and 1\n",
        "    r = tf.maximum(tf.minimum(r, 1.0), -1.0)\n",
        "\n",
        "    # Calculate l2 loss\n",
        "    l2 = 1 - tf.square(r)\n",
        "\n",
        "    l1=K.sqrt(K.mean(K.square(y_true - y_pred)))\n",
        "\n",
        "\n",
        "    return l1+10*l2"
      ],
      "execution_count": null,
      "outputs": []
    },
    {
      "cell_type": "markdown",
      "metadata": {
        "id": "y3DO5r8ZY-qd"
      },
      "source": [
        "## 14. Gait-JL-Net_2+Augmentation"
      ]
    },
    {
      "cell_type": "code",
      "metadata": {
        "id": "iK9jPLkoY-qd"
      },
      "source": [
        "#### Main Model ####\n",
        "\n",
        "inputs_1D = tf.keras.layers.Input( shape=(w,12) )\n",
        "inputs_2D = tf.keras.layers.Input( shape=(w,6,2) )\n",
        "\n",
        "\n",
        "inputs_1D_N=BatchNormalization()(inputs_1D)\n",
        "inputs_2D_N=BatchNormalization()(inputs_2D)\n",
        "\n",
        "\n",
        "output_1,output_2,output_3,output=Gait_Net(inputs_1D_N,inputs_2D_N)\n",
        "\n",
        "model = Model(inputs=[inputs_1D, inputs_2D], outputs=[output_1,output_2,output_3,output])\n",
        "model.compile(loss=correlation_coefficient_loss_joint_2, optimizer='Adam')\n",
        "\n",
        "\n",
        "history=model.fit([np.array(train_X_1D),np.array(train_X_2D)], [train_y_5,train_y_5,train_y_5,train_y_5], epochs=30, batch_size=64, validation_data=([X_validation_1D,\\\n",
        "                                                                      X_validation_2D], [Y_validation,Y_validation,Y_validation,Y_validation]), verbose=2, shuffle=False)\n",
        "\n",
        "filename = path+'model_Gait_JL_A_Net_2.h5'\n",
        "model.save(filename)\n",
        "print('>Saved %s' % filename)\n",
        "\n",
        "# # # summarize history for loss\n",
        "plt.plot(history.history['loss'])\n",
        "plt.plot(history.history['val_loss'])\n",
        "plt.title('model loss')\n",
        "plt.ylabel('loss')\n",
        "plt.xlabel('epoch')\n",
        "plt.legend(['train', 'validation'], loc='upper right')\n",
        "plt.show()\n",
        "model.summary()\n"
      ],
      "execution_count": null,
      "outputs": []
    },
    {
      "cell_type": "code",
      "metadata": {
        "id": "LT2gsxTCY-qe",
        "colab": {
          "base_uri": "https://localhost:8080/"
        },
        "outputId": "0f061421-0348-43e4-bb93-823fe4598152"
      },
      "source": [
        "gc.collect()\n",
        "gc.collect()\n",
        "gc.collect()\n",
        "gc.collect()"
      ],
      "execution_count": null,
      "outputs": [
        {
          "output_type": "execute_result",
          "data": {
            "text/plain": [
              "0"
            ]
          },
          "metadata": {},
          "execution_count": 148
        }
      ]
    },
    {
      "cell_type": "code",
      "metadata": {
        "id": "PP9L_WiPY-qe",
        "colab": {
          "base_uri": "https://localhost:8080/"
        },
        "outputId": "aaa285d5-1543-48e7-8527-aaf70304a8d5"
      },
      "source": [
        "model_path = path+'model_Gait_JL_A_Net_2.h5'\n",
        "model=load_model(model_path, custom_objects={'correlation_coefficient_loss_joint_2': correlation_coefficient_loss_joint_2})\n",
        "\n",
        "[yhat_1,yhat_2,yhat_3,yhat_4]=model.predict([test_X_1D,test_X_2D])\n",
        "\n",
        "\n",
        "\n",
        " ### Present ###\n",
        "yhat_5=yhat_4.reshape((yhat_4.shape[0]*w,6))\n",
        "test_y_r=test_y.reshape((test_y.shape[0]*w,6))\n",
        "\n",
        "print(yhat_4.shape)\n",
        "\n",
        "### Unpack ###\n",
        "yhat_up=unpack_dataset_present(np.array(yhat_5))\n",
        "test_y_up=unpack_dataset_present(np.array(test_y_r))\n",
        "\n",
        "print(yhat_up.shape,test_y_up.shape)\n",
        "\n",
        "\n",
        "### Present ###\n",
        "\n",
        "yhat_up=yhat_up.reshape(int(len(yhat_up)/6),6)\n",
        "test_y_up=test_y_up.reshape(int(len(test_y_up)/6),6)\n",
        "\n",
        "print(yhat_up.shape,test_y_up.shape)"
      ],
      "execution_count": null,
      "outputs": [
        {
          "output_type": "stream",
          "name": "stdout",
          "text": [
            "(1942, 600)\n",
            "(582900,) (582900,)\n",
            "(97150, 6) (97150, 6)\n"
          ]
        }
      ]
    },
    {
      "cell_type": "code",
      "metadata": {
        "id": "GzEkuIzKY-qe",
        "colab": {
          "base_uri": "https://localhost:8080/"
        },
        "outputId": "e6e13d8a-f7dc-4c81-d29b-2d5a0ddea5ba"
      },
      "source": [
        "### Present ###\n",
        "\n",
        "rmse,p= prediction_test(np.array(yhat_up),np.array(test_y_up))\n",
        "\n",
        "print(rmse[0])\n",
        "print(rmse[1])\n",
        "print(rmse[2])\n",
        "\n",
        "m=np.mean(rmse)\n",
        "\n",
        "print('\\n')\n",
        "print(m)\n",
        "\n",
        "print('\\n')\n",
        "\n",
        "print(p[0])\n",
        "print(p[1])\n",
        "print(p[2])\n",
        "print('\\n')\n",
        "\n",
        "print(np.mean(p))"
      ],
      "execution_count": null,
      "outputs": [
        {
          "output_type": "stream",
          "name": "stdout",
          "text": [
            "6.1776005394500455\n",
            "6.451901192072329\n",
            "3.856230104021027\n",
            "\n",
            "\n",
            "5.495243945181134\n",
            "\n",
            "\n",
            "0.9688576280858674\n",
            "0.9786572300522426\n",
            "0.9517962193767109\n",
            "\n",
            "\n",
            "0.9664370258382736\n"
          ]
        }
      ]
    },
    {
      "cell_type": "code",
      "metadata": {
        "id": "drNjPLWSY-qe"
      },
      "source": [
        "RMSE_Gait_JL_A_Net_2=rmse\n",
        "PCC_Gait_JL_A_Net_2=p\n",
        "\n",
        "Ablation_14=np.hstack([RMSE_Gait_JL_A_Net_2,PCC_Gait_JL_A_Net_2])"
      ],
      "execution_count": null,
      "outputs": []
    },
    {
      "cell_type": "markdown",
      "metadata": {
        "id": "6VvB8kwrZWzO"
      },
      "source": [
        "## 15. Gait-JL-Net_4+Augmentation"
      ]
    },
    {
      "cell_type": "code",
      "metadata": {
        "id": "OuX5yTzQZWzO",
        "colab": {
          "base_uri": "https://localhost:8080/",
          "height": 1000
        },
        "outputId": "0edd6a8d-4a39-4285-d510-8ecf33e98913"
      },
      "source": [
        "#### Main Model ####\n",
        "\n",
        "inputs_1D = tf.keras.layers.Input( shape=(w,12) )\n",
        "inputs_2D = tf.keras.layers.Input( shape=(w,6,2) )\n",
        "\n",
        "\n",
        "inputs_1D_N=BatchNormalization()(inputs_1D)\n",
        "inputs_2D_N=BatchNormalization()(inputs_2D)\n",
        "\n",
        "\n",
        "output_1,output_2,output_3,output=Gait_Net(inputs_1D_N,inputs_2D_N)\n",
        "\n",
        "model = Model(inputs=[inputs_1D, inputs_2D], outputs=[output_1,output_2,output_3,output])\n",
        "model.compile(loss=correlation_coefficient_loss_joint_4, optimizer='Adam')\n",
        "\n",
        "history=model.fit([np.array(train_X_1D),np.array(train_X_2D)], [train_y_5,train_y_5,train_y_5,train_y_5], epochs=30, batch_size=64, validation_data=([X_validation_1D,\\\n",
        "                                                                      X_validation_2D], [Y_validation,Y_validation,Y_validation,Y_validation]), verbose=2, shuffle=False)\n",
        "\n",
        "filename = path+'model_Gait_JL_A_Net_4.h5'\n",
        "model.save(filename)\n",
        "print('>Saved %s' % filename)\n",
        "\n",
        "# # # summarize history for loss\n",
        "plt.plot(history.history['loss'])\n",
        "plt.plot(history.history['val_loss'])\n",
        "plt.title('model loss')\n",
        "plt.ylabel('loss')\n",
        "plt.xlabel('epoch')\n",
        "plt.legend(['train', 'validation'], loc='upper right')\n",
        "plt.show()\n",
        "model.summary()\n"
      ],
      "execution_count": null,
      "outputs": [
        {
          "output_type": "stream",
          "name": "stdout",
          "text": [
            "Epoch 1/3\n",
            "958/958 - 100s - loss: 23.8420 - dense_90_loss: 6.3203 - dense_91_loss: 6.0700 - dense_92_loss: 5.8620 - average_10_loss: 5.5895 - val_loss: 16.9444 - val_dense_90_loss: 4.4605 - val_dense_91_loss: 4.2960 - val_dense_92_loss: 4.2361 - val_average_10_loss: 3.9517 - 100s/epoch - 104ms/step\n",
            "Epoch 2/3\n",
            "958/958 - 72s - loss: 16.8784 - dense_90_loss: 4.4595 - dense_91_loss: 4.3538 - dense_92_loss: 4.2336 - average_10_loss: 3.8314 - val_loss: 14.6825 - val_dense_90_loss: 3.8037 - val_dense_91_loss: 3.6969 - val_dense_92_loss: 3.7754 - val_average_10_loss: 3.4065 - 72s/epoch - 75ms/step\n",
            "Epoch 3/3\n",
            "958/958 - 70s - loss: 15.3739 - dense_90_loss: 4.0610 - dense_91_loss: 3.9770 - dense_92_loss: 3.8888 - average_10_loss: 3.4470 - val_loss: 13.5495 - val_dense_90_loss: 3.5206 - val_dense_91_loss: 3.4419 - val_dense_92_loss: 3.4427 - val_average_10_loss: 3.1442 - 70s/epoch - 73ms/step\n",
            ">Saved /content/model_Gait_JL_A_Net_4.h5\n"
          ]
        },
        {
          "output_type": "display_data",
          "data": {
            "text/plain": [
              "<Figure size 640x480 with 1 Axes>"
            ],
            "image/png": "[encoded data removed]"
          },
          "metadata": {}
        },
        {
          "output_type": "stream",
          "name": "stdout",
          "text": [
            "Model: \"model_17\"\n",
            "__________________________________________________________________________________________________\n",
            " Layer (type)                   Output Shape         Param #     Connected to                     \n",
            "==================================================================================================\n",
            " input_35 (InputLayer)          [(None, 100, 12)]    0           []                               \n",
            "                                                                                                  \n",
            " batch_normalization_86 (BatchN  (None, 100, 12)     48          ['input_35[0][0]']               \n",
            " ormalization)                                                                                    \n",
            "                                                                                                  \n",
            " input_36 (InputLayer)          [(None, 100, 6, 2)]  0           []                               \n",
            "                                                                                                  \n",
            " conv1d_52 (Conv1D)             (None, 100, 64)      2368        ['batch_normalization_86[0][0]'] \n",
            "                                                                                                  \n",
            " batch_normalization_87 (BatchN  (None, 100, 6, 2)   8           ['input_36[0][0]']               \n",
            " ormalization)                                                                                    \n",
            "                                                                                                  \n",
            " conv1d_53 (Conv1D)             (None, 100, 64)      12352       ['conv1d_52[0][0]']              \n",
            "                                                                                                  \n",
            " conv2d_26 (Conv2D)             (None, 100, 6, 64)   1216        ['batch_normalization_87[0][0]'] \n",
            "                                                                                                  \n",
            " batch_normalization_90 (BatchN  (None, 100, 64)     256         ['conv1d_53[0][0]']              \n",
            " ormalization)                                                                                    \n",
            "                                                                                                  \n",
            " batch_normalization_88 (BatchN  (None, 100, 6, 64)  256         ['conv2d_26[0][0]']              \n",
            " ormalization)                                                                                    \n",
            "                                                                                                  \n",
            " max_pooling1d_26 (MaxPooling1D  (None, 50, 64)      0           ['batch_normalization_90[0][0]'] \n",
            " )                                                                                                \n",
            "                                                                                                  \n",
            " max_pooling2d_26 (MaxPooling2D  (None, 50, 3, 64)   0           ['batch_normalization_88[0][0]'] \n",
            " )                                                                                                \n",
            "                                                                                                  \n",
            " conv1d_54 (Conv1D)             (None, 50, 128)      24704       ['max_pooling1d_26[0][0]']       \n",
            "                                                                                                  \n",
            " conv2d_27 (Conv2D)             (None, 50, 3, 128)   73856       ['max_pooling2d_26[0][0]']       \n",
            "                                                                                                  \n",
            " conv1d_55 (Conv1D)             (None, 50, 128)      49280       ['conv1d_54[0][0]']              \n",
            "                                                                                                  \n",
            " batch_normalization_89 (BatchN  (None, 50, 3, 128)  512         ['conv2d_27[0][0]']              \n",
            " ormalization)                                                                                    \n",
            "                                                                                                  \n",
            " batch_normalization_91 (BatchN  (None, 50, 128)     512         ['conv1d_55[0][0]']              \n",
            " ormalization)                                                                                    \n",
            "                                                                                                  \n",
            " max_pooling2d_27 (MaxPooling2D  (None, 25, 1, 128)  0           ['batch_normalization_89[0][0]'] \n",
            " )                                                                                                \n",
            "                                                                                                  \n",
            " max_pooling1d_27 (MaxPooling1D  (None, 25, 128)     0           ['batch_normalization_91[0][0]'] \n",
            " )                                                                                                \n",
            "                                                                                                  \n",
            " bidirectional_62 (Bidirectiona  (None, 100, 256)    109056      ['batch_normalization_86[0][0]'] \n",
            " l)                                                                                               \n",
            "                                                                                                  \n",
            " dense_86 (Dense)               (None, 25, 1, 64)    8256        ['max_pooling2d_27[0][0]']       \n",
            "                                                                                                  \n",
            " bidirectional_64 (Bidirectiona  (None, 100, 256)    109056      ['batch_normalization_86[0][0]'] \n",
            " l)                                                                                               \n",
            "                                                                                                  \n",
            " dense_88 (Dense)               (None, 25, 64)       8256        ['max_pooling1d_27[0][0]']       \n",
            "                                                                                                  \n",
            " bidirectional_60 (Bidirectiona  (None, 100, 256)    109056      ['batch_normalization_86[0][0]'] \n",
            " l)                                                                                               \n",
            "                                                                                                  \n",
            " dropout_114 (Dropout)          (None, 100, 256)     0           ['bidirectional_62[0][0]']       \n",
            "                                                                                                  \n",
            " dropout_116 (Dropout)          (None, 25, 1, 64)    0           ['dense_86[0][0]']               \n",
            "                                                                                                  \n",
            " dropout_118 (Dropout)          (None, 100, 256)     0           ['bidirectional_64[0][0]']       \n",
            "                                                                                                  \n",
            " dropout_120 (Dropout)          (None, 25, 64)       0           ['dense_88[0][0]']               \n",
            "                                                                                                  \n",
            " dropout_112 (Dropout)          (None, 100, 256)     0           ['bidirectional_60[0][0]']       \n",
            "                                                                                                  \n",
            " bidirectional_63 (Bidirectiona  (None, 100, 128)    123648      ['dropout_114[0][0]']            \n",
            " l)                                                                                               \n",
            "                                                                                                  \n",
            " dense_87 (Dense)               (None, 25, 1, 32)    2080        ['dropout_116[0][0]']            \n",
            "                                                                                                  \n",
            " bidirectional_65 (Bidirectiona  (None, 100, 128)    123648      ['dropout_118[0][0]']            \n",
            " l)                                                                                               \n",
            "                                                                                                  \n",
            " dense_89 (Dense)               (None, 25, 32)       2080        ['dropout_120[0][0]']            \n",
            "                                                                                                  \n",
            " bidirectional_61 (Bidirectiona  (None, 100, 128)    123648      ['dropout_112[0][0]']            \n",
            " l)                                                                                               \n",
            "                                                                                                  \n",
            " dropout_115 (Dropout)          (None, 100, 128)     0           ['bidirectional_63[0][0]']       \n",
            "                                                                                                  \n",
            " dropout_117 (Dropout)          (None, 25, 1, 32)    0           ['dense_87[0][0]']               \n",
            "                                                                                                  \n",
            " dropout_119 (Dropout)          (None, 100, 128)     0           ['bidirectional_65[0][0]']       \n",
            "                                                                                                  \n",
            " dropout_121 (Dropout)          (None, 25, 32)       0           ['dense_89[0][0]']               \n",
            "                                                                                                  \n",
            " dropout_113 (Dropout)          (None, 100, 128)     0           ['bidirectional_61[0][0]']       \n",
            "                                                                                                  \n",
            " flatten_57 (Flatten)           (None, 12800)        0           ['dropout_115[0][0]']            \n",
            "                                                                                                  \n",
            " flatten_58 (Flatten)           (None, 800)          0           ['dropout_117[0][0]']            \n",
            "                                                                                                  \n",
            " flatten_59 (Flatten)           (None, 12800)        0           ['dropout_119[0][0]']            \n",
            "                                                                                                  \n",
            " flatten_60 (Flatten)           (None, 800)          0           ['dropout_121[0][0]']            \n",
            "                                                                                                  \n",
            " flatten_56 (Flatten)           (None, 12800)        0           ['dropout_113[0][0]']            \n",
            "                                                                                                  \n",
            " concatenate_21 (Concatenate)   (None, 13600)        0           ['flatten_57[0][0]',             \n",
            "                                                                  'flatten_58[0][0]']             \n",
            "                                                                                                  \n",
            " concatenate_22 (Concatenate)   (None, 13600)        0           ['flatten_59[0][0]',             \n",
            "                                                                  'flatten_60[0][0]']             \n",
            "                                                                                                  \n",
            " dense_90 (Dense)               (None, 600)          7680600     ['flatten_56[0][0]']             \n",
            "                                                                                                  \n",
            " dense_91 (Dense)               (None, 600)          8160600     ['concatenate_21[0][0]']         \n",
            "                                                                                                  \n",
            " dense_92 (Dense)               (None, 600)          8160600     ['concatenate_22[0][0]']         \n",
            "                                                                                                  \n",
            " average_10 (Average)           (None, 600)          0           ['dense_90[0][0]',               \n",
            "                                                                  'dense_91[0][0]',               \n",
            "                                                                  'dense_92[0][0]']               \n",
            "                                                                                                  \n",
            "==================================================================================================\n",
            "Total params: 24,885,952\n",
            "Trainable params: 24,885,156\n",
            "Non-trainable params: 796\n",
            "__________________________________________________________________________________________________\n"
          ]
        }
      ]
    },
    {
      "cell_type": "code",
      "metadata": {
        "id": "8okqWI6TZWzO",
        "colab": {
          "base_uri": "https://localhost:8080/"
        },
        "outputId": "93d3142a-d638-4302-f5cb-9933821ffb26"
      },
      "source": [
        "gc.collect()\n",
        "gc.collect()\n",
        "gc.collect()\n",
        "gc.collect()"
      ],
      "execution_count": null,
      "outputs": [
        {
          "output_type": "execute_result",
          "data": {
            "text/plain": [
              "0"
            ]
          },
          "metadata": {},
          "execution_count": 138
        }
      ]
    },
    {
      "cell_type": "code",
      "metadata": {
        "id": "l9mRosVfZWzO",
        "colab": {
          "base_uri": "https://localhost:8080/"
        },
        "outputId": "b39dbd16-c6d2-4a5e-ca0e-a573ed434dce"
      },
      "source": [
        "model_path = path+'model_Gait_JL_A_Net_4.h5'\n",
        "model=load_model(model_path, custom_objects={'correlation_coefficient_loss_joint_4': correlation_coefficient_loss_joint_4})\n",
        "\n",
        "[yhat_1,yhat_2,yhat_3,yhat_4]=model.predict([test_X_1D,test_X_2D])\n",
        "\n",
        "\n",
        " ### Present ###\n",
        "yhat_5=yhat_4.reshape((yhat_4.shape[0]*w,6))\n",
        "test_y_r=test_y.reshape((test_y.shape[0]*w,6))\n",
        "\n",
        "print(yhat_4.shape)\n",
        "\n",
        "### Unpack ###\n",
        "yhat_up=unpack_dataset_present(np.array(yhat_5))\n",
        "test_y_up=unpack_dataset_present(np.array(test_y_r))\n",
        "\n",
        "print(yhat_up.shape,test_y_up.shape)\n",
        "\n",
        "\n",
        "### Present ###\n",
        "\n",
        "yhat_up=yhat_up.reshape(int(len(yhat_up)/6),6)\n",
        "test_y_up=test_y_up.reshape(int(len(test_y_up)/6),6)\n",
        "\n",
        "print(yhat_up.shape,test_y_up.shape)"
      ],
      "execution_count": null,
      "outputs": [
        {
          "output_type": "stream",
          "name": "stdout",
          "text": [
            "105/105 [==============================] - 6s 21ms/step\n",
            "(3358, 600)\n",
            "(1007400,) (1007400,)\n",
            "(167900, 6) (167900, 6)\n"
          ]
        }
      ]
    },
    {
      "cell_type": "code",
      "metadata": {
        "id": "5Cz9n9q6ZWzP",
        "colab": {
          "base_uri": "https://localhost:8080/"
        },
        "outputId": "2a908e65-c633-467d-c2fa-8f57999bf879"
      },
      "source": [
        "### Present ###\n",
        "\n",
        "rmse,p= prediction_test(np.array(yhat_up),np.array(test_y_up))\n",
        "\n",
        "print(rmse[0])\n",
        "print(rmse[1])\n",
        "print(rmse[2])\n",
        "\n",
        "m=np.mean(rmse)\n",
        "\n",
        "print('\\n')\n",
        "print(m)\n",
        "\n",
        "print('\\n')\n",
        "\n",
        "print(p[0])\n",
        "print(p[1])\n",
        "print(p[2])\n",
        "print('\\n')\n",
        "\n",
        "print(np.mean(p))"
      ],
      "execution_count": null,
      "outputs": [
        {
          "output_type": "stream",
          "name": "stdout",
          "text": [
            "4.889146252256408\n",
            "5.282496621578053\n",
            "3.317341235642403\n",
            "\n",
            "\n",
            "4.4963280364922875\n",
            "\n",
            "\n",
            "0.9649827414353538\n",
            "0.9740801677596422\n",
            "0.9427342904512264\n",
            "\n",
            "\n",
            "0.9605990665487408\n"
          ]
        }
      ]
    },
    {
      "cell_type": "code",
      "metadata": {
        "id": "jlYhY32lZWzP"
      },
      "source": [
        "RMSE_Gait_JL_A_Net_4=rmse\n",
        "PCC_Gait_JL_A_Net_4=p\n",
        "\n",
        "Ablation_15=np.hstack([RMSE_Gait_JL_A_Net_4,PCC_Gait_JL_A_Net_4])"
      ],
      "execution_count": null,
      "outputs": []
    },
    {
      "cell_type": "markdown",
      "metadata": {
        "id": "5oAUHymMZgob"
      },
      "source": [
        "## 16. Gait-JL-Net_6+Augmentation"
      ]
    },
    {
      "cell_type": "code",
      "metadata": {
        "id": "D9YADRp4Zgob",
        "colab": {
          "base_uri": "https://localhost:8080/"
        },
        "outputId": "19f613a4-a995-4360-e24f-d5ccd926146e"
      },
      "source": [
        "#### Main Model ####\n",
        "\n",
        "inputs_1D = tf.keras.layers.Input( shape=(w,12) )\n",
        "inputs_2D = tf.keras.layers.Input( shape=(w,6,2) )\n",
        "\n",
        "\n",
        "inputs_1D_N=BatchNormalization()(inputs_1D)\n",
        "inputs_2D_N=BatchNormalization()(inputs_2D)\n",
        "\n",
        "\n",
        "output_1,output_2,output_3,output=Gait_Net(inputs_1D_N,inputs_2D_N)\n",
        "\n",
        "model = Model(inputs=[inputs_1D, inputs_2D], outputs=[output_1,output_2,output_3,output])\n",
        "model.compile(loss=correlation_coefficient_loss_joint_6, optimizer='Adam')\n",
        "\n",
        "\n",
        "history=model.fit([np.array(train_X_1D),np.array(train_X_2D)], [train_y_5,train_y_5,train_y_5,train_y_5], epochs=30, batch_size=64, validation_data=([X_validation_1D,\\\n",
        "                                                                      X_validation_2D], [Y_validation,Y_validation,Y_validation,Y_validation]), verbose=2, shuffle=False)\n",
        "\n",
        "filename = path+'model_Gait_JL_A_Net_6.h5'\n",
        "model.save(filename)\n",
        "print('>Saved %s' % filename)\n",
        "\n",
        "# # # summarize history for loss\n",
        "plt.plot(history.history['loss'])\n",
        "plt.plot(history.history['val_loss'])\n",
        "plt.title('model loss')\n",
        "plt.ylabel('loss')\n",
        "plt.xlabel('epoch')\n",
        "plt.legend(['train', 'validation'], loc='upper right')\n",
        "plt.show()\n",
        "model.summary()\n"
      ],
      "execution_count": null,
      "outputs": [
        {
          "output_type": "stream",
          "name": "stdout",
          "text": [
            "Epoch 1/3\n",
            "958/958 - 104s - loss: 24.3710 - dense_97_loss: 6.5143 - dense_98_loss: 6.1337 - dense_99_loss: 6.0163 - average_11_loss: 5.7065 - val_loss: 17.0190 - val_dense_97_loss: 4.4213 - val_dense_98_loss: 4.1864 - val_dense_99_loss: 4.4147 - val_average_11_loss: 3.9965 - 104s/epoch - 109ms/step\n",
            "Epoch 2/3\n",
            "958/958 - 65s - loss: 17.0810 - dense_97_loss: 4.5080 - dense_98_loss: 4.4015 - dense_99_loss: 4.3076 - average_11_loss: 3.8638 - val_loss: 14.7011 - val_dense_97_loss: 3.8319 - val_dense_98_loss: 3.7367 - val_dense_99_loss: 3.6952 - val_average_11_loss: 3.4372 - 65s/epoch - 67ms/step\n",
            "Epoch 3/3\n",
            "958/958 - 64s - loss: 15.5031 - dense_97_loss: 4.1073 - dense_98_loss: 4.0059 - dense_99_loss: 3.9212 - average_11_loss: 3.4687 - val_loss: 13.6826 - val_dense_97_loss: 3.5532 - val_dense_98_loss: 3.4882 - val_dense_99_loss: 3.4598 - val_average_11_loss: 3.1813 - 64s/epoch - 67ms/step\n",
            ">Saved /content/model_Gait_JL_A_Net_6.h5\n"
          ]
        },
        {
          "output_type": "display_data",
          "data": {
            "text/plain": [
              "<Figure size 640x480 with 1 Axes>"
            ],
            "image/png": "[encoded data removed]"
          },
          "metadata": {}
        },
        {
          "output_type": "stream",
          "name": "stdout",
          "text": [
            "Model: \"model_18\"\n",
            "__________________________________________________________________________________________________\n",
            " Layer (type)                   Output Shape         Param #     Connected to                     \n",
            "==================================================================================================\n",
            " input_37 (InputLayer)          [(None, 100, 12)]    0           []                               \n",
            "                                                                                                  \n",
            " batch_normalization_92 (BatchN  (None, 100, 12)     48          ['input_37[0][0]']               \n",
            " ormalization)                                                                                    \n",
            "                                                                                                  \n",
            " input_38 (InputLayer)          [(None, 100, 6, 2)]  0           []                               \n",
            "                                                                                                  \n",
            " conv1d_56 (Conv1D)             (None, 100, 64)      2368        ['batch_normalization_92[0][0]'] \n",
            "                                                                                                  \n",
            " batch_normalization_93 (BatchN  (None, 100, 6, 2)   8           ['input_38[0][0]']               \n",
            " ormalization)                                                                                    \n",
            "                                                                                                  \n",
            " conv1d_57 (Conv1D)             (None, 100, 64)      12352       ['conv1d_56[0][0]']              \n",
            "                                                                                                  \n",
            " conv2d_28 (Conv2D)             (None, 100, 6, 64)   1216        ['batch_normalization_93[0][0]'] \n",
            "                                                                                                  \n",
            " batch_normalization_96 (BatchN  (None, 100, 64)     256         ['conv1d_57[0][0]']              \n",
            " ormalization)                                                                                    \n",
            "                                                                                                  \n",
            " batch_normalization_94 (BatchN  (None, 100, 6, 64)  256         ['conv2d_28[0][0]']              \n",
            " ormalization)                                                                                    \n",
            "                                                                                                  \n",
            " max_pooling1d_28 (MaxPooling1D  (None, 50, 64)      0           ['batch_normalization_96[0][0]'] \n",
            " )                                                                                                \n",
            "                                                                                                  \n",
            " max_pooling2d_28 (MaxPooling2D  (None, 50, 3, 64)   0           ['batch_normalization_94[0][0]'] \n",
            " )                                                                                                \n",
            "                                                                                                  \n",
            " conv1d_58 (Conv1D)             (None, 50, 128)      24704       ['max_pooling1d_28[0][0]']       \n",
            "                                                                                                  \n",
            " conv2d_29 (Conv2D)             (None, 50, 3, 128)   73856       ['max_pooling2d_28[0][0]']       \n",
            "                                                                                                  \n",
            " conv1d_59 (Conv1D)             (None, 50, 128)      49280       ['conv1d_58[0][0]']              \n",
            "                                                                                                  \n",
            " batch_normalization_95 (BatchN  (None, 50, 3, 128)  512         ['conv2d_29[0][0]']              \n",
            " ormalization)                                                                                    \n",
            "                                                                                                  \n",
            " batch_normalization_97 (BatchN  (None, 50, 128)     512         ['conv1d_59[0][0]']              \n",
            " ormalization)                                                                                    \n",
            "                                                                                                  \n",
            " max_pooling2d_29 (MaxPooling2D  (None, 25, 1, 128)  0           ['batch_normalization_95[0][0]'] \n",
            " )                                                                                                \n",
            "                                                                                                  \n",
            " max_pooling1d_29 (MaxPooling1D  (None, 25, 128)     0           ['batch_normalization_97[0][0]'] \n",
            " )                                                                                                \n",
            "                                                                                                  \n",
            " bidirectional_68 (Bidirectiona  (None, 100, 256)    109056      ['batch_normalization_92[0][0]'] \n",
            " l)                                                                                               \n",
            "                                                                                                  \n",
            " dense_93 (Dense)               (None, 25, 1, 64)    8256        ['max_pooling2d_29[0][0]']       \n",
            "                                                                                                  \n",
            " bidirectional_70 (Bidirectiona  (None, 100, 256)    109056      ['batch_normalization_92[0][0]'] \n",
            " l)                                                                                               \n",
            "                                                                                                  \n",
            " dense_95 (Dense)               (None, 25, 64)       8256        ['max_pooling1d_29[0][0]']       \n",
            "                                                                                                  \n",
            " bidirectional_66 (Bidirectiona  (None, 100, 256)    109056      ['batch_normalization_92[0][0]'] \n",
            " l)                                                                                               \n",
            "                                                                                                  \n",
            " dropout_124 (Dropout)          (None, 100, 256)     0           ['bidirectional_68[0][0]']       \n",
            "                                                                                                  \n",
            " dropout_126 (Dropout)          (None, 25, 1, 64)    0           ['dense_93[0][0]']               \n",
            "                                                                                                  \n",
            " dropout_128 (Dropout)          (None, 100, 256)     0           ['bidirectional_70[0][0]']       \n",
            "                                                                                                  \n",
            " dropout_130 (Dropout)          (None, 25, 64)       0           ['dense_95[0][0]']               \n",
            "                                                                                                  \n",
            " dropout_122 (Dropout)          (None, 100, 256)     0           ['bidirectional_66[0][0]']       \n",
            "                                                                                                  \n",
            " bidirectional_69 (Bidirectiona  (None, 100, 128)    123648      ['dropout_124[0][0]']            \n",
            " l)                                                                                               \n",
            "                                                                                                  \n",
            " dense_94 (Dense)               (None, 25, 1, 32)    2080        ['dropout_126[0][0]']            \n",
            "                                                                                                  \n",
            " bidirectional_71 (Bidirectiona  (None, 100, 128)    123648      ['dropout_128[0][0]']            \n",
            " l)                                                                                               \n",
            "                                                                                                  \n",
            " dense_96 (Dense)               (None, 25, 32)       2080        ['dropout_130[0][0]']            \n",
            "                                                                                                  \n",
            " bidirectional_67 (Bidirectiona  (None, 100, 128)    123648      ['dropout_122[0][0]']            \n",
            " l)                                                                                               \n",
            "                                                                                                  \n",
            " dropout_125 (Dropout)          (None, 100, 128)     0           ['bidirectional_69[0][0]']       \n",
            "                                                                                                  \n",
            " dropout_127 (Dropout)          (None, 25, 1, 32)    0           ['dense_94[0][0]']               \n",
            "                                                                                                  \n",
            " dropout_129 (Dropout)          (None, 100, 128)     0           ['bidirectional_71[0][0]']       \n",
            "                                                                                                  \n",
            " dropout_131 (Dropout)          (None, 25, 32)       0           ['dense_96[0][0]']               \n",
            "                                                                                                  \n",
            " dropout_123 (Dropout)          (None, 100, 128)     0           ['bidirectional_67[0][0]']       \n",
            "                                                                                                  \n",
            " flatten_62 (Flatten)           (None, 12800)        0           ['dropout_125[0][0]']            \n",
            "                                                                                                  \n",
            " flatten_63 (Flatten)           (None, 800)          0           ['dropout_127[0][0]']            \n",
            "                                                                                                  \n",
            " flatten_64 (Flatten)           (None, 12800)        0           ['dropout_129[0][0]']            \n",
            "                                                                                                  \n",
            " flatten_65 (Flatten)           (None, 800)          0           ['dropout_131[0][0]']            \n",
            "                                                                                                  \n",
            " flatten_61 (Flatten)           (None, 12800)        0           ['dropout_123[0][0]']            \n",
            "                                                                                                  \n",
            " concatenate_23 (Concatenate)   (None, 13600)        0           ['flatten_62[0][0]',             \n",
            "                                                                  'flatten_63[0][0]']             \n",
            "                                                                                                  \n",
            " concatenate_24 (Concatenate)   (None, 13600)        0           ['flatten_64[0][0]',             \n",
            "                                                                  'flatten_65[0][0]']             \n",
            "                                                                                                  \n",
            " dense_97 (Dense)               (None, 600)          7680600     ['flatten_61[0][0]']             \n",
            "                                                                                                  \n",
            " dense_98 (Dense)               (None, 600)          8160600     ['concatenate_23[0][0]']         \n",
            "                                                                                                  \n",
            " dense_99 (Dense)               (None, 600)          8160600     ['concatenate_24[0][0]']         \n",
            "                                                                                                  \n",
            " average_11 (Average)           (None, 600)          0           ['dense_97[0][0]',               \n",
            "                                                                  'dense_98[0][0]',               \n",
            "                                                                  'dense_99[0][0]']               \n",
            "                                                                                                  \n",
            "==================================================================================================\n",
            "Total params: 24,885,952\n",
            "Trainable params: 24,885,156\n",
            "Non-trainable params: 796\n",
            "__________________________________________________________________________________________________\n"
          ]
        }
      ]
    },
    {
      "cell_type": "code",
      "metadata": {
        "id": "TY_iSJt9Zgob",
        "colab": {
          "base_uri": "https://localhost:8080/"
        },
        "outputId": "493936ef-a711-4573-91a8-a211071bd18d"
      },
      "source": [
        "gc.collect()\n",
        "gc.collect()\n",
        "gc.collect()\n",
        "gc.collect()"
      ],
      "execution_count": null,
      "outputs": [
        {
          "output_type": "execute_result",
          "data": {
            "text/plain": [
              "0"
            ]
          },
          "metadata": {},
          "execution_count": 143
        }
      ]
    },
    {
      "cell_type": "code",
      "metadata": {
        "id": "CgT17N-hZgoc",
        "colab": {
          "base_uri": "https://localhost:8080/"
        },
        "outputId": "1a27e977-e306-43ad-8fab-3ebfc91170fb"
      },
      "source": [
        "model_path = path+'model_Gait_JL_A_Net_6.h5'\n",
        "model=load_model(model_path, custom_objects={'correlation_coefficient_loss_joint_6': correlation_coefficient_loss_joint_6})\n",
        "\n",
        "[yhat_1,yhat_2,yhat_3,yhat_4]=model.predict([test_X_1D,test_X_2D])\n",
        "\n",
        "\n",
        " ### Present ###\n",
        "yhat_5=yhat_4.reshape((yhat_4.shape[0]*w,6))\n",
        "test_y_r=test_y.reshape((test_y.shape[0]*w,6))\n",
        "\n",
        "print(yhat_4.shape)\n",
        "\n",
        "### Unpack ###\n",
        "yhat_up=unpack_dataset_present(np.array(yhat_5))\n",
        "test_y_up=unpack_dataset_present(np.array(test_y_r))\n",
        "\n",
        "print(yhat_up.shape,test_y_up.shape)\n",
        "\n",
        "### Present ###\n",
        "\n",
        "yhat_up=yhat_up.reshape(int(len(yhat_up)/6),6)\n",
        "test_y_up=test_y_up.reshape(int(len(test_y_up)/6),6)\n",
        "\n",
        "print(yhat_up.shape,test_y_up.shape)"
      ],
      "execution_count": null,
      "outputs": [
        {
          "output_type": "stream",
          "name": "stdout",
          "text": [
            "105/105 [==============================] - 6s 21ms/step\n",
            "(3358, 600)\n",
            "(1007400,) (1007400,)\n",
            "(167900, 6) (167900, 6)\n"
          ]
        }
      ]
    },
    {
      "cell_type": "code",
      "metadata": {
        "id": "8VUnpDPuZgoc",
        "colab": {
          "base_uri": "https://localhost:8080/"
        },
        "outputId": "8602ce2b-f3ab-4994-de46-99bb197d6011"
      },
      "source": [
        "### Present ###\n",
        "\n",
        "rmse,p= prediction_test(np.array(yhat_up),np.array(test_y_up))\n",
        "\n",
        "print(rmse[0])\n",
        "print(rmse[1])\n",
        "print(rmse[2])\n",
        "\n",
        "m=np.mean(rmse)\n",
        "\n",
        "print('\\n')\n",
        "print(m)\n",
        "\n",
        "print('\\n')\n",
        "\n",
        "print(p[0])\n",
        "print(p[1])\n",
        "print(p[2])\n",
        "print('\\n')\n",
        "\n",
        "print(np.mean(p))"
      ],
      "execution_count": null,
      "outputs": [
        {
          "output_type": "stream",
          "name": "stdout",
          "text": [
            "4.883033364123528\n",
            "5.3463120553915005\n",
            "3.3744605446664253\n",
            "\n",
            "\n",
            "4.534601988060484\n",
            "\n",
            "\n",
            "0.9636719330199082\n",
            "0.9736883242978567\n",
            "0.9389719616207143\n",
            "\n",
            "\n",
            "0.9587774063128264\n"
          ]
        }
      ]
    },
    {
      "cell_type": "code",
      "metadata": {
        "id": "ADSxBSGZZgoc"
      },
      "source": [
        "RMSE_Gait_JL_A_Net_6=rmse\n",
        "PCC_Gait_JL_A_Net_6=p\n",
        "\n",
        "Ablation_16=np.hstack([RMSE_Gait_JL_A_Net_6,PCC_Gait_JL_A_Net_6])"
      ],
      "execution_count": null,
      "outputs": []
    },
    {
      "cell_type": "markdown",
      "metadata": {
        "id": "XoHyJTRaaC2F"
      },
      "source": [
        "## 17. Gait-JL-Net_8+Augmentation"
      ]
    },
    {
      "cell_type": "code",
      "metadata": {
        "id": "9R9LTibyaC2F",
        "colab": {
          "base_uri": "https://localhost:8080/"
        },
        "outputId": "f8603117-490a-479e-b555-7cfa82a02681"
      },
      "source": [
        "#### Main Model ####\n",
        "\n",
        "inputs_1D = tf.keras.layers.Input( shape=(w,12) )\n",
        "inputs_2D = tf.keras.layers.Input( shape=(w,6,2) )\n",
        "\n",
        "\n",
        "inputs_1D_N=BatchNormalization()(inputs_1D)\n",
        "inputs_2D_N=BatchNormalization()(inputs_2D)\n",
        "\n",
        "\n",
        "output_1,output_2,output_3,output=Gait_Net(inputs_1D_N,inputs_2D_N)\n",
        "\n",
        "model = Model(inputs=[inputs_1D, inputs_2D], outputs=[output_1,output_2,output_3,output])\n",
        "model.compile(loss=correlation_coefficient_loss_joint_8, optimizer='Adam')\n",
        "\n",
        "\n",
        "history=model.fit([np.array(train_X_1D),np.array(train_X_2D)], [train_y_5,train_y_5,train_y_5,train_y_5], epochs=30, batch_size=64, validation_data=([X_validation_1D,\\\n",
        "                                                                      X_validation_2D], [Y_validation,Y_validation,Y_validation,Y_validation]), verbose=2, shuffle=False)\n",
        "\n",
        "filename = path+'model_Gait_JL_A_Net_8.h5'\n",
        "model.save(filename)\n",
        "print('>Saved %s' % filename)\n",
        "\n",
        "# # # summarize history for loss\n",
        "plt.plot(history.history['loss'])\n",
        "plt.plot(history.history['val_loss'])\n",
        "plt.title('model loss')\n",
        "plt.ylabel('loss')\n",
        "plt.xlabel('epoch')\n",
        "plt.legend(['train', 'validation'], loc='upper right')\n",
        "plt.show()\n",
        "model.summary()\n"
      ],
      "execution_count": null,
      "outputs": [
        {
          "output_type": "stream",
          "name": "stdout",
          "text": [
            "Epoch 1/3\n",
            "958/958 - 94s - loss: 24.8956 - dense_104_loss: 6.6288 - dense_105_loss: 6.3168 - dense_106_loss: 6.1301 - average_12_loss: 5.8198 - val_loss: 17.1069 - val_dense_104_loss: 4.4447 - val_dense_105_loss: 4.3649 - val_dense_106_loss: 4.2603 - val_average_12_loss: 4.0369 - 94s/epoch - 98ms/step\n",
            "Epoch 2/3\n",
            "958/958 - 64s - loss: 17.3213 - dense_104_loss: 4.5629 - dense_105_loss: 4.4789 - dense_106_loss: 4.3597 - average_12_loss: 3.9198 - val_loss: 15.0762 - val_dense_104_loss: 3.8420 - val_dense_105_loss: 3.8652 - val_dense_106_loss: 3.8426 - val_average_12_loss: 3.5263 - 64s/epoch - 67ms/step\n",
            "Epoch 3/3\n",
            "958/958 - 64s - loss: 15.7395 - dense_104_loss: 4.1534 - dense_105_loss: 4.0852 - dense_106_loss: 3.9765 - average_12_loss: 3.5244 - val_loss: 13.9697 - val_dense_104_loss: 3.5513 - val_dense_105_loss: 3.6086 - val_dense_106_loss: 3.5571 - val_average_12_loss: 3.2527 - 64s/epoch - 67ms/step\n",
            ">Saved /content/model_Gait_JL_A_Net_8.h5\n"
          ]
        },
        {
          "output_type": "display_data",
          "data": {
            "text/plain": [
              "<Figure size 640x480 with 1 Axes>"
            ],
            "image/png": "[encoded data removed]"
          },
          "metadata": {}
        },
        {
          "output_type": "stream",
          "name": "stdout",
          "text": [
            "Model: \"model_19\"\n",
            "__________________________________________________________________________________________________\n",
            " Layer (type)                   Output Shape         Param #     Connected to                     \n",
            "==================================================================================================\n",
            " input_39 (InputLayer)          [(None, 100, 12)]    0           []                               \n",
            "                                                                                                  \n",
            " batch_normalization_98 (BatchN  (None, 100, 12)     48          ['input_39[0][0]']               \n",
            " ormalization)                                                                                    \n",
            "                                                                                                  \n",
            " input_40 (InputLayer)          [(None, 100, 6, 2)]  0           []                               \n",
            "                                                                                                  \n",
            " conv1d_60 (Conv1D)             (None, 100, 64)      2368        ['batch_normalization_98[0][0]'] \n",
            "                                                                                                  \n",
            " batch_normalization_99 (BatchN  (None, 100, 6, 2)   8           ['input_40[0][0]']               \n",
            " ormalization)                                                                                    \n",
            "                                                                                                  \n",
            " conv1d_61 (Conv1D)             (None, 100, 64)      12352       ['conv1d_60[0][0]']              \n",
            "                                                                                                  \n",
            " conv2d_30 (Conv2D)             (None, 100, 6, 64)   1216        ['batch_normalization_99[0][0]'] \n",
            "                                                                                                  \n",
            " batch_normalization_102 (Batch  (None, 100, 64)     256         ['conv1d_61[0][0]']              \n",
            " Normalization)                                                                                   \n",
            "                                                                                                  \n",
            " batch_normalization_100 (Batch  (None, 100, 6, 64)  256         ['conv2d_30[0][0]']              \n",
            " Normalization)                                                                                   \n",
            "                                                                                                  \n",
            " max_pooling1d_30 (MaxPooling1D  (None, 50, 64)      0           ['batch_normalization_102[0][0]']\n",
            " )                                                                                                \n",
            "                                                                                                  \n",
            " max_pooling2d_30 (MaxPooling2D  (None, 50, 3, 64)   0           ['batch_normalization_100[0][0]']\n",
            " )                                                                                                \n",
            "                                                                                                  \n",
            " conv1d_62 (Conv1D)             (None, 50, 128)      24704       ['max_pooling1d_30[0][0]']       \n",
            "                                                                                                  \n",
            " conv2d_31 (Conv2D)             (None, 50, 3, 128)   73856       ['max_pooling2d_30[0][0]']       \n",
            "                                                                                                  \n",
            " conv1d_63 (Conv1D)             (None, 50, 128)      49280       ['conv1d_62[0][0]']              \n",
            "                                                                                                  \n",
            " batch_normalization_101 (Batch  (None, 50, 3, 128)  512         ['conv2d_31[0][0]']              \n",
            " Normalization)                                                                                   \n",
            "                                                                                                  \n",
            " batch_normalization_103 (Batch  (None, 50, 128)     512         ['conv1d_63[0][0]']              \n",
            " Normalization)                                                                                   \n",
            "                                                                                                  \n",
            " max_pooling2d_31 (MaxPooling2D  (None, 25, 1, 128)  0           ['batch_normalization_101[0][0]']\n",
            " )                                                                                                \n",
            "                                                                                                  \n",
            " max_pooling1d_31 (MaxPooling1D  (None, 25, 128)     0           ['batch_normalization_103[0][0]']\n",
            " )                                                                                                \n",
            "                                                                                                  \n",
            " bidirectional_74 (Bidirectiona  (None, 100, 256)    109056      ['batch_normalization_98[0][0]'] \n",
            " l)                                                                                               \n",
            "                                                                                                  \n",
            " dense_100 (Dense)              (None, 25, 1, 64)    8256        ['max_pooling2d_31[0][0]']       \n",
            "                                                                                                  \n",
            " bidirectional_76 (Bidirectiona  (None, 100, 256)    109056      ['batch_normalization_98[0][0]'] \n",
            " l)                                                                                               \n",
            "                                                                                                  \n",
            " dense_102 (Dense)              (None, 25, 64)       8256        ['max_pooling1d_31[0][0]']       \n",
            "                                                                                                  \n",
            " bidirectional_72 (Bidirectiona  (None, 100, 256)    109056      ['batch_normalization_98[0][0]'] \n",
            " l)                                                                                               \n",
            "                                                                                                  \n",
            " dropout_134 (Dropout)          (None, 100, 256)     0           ['bidirectional_74[0][0]']       \n",
            "                                                                                                  \n",
            " dropout_136 (Dropout)          (None, 25, 1, 64)    0           ['dense_100[0][0]']              \n",
            "                                                                                                  \n",
            " dropout_138 (Dropout)          (None, 100, 256)     0           ['bidirectional_76[0][0]']       \n",
            "                                                                                                  \n",
            " dropout_140 (Dropout)          (None, 25, 64)       0           ['dense_102[0][0]']              \n",
            "                                                                                                  \n",
            " dropout_132 (Dropout)          (None, 100, 256)     0           ['bidirectional_72[0][0]']       \n",
            "                                                                                                  \n",
            " bidirectional_75 (Bidirectiona  (None, 100, 128)    123648      ['dropout_134[0][0]']            \n",
            " l)                                                                                               \n",
            "                                                                                                  \n",
            " dense_101 (Dense)              (None, 25, 1, 32)    2080        ['dropout_136[0][0]']            \n",
            "                                                                                                  \n",
            " bidirectional_77 (Bidirectiona  (None, 100, 128)    123648      ['dropout_138[0][0]']            \n",
            " l)                                                                                               \n",
            "                                                                                                  \n",
            " dense_103 (Dense)              (None, 25, 32)       2080        ['dropout_140[0][0]']            \n",
            "                                                                                                  \n",
            " bidirectional_73 (Bidirectiona  (None, 100, 128)    123648      ['dropout_132[0][0]']            \n",
            " l)                                                                                               \n",
            "                                                                                                  \n",
            " dropout_135 (Dropout)          (None, 100, 128)     0           ['bidirectional_75[0][0]']       \n",
            "                                                                                                  \n",
            " dropout_137 (Dropout)          (None, 25, 1, 32)    0           ['dense_101[0][0]']              \n",
            "                                                                                                  \n",
            " dropout_139 (Dropout)          (None, 100, 128)     0           ['bidirectional_77[0][0]']       \n",
            "                                                                                                  \n",
            " dropout_141 (Dropout)          (None, 25, 32)       0           ['dense_103[0][0]']              \n",
            "                                                                                                  \n",
            " dropout_133 (Dropout)          (None, 100, 128)     0           ['bidirectional_73[0][0]']       \n",
            "                                                                                                  \n",
            " flatten_67 (Flatten)           (None, 12800)        0           ['dropout_135[0][0]']            \n",
            "                                                                                                  \n",
            " flatten_68 (Flatten)           (None, 800)          0           ['dropout_137[0][0]']            \n",
            "                                                                                                  \n",
            " flatten_69 (Flatten)           (None, 12800)        0           ['dropout_139[0][0]']            \n",
            "                                                                                                  \n",
            " flatten_70 (Flatten)           (None, 800)          0           ['dropout_141[0][0]']            \n",
            "                                                                                                  \n",
            " flatten_66 (Flatten)           (None, 12800)        0           ['dropout_133[0][0]']            \n",
            "                                                                                                  \n",
            " concatenate_25 (Concatenate)   (None, 13600)        0           ['flatten_67[0][0]',             \n",
            "                                                                  'flatten_68[0][0]']             \n",
            "                                                                                                  \n",
            " concatenate_26 (Concatenate)   (None, 13600)        0           ['flatten_69[0][0]',             \n",
            "                                                                  'flatten_70[0][0]']             \n",
            "                                                                                                  \n",
            " dense_104 (Dense)              (None, 600)          7680600     ['flatten_66[0][0]']             \n",
            "                                                                                                  \n",
            " dense_105 (Dense)              (None, 600)          8160600     ['concatenate_25[0][0]']         \n",
            "                                                                                                  \n",
            " dense_106 (Dense)              (None, 600)          8160600     ['concatenate_26[0][0]']         \n",
            "                                                                                                  \n",
            " average_12 (Average)           (None, 600)          0           ['dense_104[0][0]',              \n",
            "                                                                  'dense_105[0][0]',              \n",
            "                                                                  'dense_106[0][0]']              \n",
            "                                                                                                  \n",
            "==================================================================================================\n",
            "Total params: 24,885,952\n",
            "Trainable params: 24,885,156\n",
            "Non-trainable params: 796\n",
            "__________________________________________________________________________________________________\n"
          ]
        }
      ]
    },
    {
      "cell_type": "code",
      "metadata": {
        "id": "SSh6oAmVaC2F",
        "colab": {
          "base_uri": "https://localhost:8080/"
        },
        "outputId": "cdea83fa-5e9b-472f-ddf2-17995c44b981"
      },
      "source": [
        "gc.collect()\n",
        "gc.collect()\n",
        "gc.collect()\n",
        "gc.collect()"
      ],
      "execution_count": null,
      "outputs": [
        {
          "output_type": "execute_result",
          "data": {
            "text/plain": [
              "0"
            ]
          },
          "metadata": {},
          "execution_count": 148
        }
      ]
    },
    {
      "cell_type": "code",
      "metadata": {
        "id": "amrwxrYFaC2G",
        "colab": {
          "base_uri": "https://localhost:8080/"
        },
        "outputId": "72f891b7-497f-4f51-fa2a-14a9b969c98b"
      },
      "source": [
        "model_path = path+'model_Gait_JL_A_Net_8.h5'\n",
        "model=load_model(model_path, custom_objects={'correlation_coefficient_loss_joint_8': correlation_coefficient_loss_joint_8})\n",
        "\n",
        "[yhat_1,yhat_2,yhat_3,yhat_4]=model.predict([test_X_1D,test_X_2D])\n",
        "\n",
        "\n",
        " ### Present ###\n",
        "yhat_5=yhat_4.reshape((yhat_4.shape[0]*w,6))\n",
        "test_y_r=test_y.reshape((test_y.shape[0]*w,6))\n",
        "\n",
        "print(yhat_4.shape)\n",
        "\n",
        "### Unpack ###\n",
        "yhat_up=unpack_dataset_present(np.array(yhat_5))\n",
        "test_y_up=unpack_dataset_present(np.array(test_y_r))\n",
        "\n",
        "print(yhat_up.shape,test_y_up.shape)\n",
        "\n",
        "### Present ###\n",
        "\n",
        "yhat_up=yhat_up.reshape(int(len(yhat_up)/6),6)\n",
        "test_y_up=test_y_up.reshape(int(len(test_y_up)/6),6)\n",
        "\n",
        "print(yhat_up.shape,test_y_up.shape)"
      ],
      "execution_count": null,
      "outputs": [
        {
          "output_type": "stream",
          "name": "stdout",
          "text": [
            "105/105 [==============================] - 6s 21ms/step\n",
            "(3358, 600)\n",
            "(1007400,) (1007400,)\n",
            "(167900, 6) (167900, 6)\n"
          ]
        }
      ]
    },
    {
      "cell_type": "code",
      "metadata": {
        "id": "1eGLFQngaC2G",
        "colab": {
          "base_uri": "https://localhost:8080/"
        },
        "outputId": "8d603bec-0b4e-4e4c-9ecf-dc51b87095eb"
      },
      "source": [
        "### Present ###\n",
        "\n",
        "rmse,p= prediction_test(np.array(yhat_up),np.array(test_y_up))\n",
        "\n",
        "print(rmse[0])\n",
        "print(rmse[1])\n",
        "print(rmse[2])\n",
        "\n",
        "m=np.mean(rmse)\n",
        "\n",
        "print('\\n')\n",
        "print(m)\n",
        "\n",
        "print('\\n')\n",
        "\n",
        "print(p[0])\n",
        "print(p[1])\n",
        "print(p[2])\n",
        "print('\\n')\n",
        "\n",
        "print(np.mean(p))"
      ],
      "execution_count": null,
      "outputs": [
        {
          "output_type": "stream",
          "name": "stdout",
          "text": [
            "4.7959224580897395\n",
            "5.135687067524376\n",
            "3.2043774057241716\n",
            "\n",
            "\n",
            "4.378662310446096\n",
            "\n",
            "\n",
            "0.9656384153362116\n",
            "0.9757625537590788\n",
            "0.945329325688918\n",
            "\n",
            "\n",
            "0.9622434315947362\n"
          ]
        }
      ]
    },
    {
      "cell_type": "code",
      "metadata": {
        "id": "02W2smx5aC2G"
      },
      "source": [
        "RMSE_Gait_JL_A_Net_8=rmse\n",
        "PCC_Gait_JL_A_Net_8=p\n",
        "\n",
        "Ablation_17=np.hstack([RMSE_Gait_JL_A_Net_8,PCC_Gait_JL_A_Net_8])"
      ],
      "execution_count": null,
      "outputs": []
    },
    {
      "cell_type": "markdown",
      "metadata": {
        "id": "JGOEXFkLaYsc"
      },
      "source": [
        "## 18. Gait-JL-Net_10+Augmentation"
      ]
    },
    {
      "cell_type": "code",
      "metadata": {
        "id": "80nBZNNPaYsd",
        "colab": {
          "base_uri": "https://localhost:8080/",
          "height": 1000
        },
        "outputId": "4e277f97-e4d5-46e3-9486-1f624c823f75"
      },
      "source": [
        "#### Main Model ####\n",
        "\n",
        "inputs_1D = tf.keras.layers.Input( shape=(w,12) )\n",
        "inputs_2D = tf.keras.layers.Input( shape=(w,6,2) )\n",
        "\n",
        "\n",
        "inputs_1D_N=BatchNormalization()(inputs_1D)\n",
        "inputs_2D_N=BatchNormalization()(inputs_2D)\n",
        "\n",
        "\n",
        "output_1,output_2,output_3,output=Gait_Net(inputs_1D_N,inputs_2D_N)\n",
        "\n",
        "model = Model(inputs=[inputs_1D, inputs_2D], outputs=[output_1,output_2,output_3,output])\n",
        "model.compile(loss=correlation_coefficient_loss_joint_10, optimizer='Adam')\n",
        "\n",
        "\n",
        "history=model.fit([np.array(train_X_1D),np.array(train_X_2D)], [train_y_5,train_y_5,train_y_5,train_y_5], epochs=30, batch_size=64, validation_data=([X_validation_1D,\\\n",
        "                                                                      X_validation_2D], [Y_validation,Y_validation,Y_validation,Y_validation]), verbose=2, shuffle=False)\n",
        "\n",
        "filename = path+'model_Gait_JL_A_Net_10.h5'\n",
        "model.save(filename)\n",
        "print('>Saved %s' % filename)\n",
        "\n",
        "# # # summarize history for loss\n",
        "plt.plot(history.history['loss'])\n",
        "plt.plot(history.history['val_loss'])\n",
        "plt.title('model loss')\n",
        "plt.ylabel('loss')\n",
        "plt.xlabel('epoch')\n",
        "plt.legend(['train', 'validation'], loc='upper right')\n",
        "plt.show()\n",
        "model.summary()\n"
      ],
      "execution_count": null,
      "outputs": [
        {
          "output_type": "stream",
          "name": "stdout",
          "text": [
            "Epoch 1/3\n",
            "958/958 - 94s - loss: 25.4729 - dense_111_loss: 6.8250 - dense_112_loss: 6.4530 - dense_113_loss: 6.2316 - average_13_loss: 5.9632 - val_loss: 17.4517 - val_dense_111_loss: 4.5632 - val_dense_112_loss: 4.4293 - val_dense_113_loss: 4.3502 - val_average_13_loss: 4.1089 - 94s/epoch - 98ms/step\n",
            "Epoch 2/3\n",
            "958/958 - 64s - loss: 17.5573 - dense_111_loss: 4.6475 - dense_112_loss: 4.5384 - dense_113_loss: 4.4030 - average_13_loss: 3.9683 - val_loss: 15.4292 - val_dense_111_loss: 3.9834 - val_dense_112_loss: 3.9360 - val_dense_113_loss: 3.9061 - val_average_13_loss: 3.6037 - 64s/epoch - 67ms/step\n",
            "Epoch 3/3\n",
            "958/958 - 64s - loss: 15.9203 - dense_111_loss: 4.2282 - dense_112_loss: 4.1321 - dense_113_loss: 4.0031 - average_13_loss: 3.5569 - val_loss: 14.1449 - val_dense_111_loss: 3.6409 - val_dense_112_loss: 3.6406 - val_dense_113_loss: 3.5616 - val_average_13_loss: 3.3018 - 64s/epoch - 67ms/step\n",
            ">Saved /content/model_Gait_JL_A_Net_10.h5\n"
          ]
        },
        {
          "output_type": "display_data",
          "data": {
            "text/plain": [
              "<Figure size 640x480 with 1 Axes>"
            ],
            "image/png": "[encoded data removed]"
          },
          "metadata": {}
        },
        {
          "output_type": "stream",
          "name": "stdout",
          "text": [
            "Model: \"model_20\"\n",
            "__________________________________________________________________________________________________\n",
            " Layer (type)                   Output Shape         Param #     Connected to                     \n",
            "==================================================================================================\n",
            " input_41 (InputLayer)          [(None, 100, 12)]    0           []                               \n",
            "                                                                                                  \n",
            " batch_normalization_104 (Batch  (None, 100, 12)     48          ['input_41[0][0]']               \n",
            " Normalization)                                                                                   \n",
            "                                                                                                  \n",
            " input_42 (InputLayer)          [(None, 100, 6, 2)]  0           []                               \n",
            "                                                                                                  \n",
            " conv1d_64 (Conv1D)             (None, 100, 64)      2368        ['batch_normalization_104[0][0]']\n",
            "                                                                                                  \n",
            " batch_normalization_105 (Batch  (None, 100, 6, 2)   8           ['input_42[0][0]']               \n",
            " Normalization)                                                                                   \n",
            "                                                                                                  \n",
            " conv1d_65 (Conv1D)             (None, 100, 64)      12352       ['conv1d_64[0][0]']              \n",
            "                                                                                                  \n",
            " conv2d_32 (Conv2D)             (None, 100, 6, 64)   1216        ['batch_normalization_105[0][0]']\n",
            "                                                                                                  \n",
            " batch_normalization_108 (Batch  (None, 100, 64)     256         ['conv1d_65[0][0]']              \n",
            " Normalization)                                                                                   \n",
            "                                                                                                  \n",
            " batch_normalization_106 (Batch  (None, 100, 6, 64)  256         ['conv2d_32[0][0]']              \n",
            " Normalization)                                                                                   \n",
            "                                                                                                  \n",
            " max_pooling1d_32 (MaxPooling1D  (None, 50, 64)      0           ['batch_normalization_108[0][0]']\n",
            " )                                                                                                \n",
            "                                                                                                  \n",
            " max_pooling2d_32 (MaxPooling2D  (None, 50, 3, 64)   0           ['batch_normalization_106[0][0]']\n",
            " )                                                                                                \n",
            "                                                                                                  \n",
            " conv1d_66 (Conv1D)             (None, 50, 128)      24704       ['max_pooling1d_32[0][0]']       \n",
            "                                                                                                  \n",
            " conv2d_33 (Conv2D)             (None, 50, 3, 128)   73856       ['max_pooling2d_32[0][0]']       \n",
            "                                                                                                  \n",
            " conv1d_67 (Conv1D)             (None, 50, 128)      49280       ['conv1d_66[0][0]']              \n",
            "                                                                                                  \n",
            " batch_normalization_107 (Batch  (None, 50, 3, 128)  512         ['conv2d_33[0][0]']              \n",
            " Normalization)                                                                                   \n",
            "                                                                                                  \n",
            " batch_normalization_109 (Batch  (None, 50, 128)     512         ['conv1d_67[0][0]']              \n",
            " Normalization)                                                                                   \n",
            "                                                                                                  \n",
            " max_pooling2d_33 (MaxPooling2D  (None, 25, 1, 128)  0           ['batch_normalization_107[0][0]']\n",
            " )                                                                                                \n",
            "                                                                                                  \n",
            " max_pooling1d_33 (MaxPooling1D  (None, 25, 128)     0           ['batch_normalization_109[0][0]']\n",
            " )                                                                                                \n",
            "                                                                                                  \n",
            " bidirectional_80 (Bidirectiona  (None, 100, 256)    109056      ['batch_normalization_104[0][0]']\n",
            " l)                                                                                               \n",
            "                                                                                                  \n",
            " dense_107 (Dense)              (None, 25, 1, 64)    8256        ['max_pooling2d_33[0][0]']       \n",
            "                                                                                                  \n",
            " bidirectional_82 (Bidirectiona  (None, 100, 256)    109056      ['batch_normalization_104[0][0]']\n",
            " l)                                                                                               \n",
            "                                                                                                  \n",
            " dense_109 (Dense)              (None, 25, 64)       8256        ['max_pooling1d_33[0][0]']       \n",
            "                                                                                                  \n",
            " bidirectional_78 (Bidirectiona  (None, 100, 256)    109056      ['batch_normalization_104[0][0]']\n",
            " l)                                                                                               \n",
            "                                                                                                  \n",
            " dropout_144 (Dropout)          (None, 100, 256)     0           ['bidirectional_80[0][0]']       \n",
            "                                                                                                  \n",
            " dropout_146 (Dropout)          (None, 25, 1, 64)    0           ['dense_107[0][0]']              \n",
            "                                                                                                  \n",
            " dropout_148 (Dropout)          (None, 100, 256)     0           ['bidirectional_82[0][0]']       \n",
            "                                                                                                  \n",
            " dropout_150 (Dropout)          (None, 25, 64)       0           ['dense_109[0][0]']              \n",
            "                                                                                                  \n",
            " dropout_142 (Dropout)          (None, 100, 256)     0           ['bidirectional_78[0][0]']       \n",
            "                                                                                                  \n",
            " bidirectional_81 (Bidirectiona  (None, 100, 128)    123648      ['dropout_144[0][0]']            \n",
            " l)                                                                                               \n",
            "                                                                                                  \n",
            " dense_108 (Dense)              (None, 25, 1, 32)    2080        ['dropout_146[0][0]']            \n",
            "                                                                                                  \n",
            " bidirectional_83 (Bidirectiona  (None, 100, 128)    123648      ['dropout_148[0][0]']            \n",
            " l)                                                                                               \n",
            "                                                                                                  \n",
            " dense_110 (Dense)              (None, 25, 32)       2080        ['dropout_150[0][0]']            \n",
            "                                                                                                  \n",
            " bidirectional_79 (Bidirectiona  (None, 100, 128)    123648      ['dropout_142[0][0]']            \n",
            " l)                                                                                               \n",
            "                                                                                                  \n",
            " dropout_145 (Dropout)          (None, 100, 128)     0           ['bidirectional_81[0][0]']       \n",
            "                                                                                                  \n",
            " dropout_147 (Dropout)          (None, 25, 1, 32)    0           ['dense_108[0][0]']              \n",
            "                                                                                                  \n",
            " dropout_149 (Dropout)          (None, 100, 128)     0           ['bidirectional_83[0][0]']       \n",
            "                                                                                                  \n",
            " dropout_151 (Dropout)          (None, 25, 32)       0           ['dense_110[0][0]']              \n",
            "                                                                                                  \n",
            " dropout_143 (Dropout)          (None, 100, 128)     0           ['bidirectional_79[0][0]']       \n",
            "                                                                                                  \n",
            " flatten_72 (Flatten)           (None, 12800)        0           ['dropout_145[0][0]']            \n",
            "                                                                                                  \n",
            " flatten_73 (Flatten)           (None, 800)          0           ['dropout_147[0][0]']            \n",
            "                                                                                                  \n",
            " flatten_74 (Flatten)           (None, 12800)        0           ['dropout_149[0][0]']            \n",
            "                                                                                                  \n",
            " flatten_75 (Flatten)           (None, 800)          0           ['dropout_151[0][0]']            \n",
            "                                                                                                  \n",
            " flatten_71 (Flatten)           (None, 12800)        0           ['dropout_143[0][0]']            \n",
            "                                                                                                  \n",
            " concatenate_27 (Concatenate)   (None, 13600)        0           ['flatten_72[0][0]',             \n",
            "                                                                  'flatten_73[0][0]']             \n",
            "                                                                                                  \n",
            " concatenate_28 (Concatenate)   (None, 13600)        0           ['flatten_74[0][0]',             \n",
            "                                                                  'flatten_75[0][0]']             \n",
            "                                                                                                  \n",
            " dense_111 (Dense)              (None, 600)          7680600     ['flatten_71[0][0]']             \n",
            "                                                                                                  \n",
            " dense_112 (Dense)              (None, 600)          8160600     ['concatenate_27[0][0]']         \n",
            "                                                                                                  \n",
            " dense_113 (Dense)              (None, 600)          8160600     ['concatenate_28[0][0]']         \n",
            "                                                                                                  \n",
            " average_13 (Average)           (None, 600)          0           ['dense_111[0][0]',              \n",
            "                                                                  'dense_112[0][0]',              \n",
            "                                                                  'dense_113[0][0]']              \n",
            "                                                                                                  \n",
            "==================================================================================================\n",
            "Total params: 24,885,952\n",
            "Trainable params: 24,885,156\n",
            "Non-trainable params: 796\n",
            "__________________________________________________________________________________________________\n"
          ]
        }
      ]
    },
    {
      "cell_type": "code",
      "metadata": {
        "id": "dgeoqqK_aYsd",
        "colab": {
          "base_uri": "https://localhost:8080/"
        },
        "outputId": "a42dc9c5-e69e-4e27-87ac-5ddb5d7aaccc"
      },
      "source": [
        "gc.collect()\n",
        "gc.collect()\n",
        "gc.collect()\n",
        "gc.collect()"
      ],
      "execution_count": null,
      "outputs": [
        {
          "output_type": "execute_result",
          "data": {
            "text/plain": [
              "0"
            ]
          },
          "metadata": {},
          "execution_count": 153
        }
      ]
    },
    {
      "cell_type": "code",
      "metadata": {
        "id": "O3TzXbv3aYsd",
        "colab": {
          "base_uri": "https://localhost:8080/"
        },
        "outputId": "1c83c273-89d2-454d-c499-5c74e62d9195"
      },
      "source": [
        "model_path = path+'model_Gait_JL_A_Net_10.h5'\n",
        "model=load_model(model_path, custom_objects={'correlation_coefficient_loss_joint_10': correlation_coefficient_loss_joint_10})\n",
        "\n",
        "[yhat_1,yhat_2,yhat_3,yhat_4]=model.predict([test_X_1D,test_X_2D])\n",
        "\n",
        "\n",
        " ### Present ###\n",
        "yhat_5=yhat_4.reshape((yhat_4.shape[0]*w,6))\n",
        "test_y_r=test_y.reshape((test_y.shape[0]*w,6))\n",
        "\n",
        "print(yhat_4.shape)\n",
        "\n",
        "\n",
        "### Unpack ###\n",
        "yhat_up=unpack_dataset_present(np.array(yhat_5))\n",
        "test_y_up=unpack_dataset_present(np.array(test_y_r))\n",
        "\n",
        "\n",
        "print(yhat_up.shape,test_y_up.shape)\n",
        "\n",
        "### Present ###\n",
        "\n",
        "yhat_up=yhat_up.reshape(int(len(yhat_up)/6),6)\n",
        "test_y_up=test_y_up.reshape(int(len(test_y_up)/6),6)\n",
        "\n",
        "print(yhat_up.shape,test_y_up.shape)"
      ],
      "execution_count": null,
      "outputs": [
        {
          "output_type": "stream",
          "name": "stdout",
          "text": [
            "105/105 [==============================] - 6s 21ms/step\n",
            "(3358, 600)\n",
            "(1007400,) (1007400,)\n",
            "(167900, 6) (167900, 6)\n"
          ]
        }
      ]
    },
    {
      "cell_type": "code",
      "metadata": {
        "id": "B6bzyXLdaYsd",
        "colab": {
          "base_uri": "https://localhost:8080/"
        },
        "outputId": "f2a53e8c-c11e-448b-a6c2-9afc99ea3e16"
      },
      "source": [
        "### Present ###\n",
        "\n",
        "rmse,p= prediction_test(np.array(yhat_up),np.array(test_y_up))\n",
        "\n",
        "print(rmse[0])\n",
        "print(rmse[1])\n",
        "print(rmse[2])\n",
        "\n",
        "m=np.mean(rmse)\n",
        "\n",
        "print('\\n')\n",
        "print(m)\n",
        "\n",
        "print('\\n')\n",
        "\n",
        "print(p[0])\n",
        "print(p[1])\n",
        "print(p[2])\n",
        "print('\\n')\n",
        "\n",
        "print(np.mean(p))"
      ],
      "execution_count": null,
      "outputs": [
        {
          "output_type": "stream",
          "name": "stdout",
          "text": [
            "4.962738645936229\n",
            "5.379257372163988\n",
            "3.256918311203039\n",
            "\n",
            "\n",
            "4.5329714431010855\n",
            "\n",
            "\n",
            "0.9640404530882711\n",
            "0.9735836150567745\n",
            "0.9426015784024147\n",
            "\n",
            "\n",
            "0.9600752155158201\n"
          ]
        }
      ]
    },
    {
      "cell_type": "code",
      "metadata": {
        "id": "4hLVMtg6aYsd"
      },
      "source": [
        "RMSE_Gait_JL_A_Net_10=rmse\n",
        "PCC_Gait_JL_A_Net_10=p\n",
        "\n",
        "Ablation_18=np.hstack([RMSE_Gait_JL_A_Net_10,PCC_Gait_JL_A_Net_10])"
      ],
      "execution_count": null,
      "outputs": []
    },
    {
      "cell_type": "markdown",
      "metadata": {
        "id": "NM2Lwa-vY9Fs"
      },
      "source": [
        "# Results"
      ]
    },
    {
      "cell_type": "code",
      "metadata": {
        "id": "WDrtuwba-u1O"
      },
      "source": [
        "all_results=np.vstack([Ablation_1,Ablation_2,Ablation_3,Ablation_4,Ablation_5,Ablation_6,Ablation_7,Ablation_8,Ablation_9,Ablation_10,Ablation_11,Ablation_12,Ablation_13,Ablation_14,Ablation_15,Ablation_16,Ablation_17,Ablation_18])\n",
        "from numpy import savetxt\n",
        "\n",
        "savetxt('/content/drive/My Drive/Conference paper/subject 2/subject_2_results.csv', all_results, delimiter=',')"
      ],
      "execution_count": null,
      "outputs": []
    }
  ]
}